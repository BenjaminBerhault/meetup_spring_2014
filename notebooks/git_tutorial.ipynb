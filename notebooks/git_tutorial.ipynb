{
 "metadata": {
  "name": "",
  "signature": "sha256:d9eb7f5f4b3fbc9181328314428edf2bccb88c46cb93fe98efab70e495af09d7"
 },
 "nbformat": 3,
 "nbformat_minor": 0,
 "worksheets": [
  {
   "cells": [
    {
     "cell_type": "heading",
     "level": 1,
     "metadata": {},
     "source": [
      "Introduction to Git Tutorial"
     ]
    },
    {
     "cell_type": "heading",
     "level": 3,
     "metadata": {},
     "source": [
      "Let's check our current directory."
     ]
    },
    {
     "cell_type": "code",
     "collapsed": false,
     "input": [
      "pwd"
     ],
     "language": "python",
     "metadata": {},
     "outputs": [
      {
       "output_type": "stream",
       "stream": "stdout",
       "text": [
        "/Users/knuths/Documents/Tutorials/Git/notebook/temporary_git\n"
       ]
      }
     ],
     "prompt_number": 1
    },
    {
     "cell_type": "heading",
     "level": 3,
     "metadata": {},
     "source": [
      "Let's check the status of our repository."
     ]
    },
    {
     "cell_type": "code",
     "collapsed": false,
     "input": [
      "git status"
     ],
     "language": "python",
     "metadata": {},
     "outputs": [
      {
       "output_type": "stream",
       "stream": "stderr",
       "text": [
        "fatal: Not a git repository (or any of the parent directories): .git\n"
       ]
      }
     ],
     "prompt_number": 2
    },
    {
     "cell_type": "heading",
     "level": 3,
     "metadata": {},
     "source": [
      "Whoops!  We have not made this a repository yet.  Let's fix that and track an existing project."
     ]
    },
    {
     "cell_type": "code",
     "collapsed": false,
     "input": [
      "git init"
     ],
     "language": "python",
     "metadata": {},
     "outputs": [
      {
       "output_type": "stream",
       "stream": "stdout",
       "text": [
        "Initialized empty Git repository in /Users/knuths/Documents/Tutorials/Git/notebook/temporary_git/.git/\n"
       ]
      }
     ],
     "prompt_number": 3
    },
    {
     "cell_type": "code",
     "collapsed": false,
     "input": [
      "git status"
     ],
     "language": "python",
     "metadata": {},
     "outputs": [
      {
       "output_type": "stream",
       "stream": "stdout",
       "text": [
        "On branch master\n",
        "\n",
        "Initial commit\n",
        "\n",
        "Untracked files:\n",
        "  (use \"git add <file>...\" to include in what will be committed)\n",
        "\n",
        "\tGit Tutorial.ipynb\n",
        "\n",
        "nothing added to commit but untracked files present (use \"git add\" to track)\n"
       ]
      }
     ],
     "prompt_number": 4
    },
    {
     "cell_type": "heading",
     "level": 3,
     "metadata": {},
     "source": [
      "Now we see that we are tracking our project.  We are on the master branch, we have untracked flies (this notebook), and haven't committed anything."
     ]
    },
    {
     "cell_type": "heading",
     "level": 3,
     "metadata": {},
     "source": [
      "We do see a new directory in the parent directory however."
     ]
    },
    {
     "cell_type": "code",
     "collapsed": false,
     "input": [
      "ls -laF"
     ],
     "language": "python",
     "metadata": {},
     "outputs": [
      {
       "output_type": "stream",
       "stream": "stdout",
       "text": [
        "total 56\n",
        "drwxr-xr-x   4 knuths  AD\\Domain Users    136 May  1 10:08 ./\n",
        "drwxr-xr-x   3 knuths  AD\\Domain Users    102 May  1 10:06 ../\n",
        "drwxr-xr-x  10 knuths  AD\\Domain Users    340 May  1 10:08 .git/\n",
        "-rw-r--r--@  1 knuths  AD\\Domain Users  26344 May  1 10:06 Git Tutorial.ipynb\n"
       ]
      }
     ],
     "prompt_number": 5
    },
    {
     "cell_type": "heading",
     "level": 3,
     "metadata": {},
     "source": [
      "The .git directory contains all the important information about our project."
     ]
    },
    {
     "cell_type": "heading",
     "level": 3,
     "metadata": {},
     "source": [
      "Now let's create a text file and check the status of our project once we add the file."
     ]
    },
    {
     "cell_type": "code",
     "collapsed": false,
     "input": [
      "touch temporary_git_file.txt\n",
      "git status"
     ],
     "language": "python",
     "metadata": {},
     "outputs": [
      {
       "output_type": "stream",
       "stream": "stdout",
       "text": [
        "On branch master\n",
        "\n",
        "Initial commit\n",
        "\n",
        "Untracked files:\n",
        "  (use \"git add <file>...\" to include in what will be committed)\n",
        "\n",
        "\tGit Tutorial.ipynb\n",
        "\ttemporary_git_file.txt\n",
        "\n",
        "nothing added to commit but untracked files present (use \"git add\" to track)\n"
       ]
      }
     ],
     "prompt_number": 6
    },
    {
     "cell_type": "heading",
     "level": 3,
     "metadata": {},
     "source": [
      "Here we see that we have an untracked file (in addition to the notebook), temporary_git_file.txt.  We also see that we are still on the master branch."
     ]
    },
    {
     "cell_type": "heading",
     "level": 3,
     "metadata": {},
     "source": [
      "Before we go any further, we are going to set up our project so that we are ignoring the notebook file.  I don't want to track it for the purposes of this tutorial because it will be confusing when what we are really interested in doing is tracking the changes in the temporary_git_file.  To do this, we add a file called .gitignore to the root directory of our project, and then add the name of the file we want to ignore.\n",
      "\n"
     ]
    },
    {
     "cell_type": "code",
     "collapsed": false,
     "input": [
      "pwd"
     ],
     "language": "python",
     "metadata": {},
     "outputs": [
      {
       "output_type": "stream",
       "stream": "stdout",
       "text": [
        "/Users/knuths/Documents/Tutorials/Git/notebook/temporary_git\n"
       ]
      }
     ],
     "prompt_number": 7
    },
    {
     "cell_type": "code",
     "collapsed": false,
     "input": [
      "touch .gitignore"
     ],
     "language": "python",
     "metadata": {},
     "outputs": [],
     "prompt_number": 8
    },
    {
     "cell_type": "code",
     "collapsed": false,
     "input": [
      "ls -laF"
     ],
     "language": "python",
     "metadata": {},
     "outputs": [
      {
       "output_type": "stream",
       "stream": "stdout",
       "text": [
        "total 48\n",
        "drwxr-xr-x   6 knuths  AD\\Domain Users    204 May  1 10:10 ./\n",
        "drwxr-xr-x   3 knuths  AD\\Domain Users    102 May  1 10:06 ../\n",
        "drwxr-xr-x  10 knuths  AD\\Domain Users    340 May  1 10:08 .git/\n",
        "-rw-r--r--   1 knuths  AD\\Domain Users      0 May  1 10:10 .gitignore\n",
        "-rw-r--r--@  1 knuths  AD\\Domain Users  23977 May  1 10:10 Git Tutorial.ipynb\n",
        "-rw-r--r--   1 knuths  AD\\Domain Users      0 May  1 10:08 temporary_git_file.txt\n"
       ]
      }
     ],
     "prompt_number": 9
    },
    {
     "cell_type": "code",
     "collapsed": false,
     "input": [
      "echo \"Git Tutorial.ipynb\" > .gitignore\n",
      "cat .gitignore"
     ],
     "language": "python",
     "metadata": {},
     "outputs": [
      {
       "output_type": "stream",
       "stream": "stdout",
       "text": [
        "Git Tutorial.ipynb\n"
       ]
      }
     ],
     "prompt_number": 10
    },
    {
     "cell_type": "code",
     "collapsed": false,
     "input": [
      "git status"
     ],
     "language": "python",
     "metadata": {},
     "outputs": [
      {
       "output_type": "stream",
       "stream": "stdout",
       "text": [
        "On branch master\n",
        "\n",
        "Initial commit\n",
        "\n",
        "Untracked files:\n",
        "  (use \"git add <file>...\" to include in what will be committed)\n",
        "\n",
        "\t.gitignore\n",
        "\ttemporary_git_file.txt\n",
        "\n",
        "nothing added to commit but untracked files present (use \"git add\" to track)\n"
       ]
      }
     ],
     "prompt_number": 11
    },
    {
     "cell_type": "heading",
     "level": 3,
     "metadata": {},
     "source": [
      "Now we see that git no longer cares about our ipython notebook file.  It only cares about the .gitignore file.  Let's stage and commit that file and get it out of the way."
     ]
    },
    {
     "cell_type": "code",
     "collapsed": false,
     "input": [
      "git add .gitignore"
     ],
     "language": "python",
     "metadata": {},
     "outputs": [],
     "prompt_number": 12
    },
    {
     "cell_type": "code",
     "collapsed": false,
     "input": [
      "git status"
     ],
     "language": "python",
     "metadata": {},
     "outputs": [
      {
       "output_type": "stream",
       "stream": "stdout",
       "text": [
        "On branch master\n",
        "\n",
        "Initial commit\n",
        "\n",
        "Changes to be committed:\n",
        "  (use \"git rm --cached <file>...\" to unstage)\n",
        "\n",
        "\tnew file:   .gitignore\n",
        "\n",
        "Untracked files:\n",
        "  (use \"git add <file>...\" to include in what will be committed)\n",
        "\n",
        "\ttemporary_git_file.txt\n",
        "\n"
       ]
      }
     ],
     "prompt_number": 13
    },
    {
     "cell_type": "code",
     "collapsed": false,
     "input": [
      "git commit -v -m 'gitignore'"
     ],
     "language": "python",
     "metadata": {},
     "outputs": [
      {
       "output_type": "stream",
       "stream": "stdout",
       "text": [
        "[master (root-commit) bcb7d33] gitignore\n",
        " 1 file changed, 1 insertion(+)\n",
        " create mode 100644 .gitignore\n"
       ]
      }
     ],
     "prompt_number": 14
    },
    {
     "cell_type": "code",
     "collapsed": false,
     "input": [
      "git status"
     ],
     "language": "python",
     "metadata": {},
     "outputs": [
      {
       "output_type": "stream",
       "stream": "stdout",
       "text": [
        "On branch master\n",
        "Untracked files:\n",
        "  (use \"git add <file>...\" to include in what will be committed)\n",
        "\n",
        "\ttemporary_git_file.txt\n",
        "\n",
        "nothing added to commit but untracked files present (use \"git add\" to track)\n"
       ]
      }
     ],
     "prompt_number": 15
    },
    {
     "cell_type": "heading",
     "level": 3,
     "metadata": {},
     "source": [
      "So, we have committed the .gitignore file, but we are still not tracking our temporary_git_file.txt.  Let's change that."
     ]
    },
    {
     "cell_type": "code",
     "collapsed": false,
     "input": [
      "git add temporary_git_file.txt"
     ],
     "language": "python",
     "metadata": {},
     "outputs": [],
     "prompt_number": 16
    },
    {
     "cell_type": "code",
     "collapsed": false,
     "input": [
      "git status"
     ],
     "language": "python",
     "metadata": {},
     "outputs": [
      {
       "output_type": "stream",
       "stream": "stdout",
       "text": [
        "On branch master\n",
        "Changes to be committed:\n",
        "  (use \"git reset HEAD <file>...\" to unstage)\n",
        "\n",
        "\tnew file:   temporary_git_file.txt\n",
        "\n"
       ]
      }
     ],
     "prompt_number": 17
    },
    {
     "cell_type": "heading",
     "level": 3,
     "metadata": {},
     "source": [
      "Now we see that we are tracking the temporary_git_file.txt. It's currently \"staged\" but not yet \"committed\". We know it's staged since it says \"Changes to be committed\"."
     ]
    },
    {
     "cell_type": "heading",
     "level": 3,
     "metadata": {},
     "source": [
      "Let's change the temporary_git_file.txt and run the status command again."
     ]
    },
    {
     "cell_type": "code",
     "collapsed": false,
     "input": [
      "echo \"Change 1\" > temporary_git_file.txt\n",
      "cat temporary_git_file.txt"
     ],
     "language": "python",
     "metadata": {},
     "outputs": [
      {
       "output_type": "stream",
       "stream": "stdout",
       "text": [
        "Change 1\n"
       ]
      }
     ],
     "prompt_number": 18
    },
    {
     "cell_type": "code",
     "collapsed": false,
     "input": [
      "git status"
     ],
     "language": "python",
     "metadata": {},
     "outputs": [
      {
       "output_type": "stream",
       "stream": "stdout",
       "text": [
        "On branch master\n",
        "Changes to be committed:\n",
        "  (use \"git reset HEAD <file>...\" to unstage)\n",
        "\n",
        "\tnew file:   temporary_git_file.txt\n",
        "\n",
        "Changes not staged for commit:\n",
        "  (use \"git add <file>...\" to update what will be committed)\n",
        "  (use \"git checkout -- <file>...\" to discard changes in working directory)\n",
        "\n",
        "\tmodified:   temporary_git_file.txt\n",
        "\n"
       ]
      }
     ],
     "prompt_number": 19
    },
    {
     "cell_type": "heading",
     "level": 3,
     "metadata": {},
     "source": [
      "Now we see that our file appears under the \"Changes to be committed\" and \"Changes not staged for commit\" heading.  How are we both staged and unstaged?"
     ]
    },
    {
     "cell_type": "heading",
     "level": 3,
     "metadata": {},
     "source": [
      "This is because we created our file, staged it, and then made a change that has not yet been staged.    If we committed right now, the \"Change 1\" alteration to the temporary_git_file.txt wouldn't be included."
     ]
    },
    {
     "cell_type": "heading",
     "level": 3,
     "metadata": {},
     "source": [
      "So let's quick get that change staged and check our status again."
     ]
    },
    {
     "cell_type": "code",
     "collapsed": false,
     "input": [
      "git add temporary_git_file.txt"
     ],
     "language": "python",
     "metadata": {},
     "outputs": [],
     "prompt_number": 20
    },
    {
     "cell_type": "code",
     "collapsed": false,
     "input": [
      "git status"
     ],
     "language": "python",
     "metadata": {},
     "outputs": [
      {
       "output_type": "stream",
       "stream": "stdout",
       "text": [
        "On branch master\n",
        "Changes to be committed:\n",
        "  (use \"git reset HEAD <file>...\" to unstage)\n",
        "\n",
        "\tnew file:   temporary_git_file.txt\n",
        "\n"
       ]
      }
     ],
     "prompt_number": 21
    },
    {
     "cell_type": "heading",
     "level": 3,
     "metadata": {},
     "source": [
      "Looking at the output of the git status command, we don't really get much information about the exact contents of the file or what was changed.  "
     ]
    },
    {
     "cell_type": "heading",
     "level": 3,
     "metadata": {},
     "source": [
      "Before we commit, let's make another change and use a more versed way of getting at exactly what was changed."
     ]
    },
    {
     "cell_type": "code",
     "collapsed": false,
     "input": [
      "echo \"Change 2\" >> temporary_git_file.txt\n",
      "cat temporary_git_file.txt"
     ],
     "language": "python",
     "metadata": {},
     "outputs": [
      {
       "output_type": "stream",
       "stream": "stdout",
       "text": [
        "Change 1\n",
        "Change 2\n"
       ]
      }
     ],
     "prompt_number": 22
    },
    {
     "cell_type": "code",
     "collapsed": false,
     "input": [
      "git diff --cached"
     ],
     "language": "python",
     "metadata": {},
     "outputs": [
      {
       "output_type": "stream",
       "stream": "stdout",
       "text": [
        "diff --git a/temporary_git_file.txt b/temporary_git_file.txt\n",
        "new file mode 100644\n",
        "index 0000000..bf58b17\n",
        "--- /dev/null\n",
        "+++ b/temporary_git_file.txt\n",
        "@@ -0,0 +1 @@\n",
        "+Change 1\n"
       ]
      }
     ],
     "prompt_number": 23
    },
    {
     "cell_type": "heading",
     "level": 3,
     "metadata": {},
     "source": [
      "This is a lot more verbose.  But wait, where's \"Change 2\" that we added?  Ah, git diff will only tell us about changes that have been staged.  If we staged our last change and run get diff again we should see our \"Change 2\" addition."
     ]
    },
    {
     "cell_type": "code",
     "collapsed": false,
     "input": [
      "git add temporary_git_file.txt"
     ],
     "language": "python",
     "metadata": {},
     "outputs": [],
     "prompt_number": 24
    },
    {
     "cell_type": "code",
     "collapsed": false,
     "input": [
      "git diff --cached"
     ],
     "language": "python",
     "metadata": {},
     "outputs": [
      {
       "output_type": "stream",
       "stream": "stdout",
       "text": [
        "diff --git a/temporary_git_file.txt b/temporary_git_file.txt\n",
        "new file mode 100644\n",
        "index 0000000..10a7b9e\n",
        "--- /dev/null\n",
        "+++ b/temporary_git_file.txt\n",
        "@@ -0,0 +1,2 @@\n",
        "+Change 1\n",
        "+Change 2\n"
       ]
      }
     ],
     "prompt_number": 25
    },
    {
     "cell_type": "heading",
     "level": 3,
     "metadata": {},
     "source": [
      "Yay!  Ok, let's commit.  Remember, anything unstaged will not be committed.  They stay though as modified files on your desk.  We have staged everything so this won't be a problem for us here."
     ]
    },
    {
     "cell_type": "code",
     "collapsed": false,
     "input": [
      "git commit -v -m 'initial version'"
     ],
     "language": "python",
     "metadata": {},
     "outputs": [
      {
       "output_type": "stream",
       "stream": "stdout",
       "text": [
        "[master 91ae179] initial version\n",
        " 1 file changed, 2 insertions(+)\n",
        " create mode 100644 temporary_git_file.txt\n"
       ]
      }
     ],
     "prompt_number": 26
    },
    {
     "cell_type": "heading",
     "level": 3,
     "metadata": {},
     "source": [
      "Here's we've committed our changes to a local repository.  We have added metadata to this change that says this is the initial version.  We did this with the \"-m\" flag, but if you don't add that a text editor will open and allow you to add it in on the spot.  The \"-v\" adds in the \"git diff\" output so your metadata is a bit more verbose."
     ]
    },
    {
     "cell_type": "heading",
     "level": 3,
     "metadata": {},
     "source": [
      "At any time, if I want to look at my commit history, I can see that here."
     ]
    },
    {
     "cell_type": "code",
     "collapsed": false,
     "input": [
      "git log"
     ],
     "language": "python",
     "metadata": {},
     "outputs": [
      {
       "output_type": "stream",
       "stream": "stdout",
       "text": [
        "commit 91ae1791efb66698a249dd8fa7ff2ef57e7446b6\n",
        "Author: Shelley Knuth <shelley.knuth@colorado.edu>\n",
        "Date:   Thu May 1 10:16:49 2014 -0600\n",
        "\n",
        "    initial version\n",
        "\n",
        "commit bcb7d33edf73666481633100645ad44e8074af65\n",
        "Author: Shelley Knuth <shelley.knuth@colorado.edu>\n",
        "Date:   Thu May 1 10:10:46 2014 -0600\n",
        "\n",
        "    gitignore\n"
       ]
      }
     ],
     "prompt_number": 27
    },
    {
     "cell_type": "heading",
     "level": 3,
     "metadata": {},
     "source": [
      "Here we see the two commits we've already made, who made them, when they were made, and the commit id."
     ]
    },
    {
     "cell_type": "heading",
     "level": 1,
     "metadata": {},
     "source": [
      "Let's do some file recovery."
     ]
    },
    {
     "cell_type": "heading",
     "level": 3,
     "metadata": {},
     "source": [
      "Let's see what happens when we change our text file, and remove it without staging or committing the revisions."
     ]
    },
    {
     "cell_type": "code",
     "collapsed": false,
     "input": [
      "echo \"Change 3\" >> temporary_git_file.txt\n",
      "cat temporary_git_file.txt"
     ],
     "language": "python",
     "metadata": {},
     "outputs": [
      {
       "output_type": "stream",
       "stream": "stdout",
       "text": [
        "Change 1\n",
        "Change 2\n",
        "Change 3\n"
       ]
      }
     ],
     "prompt_number": 28
    },
    {
     "cell_type": "code",
     "collapsed": false,
     "input": [
      "rm temporary_git_file.txt"
     ],
     "language": "python",
     "metadata": {},
     "outputs": [],
     "prompt_number": 29
    },
    {
     "cell_type": "code",
     "collapsed": false,
     "input": [
      "ls"
     ],
     "language": "python",
     "metadata": {},
     "outputs": [
      {
       "output_type": "stream",
       "stream": "stdout",
       "text": [
        "Git Tutorial.ipynb\n"
       ]
      }
     ],
     "prompt_number": 30
    },
    {
     "cell_type": "heading",
     "level": 3,
     "metadata": {},
     "source": [
      "The file is gone.  Let's check the status."
     ]
    },
    {
     "cell_type": "code",
     "collapsed": false,
     "input": [
      "git status"
     ],
     "language": "python",
     "metadata": {},
     "outputs": [
      {
       "output_type": "stream",
       "stream": "stdout",
       "text": [
        "On branch master\n",
        "Changes not staged for commit:\n",
        "  (use \"git add/rm <file>...\" to update what will be committed)\n",
        "  (use \"git checkout -- <file>...\" to discard changes in working directory)\n",
        "\n",
        "\tdeleted:    temporary_git_file.txt\n",
        "\n",
        "no changes added to commit (use \"git add\" and/or \"git commit -a\")\n"
       ]
      }
     ],
     "prompt_number": 31
    },
    {
     "cell_type": "heading",
     "level": 3,
     "metadata": {},
     "source": [
      "The file isn't *really* gone though.  It can be recovered.  What is gone though is \"Change 3\", since as far as git is concerned, you never made that change."
     ]
    },
    {
     "cell_type": "heading",
     "level": 3,
     "metadata": {},
     "source": [
      "The good news is that we can recover the file with the changes from our last commit (\"Change 2\" in this case)."
     ]
    },
    {
     "cell_type": "code",
     "collapsed": false,
     "input": [
      "git checkout temporary_git_file.txt"
     ],
     "language": "python",
     "metadata": {},
     "outputs": [],
     "prompt_number": 32
    },
    {
     "cell_type": "code",
     "collapsed": false,
     "input": [
      "cat temporary_git_file.txt"
     ],
     "language": "python",
     "metadata": {},
     "outputs": [
      {
       "output_type": "stream",
       "stream": "stdout",
       "text": [
        "Change 1\n",
        "Change 2\n"
       ]
      }
     ],
     "prompt_number": 33
    },
    {
     "cell_type": "heading",
     "level": 3,
     "metadata": {},
     "source": [
      "As we suspected, we lost our last change (\"Change 3\"), but at least we have everything else."
     ]
    },
    {
     "cell_type": "heading",
     "level": 3,
     "metadata": {},
     "source": [
      "Now let's try another recovery.  Let's make some changes to the file and remove it, but first we'll stage the changes."
     ]
    },
    {
     "cell_type": "code",
     "collapsed": false,
     "input": [
      "echo \"Change 3a\" >> temporary_git_file.txt\n",
      "cat temporary_git_file.txt"
     ],
     "language": "python",
     "metadata": {},
     "outputs": [
      {
       "output_type": "stream",
       "stream": "stdout",
       "text": [
        "Change 1\n",
        "Change 2\n",
        "Change 3a\n"
       ]
      }
     ],
     "prompt_number": 34
    },
    {
     "cell_type": "code",
     "collapsed": false,
     "input": [
      "git add temporary_git_file.txt"
     ],
     "language": "python",
     "metadata": {},
     "outputs": [],
     "prompt_number": 35
    },
    {
     "cell_type": "code",
     "collapsed": false,
     "input": [
      "git status"
     ],
     "language": "python",
     "metadata": {},
     "outputs": [
      {
       "output_type": "stream",
       "stream": "stdout",
       "text": [
        "On branch master\n",
        "Changes to be committed:\n",
        "  (use \"git reset HEAD <file>...\" to unstage)\n",
        "\n",
        "\tmodified:   temporary_git_file.txt\n",
        "\n"
       ]
      }
     ],
     "prompt_number": 36
    },
    {
     "cell_type": "code",
     "collapsed": false,
     "input": [
      "rm temporary_git_file.txt"
     ],
     "language": "python",
     "metadata": {},
     "outputs": [],
     "prompt_number": 37
    },
    {
     "cell_type": "code",
     "collapsed": false,
     "input": [
      "ls"
     ],
     "language": "python",
     "metadata": {},
     "outputs": [
      {
       "output_type": "stream",
       "stream": "stdout",
       "text": [
        "Git Tutorial.ipynb\n"
       ]
      }
     ],
     "prompt_number": 38
    },
    {
     "cell_type": "heading",
     "level": 3,
     "metadata": {},
     "source": [
      "Oh no!  The file is gone again!  Let's run our git status."
     ]
    },
    {
     "cell_type": "code",
     "collapsed": false,
     "input": [
      "git status"
     ],
     "language": "python",
     "metadata": {},
     "outputs": [
      {
       "output_type": "stream",
       "stream": "stdout",
       "text": [
        "On branch master\n",
        "Changes to be committed:\n",
        "  (use \"git reset HEAD <file>...\" to unstage)\n",
        "\n",
        "\tmodified:   temporary_git_file.txt\n",
        "\n",
        "Changes not staged for commit:\n",
        "  (use \"git add/rm <file>...\" to update what will be committed)\n",
        "  (use \"git checkout -- <file>...\" to discard changes in working directory)\n",
        "\n",
        "\tdeleted:    temporary_git_file.txt\n",
        "\n"
       ]
      }
     ],
     "prompt_number": 39
    },
    {
     "cell_type": "heading",
     "level": 3,
     "metadata": {},
     "source": [
      "But!  We're in luck.  Our staged changes show that we have modified our most recent file, and the unstaged changes show that we deleted the file.  So really, all we need to do here is commit the changes and checkout our file, and all is good."
     ]
    },
    {
     "cell_type": "code",
     "collapsed": false,
     "input": [
      "git commit -v -m 'Version 2'"
     ],
     "language": "python",
     "metadata": {},
     "outputs": [
      {
       "output_type": "stream",
       "stream": "stdout",
       "text": [
        "[master 21f72a2] Version 2\n",
        " 1 file changed, 1 insertion(+)\n"
       ]
      }
     ],
     "prompt_number": 40
    },
    {
     "cell_type": "code",
     "collapsed": false,
     "input": [
      "ls"
     ],
     "language": "python",
     "metadata": {},
     "outputs": [
      {
       "output_type": "stream",
       "stream": "stdout",
       "text": [
        "Git Tutorial.ipynb\n"
       ]
      }
     ],
     "prompt_number": 41
    },
    {
     "cell_type": "heading",
     "level": 3,
     "metadata": {},
     "source": [
      "The file is still gone, but if we check it out from our local repository then we can get our latest change."
     ]
    },
    {
     "cell_type": "code",
     "collapsed": false,
     "input": [
      "git checkout temporary_git_file.txt"
     ],
     "language": "python",
     "metadata": {},
     "outputs": [],
     "prompt_number": 42
    },
    {
     "cell_type": "code",
     "collapsed": false,
     "input": [
      "ls"
     ],
     "language": "python",
     "metadata": {},
     "outputs": [
      {
       "output_type": "stream",
       "stream": "stdout",
       "text": [
        "Git Tutorial.ipynb\n",
        "temporary_git_file.txt\n"
       ]
      }
     ],
     "prompt_number": 43
    },
    {
     "cell_type": "code",
     "collapsed": false,
     "input": [
      "cat temporary_git_file.txt"
     ],
     "language": "python",
     "metadata": {},
     "outputs": [
      {
       "output_type": "stream",
       "stream": "stdout",
       "text": [
        "Change 1\n",
        "Change 2\n",
        "Change 3a\n"
       ]
      }
     ],
     "prompt_number": 44
    },
    {
     "cell_type": "heading",
     "level": 3,
     "metadata": {},
     "source": [
      "Yippee!!  The world is good."
     ]
    },
    {
     "cell_type": "heading",
     "level": 1,
     "metadata": {},
     "source": [
      "Other Fun Items"
     ]
    },
    {
     "cell_type": "heading",
     "level": 3,
     "metadata": {},
     "source": [
      "Again, at any time, if I want to look at my commit history, I can see that here."
     ]
    },
    {
     "cell_type": "code",
     "collapsed": false,
     "input": [
      "git log"
     ],
     "language": "python",
     "metadata": {},
     "outputs": [
      {
       "output_type": "stream",
       "stream": "stdout",
       "text": [
        "commit 21f72a23430bbdc754e13d7824824951a6490072\n",
        "Author: Shelley Knuth <shelley.knuth@colorado.edu>\n",
        "Date:   Thu May 1 10:24:28 2014 -0600\n",
        "\n",
        "    Version 2\n",
        "\n",
        "commit 91ae1791efb66698a249dd8fa7ff2ef57e7446b6\n",
        "Author: Shelley Knuth <shelley.knuth@colorado.edu>\n",
        "Date:   Thu May 1 10:16:49 2014 -0600\n",
        "\n",
        "    initial version\n",
        "\n",
        "commit bcb7d33edf73666481633100645ad44e8074af65\n",
        "Author: Shelley Knuth <shelley.knuth@colorado.edu>\n",
        "Date:   Thu May 1 10:10:46 2014 -0600\n",
        "\n",
        "    gitignore\n"
       ]
      }
     ],
     "prompt_number": 45
    },
    {
     "cell_type": "heading",
     "level": 3,
     "metadata": {},
     "source": [
      "Yuck!  I don't like what I called my last commit.  Let's go back and change that."
     ]
    },
    {
     "cell_type": "code",
     "collapsed": false,
     "input": [
      "git commit --amend -m 'Second Version'"
     ],
     "language": "python",
     "metadata": {},
     "outputs": [
      {
       "output_type": "stream",
       "stream": "stdout",
       "text": [
        "[master b219420] Second Version\n",
        " 1 file changed, 1 insertion(+)\n"
       ]
      }
     ],
     "prompt_number": 46
    },
    {
     "cell_type": "code",
     "collapsed": false,
     "input": [
      "git log"
     ],
     "language": "python",
     "metadata": {},
     "outputs": [
      {
       "output_type": "stream",
       "stream": "stdout",
       "text": [
        "commit b2194202a25d396bb2b23fbfdfc411e5661070cd\n",
        "Author: Shelley Knuth <shelley.knuth@colorado.edu>\n",
        "Date:   Thu May 1 10:24:28 2014 -0600\n",
        "\n",
        "    Second Version\n",
        "\n",
        "commit 91ae1791efb66698a249dd8fa7ff2ef57e7446b6\n",
        "Author: Shelley Knuth <shelley.knuth@colorado.edu>\n",
        "Date:   Thu May 1 10:16:49 2014 -0600\n",
        "\n",
        "    initial version\n",
        "\n",
        "commit bcb7d33edf73666481633100645ad44e8074af65\n",
        "Author: Shelley Knuth <shelley.knuth@colorado.edu>\n",
        "Date:   Thu May 1 10:10:46 2014 -0600\n",
        "\n",
        "    gitignore\n"
       ]
      }
     ],
     "prompt_number": 47
    },
    {
     "cell_type": "heading",
     "level": 3,
     "metadata": {},
     "source": [
      "You can change the metadata or even add files to the previous commit that you forgot you wanted to add."
     ]
    },
    {
     "cell_type": "code",
     "collapsed": false,
     "input": [
      "touch temporary_git_file1.txt\n",
      "echo \"Change 1 New Commit\" >> temporary_git_file1.txt\n",
      "cat temporary_git_file1.txt"
     ],
     "language": "python",
     "metadata": {},
     "outputs": [
      {
       "output_type": "stream",
       "stream": "stdout",
       "text": [
        "Change 1 New Commit\n"
       ]
      }
     ],
     "prompt_number": 48
    },
    {
     "cell_type": "code",
     "collapsed": false,
     "input": [
      "git status"
     ],
     "language": "python",
     "metadata": {},
     "outputs": [
      {
       "output_type": "stream",
       "stream": "stdout",
       "text": [
        "On branch master\n",
        "Untracked files:\n",
        "  (use \"git add <file>...\" to include in what will be committed)\n",
        "\n",
        "\ttemporary_git_file1.txt\n",
        "\n",
        "nothing added to commit but untracked files present (use \"git add\" to track)\n"
       ]
      }
     ],
     "prompt_number": 49
    },
    {
     "cell_type": "code",
     "collapsed": false,
     "input": [
      "git add temporary_git_file1.txt\n",
      "git commit --amend --no-edit"
     ],
     "language": "python",
     "metadata": {},
     "outputs": [
      {
       "output_type": "stream",
       "stream": "stdout",
       "text": [
        "[master 70753b2] Second Version\n",
        " 2 files changed, 2 insertions(+)\n",
        " create mode 100644 temporary_git_file1.txt\n"
       ]
      }
     ],
     "prompt_number": 50
    },
    {
     "cell_type": "code",
     "collapsed": false,
     "input": [
      "git log"
     ],
     "language": "python",
     "metadata": {},
     "outputs": [
      {
       "output_type": "stream",
       "stream": "stdout",
       "text": [
        "commit 70753b252d59a8403062600d1252d9e018b2029b\n",
        "Author: Shelley Knuth <shelley.knuth@colorado.edu>\n",
        "Date:   Thu May 1 10:24:28 2014 -0600\n",
        "\n",
        "    Second Version\n",
        "\n",
        "commit 91ae1791efb66698a249dd8fa7ff2ef57e7446b6\n",
        "Author: Shelley Knuth <shelley.knuth@colorado.edu>\n",
        "Date:   Thu May 1 10:16:49 2014 -0600\n",
        "\n",
        "    initial version\n",
        "\n",
        "commit bcb7d33edf73666481633100645ad44e8074af65\n",
        "Author: Shelley Knuth <shelley.knuth@colorado.edu>\n",
        "Date:   Thu May 1 10:10:46 2014 -0600\n",
        "\n",
        "    gitignore\n"
       ]
      }
     ],
     "prompt_number": 51
    },
    {
     "cell_type": "heading",
     "level": 3,
     "metadata": {},
     "source": [
      "This doesn't tell me much about what files were changed in each commit though.  I can do that a couple of ways."
     ]
    },
    {
     "cell_type": "code",
     "collapsed": false,
     "input": [
      "git show"
     ],
     "language": "python",
     "metadata": {},
     "outputs": [
      {
       "output_type": "stream",
       "stream": "stdout",
       "text": [
        "commit 70753b252d59a8403062600d1252d9e018b2029b\n",
        "Author: Shelley Knuth <shelley.knuth@colorado.edu>\n",
        "Date:   Thu May 1 10:24:28 2014 -0600\n",
        "\n",
        "    Second Version\n",
        "\n",
        "diff --git a/temporary_git_file.txt b/temporary_git_file.txt\n",
        "index 10a7b9e..6b01bff 100644\n",
        "--- a/temporary_git_file.txt\n",
        "+++ b/temporary_git_file.txt\n",
        "@@ -1,2 +1,3 @@\n",
        " Change 1\n",
        " Change 2\n",
        "+Change 3a\n",
        "diff --git a/temporary_git_file1.txt b/temporary_git_file1.txt\n",
        "new file mode 100644\n",
        "index 0000000..ddaf82d\n",
        "--- /dev/null\n",
        "+++ b/temporary_git_file1.txt\n",
        "@@ -0,0 +1 @@\n",
        "+Change 1 New Commit\n"
       ]
      }
     ],
     "prompt_number": 52
    },
    {
     "cell_type": "heading",
     "level": 3,
     "metadata": {},
     "source": [
      "This shows me every file that was changed in the last commit and what was changed.  If your files are really long though this can get cumbersome.  If you just want to know what files were changed, you can do the following:"
     ]
    },
    {
     "cell_type": "code",
     "collapsed": false,
     "input": [
      "git diff-tree --no-commit-id --name-only -r 70753b252"
     ],
     "language": "python",
     "metadata": {},
     "outputs": [
      {
       "output_type": "stream",
       "stream": "stdout",
       "text": [
        "temporary_git_file.txt\n",
        "temporary_git_file1.txt\n"
       ]
      }
     ],
     "prompt_number": 53
    },
    {
     "cell_type": "heading",
     "level": 3,
     "metadata": {},
     "source": [
      "Where the number at the end is part of the commit id number.  I *believe* you need at least seven numbers from the id."
     ]
    },
    {
     "cell_type": "heading",
     "level": 3,
     "metadata": {},
     "source": [
      "Let's say I want to get rid of the last commit entirely.  I can do that with:"
     ]
    },
    {
     "cell_type": "code",
     "collapsed": false,
     "input": [
      "git reset HEAD^"
     ],
     "language": "python",
     "metadata": {},
     "outputs": [
      {
       "output_type": "stream",
       "stream": "stdout",
       "text": [
        "Unstaged changes after reset:\n",
        "M\ttemporary_git_file.txt\n"
       ]
      }
     ],
     "prompt_number": 54
    },
    {
     "cell_type": "code",
     "collapsed": false,
     "input": [
      "git log"
     ],
     "language": "python",
     "metadata": {},
     "outputs": [
      {
       "output_type": "stream",
       "stream": "stdout",
       "text": [
        "commit 91ae1791efb66698a249dd8fa7ff2ef57e7446b6\n",
        "Author: Shelley Knuth <shelley.knuth@colorado.edu>\n",
        "Date:   Thu May 1 10:16:49 2014 -0600\n",
        "\n",
        "    initial version\n",
        "\n",
        "commit bcb7d33edf73666481633100645ad44e8074af65\n",
        "Author: Shelley Knuth <shelley.knuth@colorado.edu>\n",
        "Date:   Thu May 1 10:10:46 2014 -0600\n",
        "\n",
        "    gitignore\n"
       ]
      }
     ],
     "prompt_number": 55
    },
    {
     "cell_type": "heading",
     "level": 3,
     "metadata": {},
     "source": [
      "Or find someone that made the EGREGIOUS error last week."
     ]
    },
    {
     "cell_type": "code",
     "collapsed": false,
     "input": [
      "git blame temporary_git_file.txt"
     ],
     "language": "python",
     "metadata": {},
     "outputs": [
      {
       "output_type": "stream",
       "stream": "stdout",
       "text": [
        "91ae1791 (Shelley Knuth     2014-05-01 10:16:49 -0600 1) Change 1\n",
        "91ae1791 (Shelley Knuth     2014-05-01 10:16:49 -0600 2) Change 2\n",
        "00000000 (Not Committed Yet 2014-05-01 10:36:55 -0600 3) Change 3a\n"
       ]
      }
     ],
     "prompt_number": 56
    },
    {
     "cell_type": "heading",
     "level": 3,
     "metadata": {},
     "source": [
      "That darn Shelley."
     ]
    },
    {
     "cell_type": "heading",
     "level": 1,
     "metadata": {},
     "source": [
      "Finally, some branch commands.  There's a lot you can do here, but these are the basic commands to get you going."
     ]
    },
    {
     "cell_type": "heading",
     "level": 3,
     "metadata": {},
     "source": [
      "To check which branch you are on."
     ]
    },
    {
     "cell_type": "code",
     "collapsed": false,
     "input": [
      "git branch"
     ],
     "language": "python",
     "metadata": {},
     "outputs": [
      {
       "output_type": "stream",
       "stream": "stdout",
       "text": [
        "* master\n"
       ]
      }
     ],
     "prompt_number": 57
    },
    {
     "cell_type": "heading",
     "level": 3,
     "metadata": {},
     "source": [
      "To create a new branch"
     ]
    },
    {
     "cell_type": "code",
     "collapsed": false,
     "input": [
      "git checkout -b new_branch"
     ],
     "language": "python",
     "metadata": {},
     "outputs": [
      {
       "output_type": "stream",
       "stream": "stdout",
       "text": [
        "M\ttemporary_git_file.txt\n"
       ]
      },
      {
       "output_type": "stream",
       "stream": "stderr",
       "text": [
        "Switched to a new branch 'new_branch'\n"
       ]
      }
     ],
     "prompt_number": 58
    },
    {
     "cell_type": "code",
     "collapsed": false,
     "input": [
      "git branch"
     ],
     "language": "python",
     "metadata": {},
     "outputs": [
      {
       "output_type": "stream",
       "stream": "stdout",
       "text": [
        "  master\n",
        "* new_branch\n"
       ]
      }
     ],
     "prompt_number": 59
    },
    {
     "cell_type": "heading",
     "level": 3,
     "metadata": {},
     "source": [
      "To change branches."
     ]
    },
    {
     "cell_type": "code",
     "collapsed": false,
     "input": [
      "git checkout master"
     ],
     "language": "python",
     "metadata": {},
     "outputs": [
      {
       "output_type": "stream",
       "stream": "stdout",
       "text": [
        "M\ttemporary_git_file.txt\n"
       ]
      },
      {
       "output_type": "stream",
       "stream": "stderr",
       "text": [
        "Switched to branch 'master'\n"
       ]
      }
     ],
     "prompt_number": 60
    },
    {
     "cell_type": "heading",
     "level": 3,
     "metadata": {},
     "source": [
      "And finally, to merge branches."
     ]
    },
    {
     "cell_type": "code",
     "collapsed": false,
     "input": [
      "git merge new_branch"
     ],
     "language": "python",
     "metadata": {},
     "outputs": [
      {
       "output_type": "stream",
       "stream": "stdout",
       "text": [
        "Already up-to-date.\n"
       ]
      }
     ],
     "prompt_number": 61
    },
    {
     "cell_type": "code",
     "collapsed": false,
     "input": [
      "git branch"
     ],
     "language": "python",
     "metadata": {},
     "outputs": [
      {
       "output_type": "stream",
       "stream": "stdout",
       "text": [
        "* master\n",
        "  new_branch\n"
       ]
      }
     ],
     "prompt_number": 62
    }
   ],
   "metadata": {}
  }
 ]
}