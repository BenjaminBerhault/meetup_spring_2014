{
 "metadata": {
  "name": "",
  "signature": "sha256:299aca9c9194e56143b2af79d4e71d10d7f5aebfe7f9f5f89207bf828d2dfce8"
 },
 "nbformat": 3,
 "nbformat_minor": 0,
 "worksheets": [
  {
   "cells": [
    {
     "cell_type": "heading",
     "level": 1,
     "metadata": {},
     "source": [
      "Introduction to Spark"
     ]
    },
    {
     "cell_type": "heading",
     "level": 2,
     "metadata": {},
     "source": [
      "Landscape of Distributed Computing"
     ]
    },
    {
     "cell_type": "markdown",
     "metadata": {},
     "source": [
      "<img src=\"https://s3.amazonaws.com/research_computing_tutorials/MTC.svg\" style=\"height:400px\">"
     ]
    },
    {
     "cell_type": "markdown",
     "metadata": {},
     "source": [
      "How do you process 100's of GB of data?"
     ]
    },
    {
     "cell_type": "markdown",
     "metadata": {},
     "source": [
      "What are the kinds of operations we are interested in?\n",
      "\n",
      "- Word count\n",
      "- Aggregation and descriptive statistics\n",
      "- Machine learning\n",
      "- Graph analysis"
     ]
    },
    {
     "cell_type": "heading",
     "level": 2,
     "metadata": {},
     "source": [
      "The `map` abstraction"
     ]
    },
    {
     "cell_type": "code",
     "collapsed": false,
     "input": [
      "def square(x):\n",
      "    return x*x\n",
      "\n",
      "numbers = [1,2,3]\n",
      "\n",
      "def map_squares(nums):\n",
      "    res = []\n",
      "    for x in nums:\n",
      "        res.append( square(x) )\n",
      "    return res"
     ],
     "language": "python",
     "metadata": {},
     "outputs": [],
     "prompt_number": 1
    },
    {
     "cell_type": "markdown",
     "metadata": {},
     "source": [
      "or..."
     ]
    },
    {
     "cell_type": "code",
     "collapsed": false,
     "input": [
      "results = map(square, numbers)"
     ],
     "language": "python",
     "metadata": {},
     "outputs": [],
     "prompt_number": 2
    },
    {
     "cell_type": "markdown",
     "metadata": {},
     "source": [
      "For parallel computing in python, `map` is a key abstraction."
     ]
    },
    {
     "cell_type": "code",
     "collapsed": false,
     "input": [
      "from multiprocessing import Pool\n",
      "pool = Pool(5)\n",
      "results = pool.map(square, numbers)"
     ],
     "language": "python",
     "metadata": {},
     "outputs": [],
     "prompt_number": 3
    },
    {
     "cell_type": "heading",
     "level": 2,
     "metadata": {},
     "source": [
      "Functional Python: `map`, `reduce`, `filter`, `lambda`"
     ]
    },
    {
     "cell_type": "markdown",
     "metadata": {},
     "source": [
      "<blockquote>\n",
      "Python acquired lambda, reduce, filter and map, courtesy of a Lisp hacker who missed them and submitted working patches. -Guido van Rossum\n",
      "</blockquote>"
     ]
    },
    {
     "cell_type": "code",
     "collapsed": false,
     "input": [
      "def square(x):\n",
      "    return x*x\n",
      "\n",
      "map(square, range(10))"
     ],
     "language": "python",
     "metadata": {},
     "outputs": [
      {
       "metadata": {},
       "output_type": "pyout",
       "prompt_number": 20,
       "text": [
        "[0, 1, 4, 9, 16, 25, 36, 49, 64, 81]"
       ]
      }
     ],
     "prompt_number": 20
    },
    {
     "cell_type": "code",
     "collapsed": false,
     "input": [
      "lambda_square = lambda x: x*x\n",
      "map(lambda_square, range(10))"
     ],
     "language": "python",
     "metadata": {},
     "outputs": [
      {
       "metadata": {},
       "output_type": "pyout",
       "prompt_number": 23,
       "text": [
        "[0, 1, 4, 9, 16, 25, 36, 49, 64, 81]"
       ]
      }
     ],
     "prompt_number": 23
    },
    {
     "cell_type": "code",
     "collapsed": false,
     "input": [
      "map(lambda x: x*x, range(10))"
     ],
     "language": "python",
     "metadata": {},
     "outputs": [
      {
       "metadata": {},
       "output_type": "pyout",
       "prompt_number": 25,
       "text": [
        "[0, 1, 4, 9, 16, 25, 36, 49, 64, 81]"
       ]
      }
     ],
     "prompt_number": 25
    },
    {
     "cell_type": "code",
     "collapsed": false,
     "input": [
      "res = map(lambda x: x*x, range(10))\n",
      "print res"
     ],
     "language": "python",
     "metadata": {},
     "outputs": [
      {
       "output_type": "stream",
       "stream": "stdout",
       "text": [
        "[0, 1, 4, 9, 16, 25, 36, 49, 64, 81]\n"
       ]
      }
     ],
     "prompt_number": 26
    },
    {
     "cell_type": "code",
     "collapsed": false,
     "input": [
      "def add_num(x1, x2):\n",
      "    return x1+x2\n",
      "\n",
      "print reduce(add_num, res)\n",
      "\n",
      "print reduce(lambda x,y: x+y, res)"
     ],
     "language": "python",
     "metadata": {},
     "outputs": [
      {
       "output_type": "stream",
       "stream": "stdout",
       "text": [
        "285\n",
        "285\n"
       ]
      }
     ],
     "prompt_number": 32
    },
    {
     "cell_type": "code",
     "collapsed": false,
     "input": [
      "filter(lambda x: x>10, res)"
     ],
     "language": "python",
     "metadata": {},
     "outputs": [
      {
       "metadata": {},
       "output_type": "pyout",
       "prompt_number": 33,
       "text": [
        "[16, 25, 36, 49, 64, 81]"
       ]
      }
     ],
     "prompt_number": 33
    },
    {
     "cell_type": "heading",
     "level": 2,
     "metadata": {},
     "source": [
      "Word Count"
     ]
    },
    {
     "cell_type": "code",
     "collapsed": false,
     "input": [
      "import os\n",
      "import requests\n",
      "\n",
      "def get_data(f):\n",
      "    filename = f.split('/')[-1]\n",
      "    print filename\n",
      "    if os.path.exists(filename):\n",
      "       with open(filename) as infile:\n",
      "            return infile.read()\n",
      "    else:\n",
      "        print 'fetching from aws'\n",
      "        hamlet = requests.get(f).text\n",
      "        with open(filename, 'w') as outfile:\n",
      "            outfile.write(hamlet)\n",
      "        return hamlet\n",
      "        \n",
      "f = 'https://s3.amazonaws.com/research_computing_tutorials/hamlet.txt'\n",
      "hamlet = get_data(f)"
     ],
     "language": "python",
     "metadata": {},
     "outputs": [
      {
       "output_type": "stream",
       "stream": "stdout",
       "text": [
        "hamlet.txt\n"
       ]
      }
     ],
     "prompt_number": 18
    },
    {
     "cell_type": "code",
     "collapsed": false,
     "input": [
      "import re\n",
      "words = re.split('\\W+', hamlet.lower().strip())\n",
      "print words[:10]"
     ],
     "language": "python",
     "metadata": {},
     "outputs": [
      {
       "output_type": "stream",
       "stream": "stdout",
       "text": [
        "['hamlet', 'dramatis', 'personae', 'claudius', 'king', 'of', 'denmark', 'king', 'claudius', 'hamlet']\n"
       ]
      }
     ],
     "prompt_number": 40
    },
    {
     "cell_type": "code",
     "collapsed": false,
     "input": [
      "words = filter(lambda x: len(x)>2, words)\n",
      "print words[:10]"
     ],
     "language": "python",
     "metadata": {},
     "outputs": [
      {
       "output_type": "stream",
       "stream": "stdout",
       "text": [
        "['hamlet', 'dramatis', 'personae', 'claudius', 'king', 'denmark', 'king', 'claudius', 'hamlet', 'son']\n"
       ]
      }
     ],
     "prompt_number": 43
    },
    {
     "cell_type": "code",
     "collapsed": false,
     "input": [
      "word_pair = map(lambda x: (x,1), words)\n",
      "\n",
      "def same_word(x,y):\n",
      "    if x[0] == y[0]:\n",
      "        return x[0], x[1] + y[1]\n",
      "    else:\n",
      "        return x[0], 0\n",
      "\n",
      "word_count = reduce(same_word , word_pair )\n",
      "print word_count"
     ],
     "language": "python",
     "metadata": {},
     "outputs": [
      {
       "output_type": "stream",
       "stream": "stdout",
       "text": [
        "('hamlet', 0)\n"
       ]
      }
     ],
     "prompt_number": 54
    },
    {
     "cell_type": "heading",
     "level": 2,
     "metadata": {},
     "source": [
      "MapReduce"
     ]
    },
    {
     "cell_type": "markdown",
     "metadata": {},
     "source": [
      "[MapReduce: Simplified Data Processing on Large Clusters](http://research.google.com/archive/mapreduce.html)\n",
      "<img src=\"https://s3.amazonaws.com/research_computing_tutorials/mapreduce.png\" style=\"height:400px\">"
     ]
    },
    {
     "cell_type": "heading",
     "level": 2,
     "metadata": {},
     "source": [
      "Spark"
     ]
    },
    {
     "cell_type": "markdown",
     "metadata": {},
     "source": [
      "<img src=\"https://s3.amazonaws.com/research_computing_tutorials/spark.png\" style=\"\">"
     ]
    },
    {
     "cell_type": "code",
     "collapsed": false,
     "input": [],
     "language": "python",
     "metadata": {},
     "outputs": []
    }
   ],
   "metadata": {}
  }
 ]
}