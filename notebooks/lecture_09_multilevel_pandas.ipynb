{
 "metadata": {
  "name": ""
 },
 "nbformat": 3,
 "nbformat_minor": 0,
 "worksheets": [
  {
   "cells": [
    {
     "cell_type": "markdown",
     "metadata": {},
     "source": [
      "###Hierarchical Indexing\n",
      "\n",
      "Based on [Data Wrangling Kung Fu with Pandas](vimeo.com/63295598) by Wes McKinney"
     ]
    },
    {
     "cell_type": "code",
     "collapsed": false,
     "input": [
      "import os\n",
      "import pandas as  pd\n",
      "import numpy as np"
     ],
     "language": "python",
     "metadata": {},
     "outputs": [],
     "prompt_number": 1
    },
    {
     "cell_type": "code",
     "collapsed": false,
     "input": [
      "filename = os.path.join('data','example.csv')\n",
      "df = pd.read_csv(filename)\n",
      "print df"
     ],
     "language": "python",
     "metadata": {},
     "outputs": [
      {
       "output_type": "stream",
       "stream": "stdout",
       "text": [
        "          date     type  value\n",
        "0   2014-02-16  Model-A      8\n",
        "1   2014-02-16  Model-B      7\n",
        "2   2014-02-16  Model-C      2\n",
        "3   2014-02-17  Model-A      4\n",
        "4   2014-02-17  Model-B      4\n",
        "5   2014-02-17  Model-C      9\n",
        "6   2014-02-18  Model-A      7\n",
        "7   2014-02-18  Model-B      4\n",
        "8   2014-02-18  Model-C      6\n",
        "9   2014-02-19  Model-A      1\n",
        "10  2014-02-19  Model-B      8\n",
        "11  2014-02-19  Model-C      6\n",
        "\n",
        "[12 rows x 3 columns]\n"
       ]
      }
     ],
     "prompt_number": 8
    },
    {
     "cell_type": "markdown",
     "metadata": {},
     "source": [
      "### Add another column of data"
     ]
    },
    {
     "cell_type": "code",
     "collapsed": false,
     "input": [
      "df.shape"
     ],
     "language": "python",
     "metadata": {},
     "outputs": [
      {
       "metadata": {},
       "output_type": "pyout",
       "prompt_number": 9,
       "text": [
        "(12, 3)"
       ]
      }
     ],
     "prompt_number": 9
    },
    {
     "cell_type": "code",
     "collapsed": false,
     "input": [
      "df['score'] = np.random.rand(len(df))\n",
      "df.shape"
     ],
     "language": "python",
     "metadata": {},
     "outputs": [
      {
       "metadata": {},
       "output_type": "pyout",
       "prompt_number": 10,
       "text": [
        "(12, 4)"
       ]
      }
     ],
     "prompt_number": 10
    },
    {
     "cell_type": "code",
     "collapsed": false,
     "input": [
      "print df.head()"
     ],
     "language": "python",
     "metadata": {},
     "outputs": [
      {
       "output_type": "stream",
       "stream": "stdout",
       "text": [
        "         date     type  value     score\n",
        "0  2014-02-16  Model-A      8  0.020874\n",
        "1  2014-02-16  Model-B      7  0.926256\n",
        "2  2014-02-16  Model-C      2  0.494278\n",
        "3  2014-02-17  Model-A      4  0.891048\n",
        "4  2014-02-17  Model-B      4  0.760260\n",
        "\n",
        "[5 rows x 4 columns]\n"
       ]
      }
     ],
     "prompt_number": 11
    },
    {
     "cell_type": "markdown",
     "metadata": {},
     "source": [
      "### Hierarchical columns"
     ]
    },
    {
     "cell_type": "code",
     "collapsed": false,
     "input": [
      "results = df.pivot('date', 'type') #row, column, values (optional)\n",
      "print results"
     ],
     "language": "python",
     "metadata": {},
     "outputs": [
      {
       "output_type": "stream",
       "stream": "stdout",
       "text": [
        "              value                       score                    \n",
        "type        Model-A  Model-B  Model-C   Model-A   Model-B   Model-C\n",
        "date                                                               \n",
        "2014-02-16        8        7        2  0.020874  0.926256  0.494278\n",
        "2014-02-17        4        4        9  0.891048  0.760260  0.115907\n",
        "2014-02-18        7        4        6  0.638869  0.026314  0.749919\n",
        "2014-02-19        1        8        6  0.638298  0.026485  0.743300\n",
        "\n",
        "[4 rows x 6 columns]\n"
       ]
      }
     ],
     "prompt_number": 12
    },
    {
     "cell_type": "markdown",
     "metadata": {},
     "source": [
      "I have a hierarchical index on the columns:"
     ]
    },
    {
     "cell_type": "code",
     "collapsed": false,
     "input": [
      "print results.columns"
     ],
     "language": "python",
     "metadata": {},
     "outputs": [
      {
       "output_type": "stream",
       "stream": "stdout",
       "text": [
        "       type   \n",
        "value  Model-A\n",
        "       Model-B\n",
        "       Model-C\n",
        "score  Model-A\n",
        "       Model-B\n",
        "       Model-C\n"
       ]
      }
     ],
     "prompt_number": 13
    },
    {
     "cell_type": "code",
     "collapsed": false,
     "input": [
      "results.count(axis=1)"
     ],
     "language": "python",
     "metadata": {},
     "outputs": [
      {
       "metadata": {},
       "output_type": "pyout",
       "prompt_number": 14,
       "text": [
        "date\n",
        "2014-02-16    6\n",
        "2014-02-17    6\n",
        "2014-02-18    6\n",
        "2014-02-19    6\n",
        "dtype: int64"
       ]
      }
     ],
     "prompt_number": 14
    },
    {
     "cell_type": "code",
     "collapsed": false,
     "input": [
      "results['value'].count(axis=1)"
     ],
     "language": "python",
     "metadata": {},
     "outputs": [
      {
       "metadata": {},
       "output_type": "pyout",
       "prompt_number": 15,
       "text": [
        "date\n",
        "2014-02-16    3\n",
        "2014-02-17    3\n",
        "2014-02-18    3\n",
        "2014-02-19    3\n",
        "dtype: int64"
       ]
      }
     ],
     "prompt_number": 15
    },
    {
     "cell_type": "markdown",
     "metadata": {},
     "source": [
      "I can access each component of the index."
     ]
    },
    {
     "cell_type": "code",
     "collapsed": false,
     "input": [
      "print results['score']"
     ],
     "language": "python",
     "metadata": {},
     "outputs": [
      {
       "output_type": "stream",
       "stream": "stdout",
       "text": [
        "type         Model-A   Model-B   Model-C\n",
        "date                                    \n",
        "2014-02-16  0.020874  0.926256  0.494278\n",
        "2014-02-17  0.891048  0.760260  0.115907\n",
        "2014-02-18  0.638869  0.026314  0.749919\n",
        "2014-02-19  0.638298  0.026485  0.743300\n",
        "\n",
        "[4 rows x 3 columns]\n"
       ]
      }
     ],
     "prompt_number": 16
    },
    {
     "cell_type": "markdown",
     "metadata": {},
     "source": [
      "Swap the order of the index."
     ]
    },
    {
     "cell_type": "code",
     "collapsed": false,
     "input": [
      "tmp = results.swaplevel(0,1, axis=1)\n",
      "print tmp"
     ],
     "language": "python",
     "metadata": {},
     "outputs": [
      {
       "output_type": "stream",
       "stream": "stdout",
       "text": [
        "type        Model-A  Model-B  Model-C   Model-A   Model-B   Model-C\n",
        "              value    value    value     score     score     score\n",
        "date                                                               \n",
        "2014-02-16        8        7        2  0.020874  0.926256  0.494278\n",
        "2014-02-17        4        4        9  0.891048  0.760260  0.115907\n",
        "2014-02-18        7        4        6  0.638869  0.026314  0.749919\n",
        "2014-02-19        1        8        6  0.638298  0.026485  0.743300\n",
        "\n",
        "[4 rows x 6 columns]\n"
       ]
      }
     ],
     "prompt_number": 17
    },
    {
     "cell_type": "code",
     "collapsed": false,
     "input": [
      "print tmp['Model-A']"
     ],
     "language": "python",
     "metadata": {},
     "outputs": [
      {
       "output_type": "stream",
       "stream": "stdout",
       "text": [
        "            value     score\n",
        "date                       \n",
        "2014-02-16      8  0.020874\n",
        "2014-02-17      4  0.891048\n",
        "2014-02-18      7  0.638869\n",
        "2014-02-19      1  0.638298\n",
        "\n",
        "[4 rows x 2 columns]\n"
       ]
      }
     ],
     "prompt_number": 18
    },
    {
     "cell_type": "markdown",
     "metadata": {},
     "source": [
      "### `stack` and `unstack`\n",
      "\n"
     ]
    },
    {
     "cell_type": "code",
     "collapsed": false,
     "input": [
      "print results"
     ],
     "language": "python",
     "metadata": {},
     "outputs": [
      {
       "output_type": "stream",
       "stream": "stdout",
       "text": [
        "              value                       score                    \n",
        "type        Model-A  Model-B  Model-C   Model-A   Model-B   Model-C\n",
        "date                                                               \n",
        "2014-02-16        8        7        2  0.020874  0.926256  0.494278\n",
        "2014-02-17        4        4        9  0.891048  0.760260  0.115907\n",
        "2014-02-18        7        4        6  0.638869  0.026314  0.749919\n",
        "2014-02-19        1        8        6  0.638298  0.026485  0.743300\n",
        "\n",
        "[4 rows x 6 columns]\n"
       ]
      }
     ],
     "prompt_number": 19
    },
    {
     "cell_type": "code",
     "collapsed": false,
     "input": [
      "print results.stack() #Defaults to highest level, eg. 1 in this case"
     ],
     "language": "python",
     "metadata": {},
     "outputs": [
      {
       "output_type": "stream",
       "stream": "stdout",
       "text": [
        "                    value     score\n",
        "date       type                    \n",
        "2014-02-16 Model-A      8  0.020874\n",
        "           Model-B      7  0.926256\n",
        "           Model-C      2  0.494278\n",
        "2014-02-17 Model-A      4  0.891048\n",
        "           Model-B      4  0.760260\n",
        "           Model-C      9  0.115907\n",
        "2014-02-18 Model-A      7  0.638869\n",
        "           Model-B      4  0.026314\n",
        "           Model-C      6  0.749919\n",
        "2014-02-19 Model-A      1  0.638298\n",
        "           Model-B      8  0.026485\n",
        "           Model-C      6  0.743300\n",
        "\n",
        "[12 rows x 2 columns]\n"
       ]
      }
     ],
     "prompt_number": 20
    },
    {
     "cell_type": "markdown",
     "metadata": {},
     "source": [
      "Now we have a hierarchical index on the rows."
     ]
    },
    {
     "cell_type": "code",
     "collapsed": false,
     "input": [
      "print results.stack().index"
     ],
     "language": "python",
     "metadata": {},
     "outputs": [
      {
       "output_type": "stream",
       "stream": "stdout",
       "text": [
        "date        type   \n",
        "2014-02-16  Model-A\n",
        "            Model-B\n",
        "            Model-C\n",
        "2014-02-17  Model-A\n",
        "            Model-B\n",
        "            Model-C\n",
        "2014-02-18  Model-A\n",
        "            Model-B\n",
        "            Model-C\n",
        "2014-02-19  Model-A\n",
        "            Model-B\n",
        "            Model-C\n"
       ]
      }
     ],
     "prompt_number": 21
    },
    {
     "cell_type": "code",
     "collapsed": false,
     "input": [
      "print results.stack(0)"
     ],
     "language": "python",
     "metadata": {},
     "outputs": [
      {
       "output_type": "stream",
       "stream": "stdout",
       "text": [
        "type               Model-A   Model-B   Model-C\n",
        "date                                          \n",
        "2014-02-16 value  8.000000  7.000000  2.000000\n",
        "           score  0.020874  0.926256  0.494278\n",
        "2014-02-17 value  4.000000  4.000000  9.000000\n",
        "           score  0.891048  0.760260  0.115907\n",
        "2014-02-18 value  7.000000  4.000000  6.000000\n",
        "           score  0.638869  0.026314  0.749919\n",
        "2014-02-19 value  1.000000  8.000000  6.000000\n",
        "           score  0.638298  0.026485  0.743300\n",
        "\n",
        "[8 rows x 3 columns]\n"
       ]
      }
     ],
     "prompt_number": 22
    },
    {
     "cell_type": "code",
     "collapsed": false,
     "input": [
      "print results.stack(0).unstack()"
     ],
     "language": "python",
     "metadata": {},
     "outputs": [
      {
       "output_type": "stream",
       "stream": "stdout",
       "text": [
        "type        Model-A            Model-B            Model-C          \n",
        "              value     score    value     score    value     score\n",
        "date                                                               \n",
        "2014-02-16        8  0.020874        7  0.926256        2  0.494278\n",
        "2014-02-17        4  0.891048        4  0.760260        9  0.115907\n",
        "2014-02-18        7  0.638869        4  0.026314        6  0.749919\n",
        "2014-02-19        1  0.638298        8  0.026485        6  0.743300\n",
        "\n",
        "[4 rows x 6 columns]\n"
       ]
      }
     ],
     "prompt_number": 23
    },
    {
     "cell_type": "markdown",
     "metadata": {},
     "source": [
      "###Hierarchical Rows"
     ]
    },
    {
     "cell_type": "code",
     "collapsed": false,
     "input": [
      "df.head()"
     ],
     "language": "python",
     "metadata": {},
     "outputs": [
      {
       "html": [
        "<div style=\"max-height:1000px;max-width:1500px;overflow:auto;\">\n",
        "<table border=\"1\" class=\"dataframe\">\n",
        "  <thead>\n",
        "    <tr style=\"text-align: right;\">\n",
        "      <th></th>\n",
        "      <th>date</th>\n",
        "      <th>type</th>\n",
        "      <th>value</th>\n",
        "      <th>score</th>\n",
        "    </tr>\n",
        "  </thead>\n",
        "  <tbody>\n",
        "    <tr>\n",
        "      <th>0</th>\n",
        "      <td> 2014-02-16</td>\n",
        "      <td> Model-A</td>\n",
        "      <td> 8</td>\n",
        "      <td> 0.020874</td>\n",
        "    </tr>\n",
        "    <tr>\n",
        "      <th>1</th>\n",
        "      <td> 2014-02-16</td>\n",
        "      <td> Model-B</td>\n",
        "      <td> 7</td>\n",
        "      <td> 0.926256</td>\n",
        "    </tr>\n",
        "    <tr>\n",
        "      <th>2</th>\n",
        "      <td> 2014-02-16</td>\n",
        "      <td> Model-C</td>\n",
        "      <td> 2</td>\n",
        "      <td> 0.494278</td>\n",
        "    </tr>\n",
        "    <tr>\n",
        "      <th>3</th>\n",
        "      <td> 2014-02-17</td>\n",
        "      <td> Model-A</td>\n",
        "      <td> 4</td>\n",
        "      <td> 0.891048</td>\n",
        "    </tr>\n",
        "    <tr>\n",
        "      <th>4</th>\n",
        "      <td> 2014-02-17</td>\n",
        "      <td> Model-B</td>\n",
        "      <td> 4</td>\n",
        "      <td> 0.760260</td>\n",
        "    </tr>\n",
        "  </tbody>\n",
        "</table>\n",
        "<p>5 rows \u00d7 4 columns</p>\n",
        "</div>"
       ],
       "metadata": {},
       "output_type": "pyout",
       "prompt_number": 24,
       "text": [
        "         date     type  value     score\n",
        "0  2014-02-16  Model-A      8  0.020874\n",
        "1  2014-02-16  Model-B      7  0.926256\n",
        "2  2014-02-16  Model-C      2  0.494278\n",
        "3  2014-02-17  Model-A      4  0.891048\n",
        "4  2014-02-17  Model-B      4  0.760260\n",
        "\n",
        "[5 rows x 4 columns]"
       ]
      }
     ],
     "prompt_number": 24
    },
    {
     "cell_type": "code",
     "collapsed": false,
     "input": [
      "df.set_index(['date','type'], inplace=True)\n",
      "df.head()"
     ],
     "language": "python",
     "metadata": {},
     "outputs": [
      {
       "html": [
        "<div style=\"max-height:1000px;max-width:1500px;overflow:auto;\">\n",
        "<table border=\"1\" class=\"dataframe\">\n",
        "  <thead>\n",
        "    <tr style=\"text-align: right;\">\n",
        "      <th></th>\n",
        "      <th></th>\n",
        "      <th>value</th>\n",
        "      <th>score</th>\n",
        "    </tr>\n",
        "    <tr>\n",
        "      <th>date</th>\n",
        "      <th>type</th>\n",
        "      <th></th>\n",
        "      <th></th>\n",
        "    </tr>\n",
        "  </thead>\n",
        "  <tbody>\n",
        "    <tr>\n",
        "      <th rowspan=\"3\" valign=\"top\">2014-02-16</th>\n",
        "      <th>Model-A</th>\n",
        "      <td> 8</td>\n",
        "      <td> 0.020874</td>\n",
        "    </tr>\n",
        "    <tr>\n",
        "      <th>Model-B</th>\n",
        "      <td> 7</td>\n",
        "      <td> 0.926256</td>\n",
        "    </tr>\n",
        "    <tr>\n",
        "      <th>Model-C</th>\n",
        "      <td> 2</td>\n",
        "      <td> 0.494278</td>\n",
        "    </tr>\n",
        "    <tr>\n",
        "      <th rowspan=\"2\" valign=\"top\">2014-02-17</th>\n",
        "      <th>Model-A</th>\n",
        "      <td> 4</td>\n",
        "      <td> 0.891048</td>\n",
        "    </tr>\n",
        "    <tr>\n",
        "      <th>Model-B</th>\n",
        "      <td> 4</td>\n",
        "      <td> 0.760260</td>\n",
        "    </tr>\n",
        "  </tbody>\n",
        "</table>\n",
        "<p>5 rows \u00d7 2 columns</p>\n",
        "</div>"
       ],
       "metadata": {},
       "output_type": "pyout",
       "prompt_number": 26,
       "text": [
        "                    value     score\n",
        "date       type                    \n",
        "2014-02-16 Model-A      8  0.020874\n",
        "           Model-B      7  0.926256\n",
        "           Model-C      2  0.494278\n",
        "2014-02-17 Model-A      4  0.891048\n",
        "           Model-B      4  0.760260\n",
        "\n",
        "[5 rows x 2 columns]"
       ]
      }
     ],
     "prompt_number": 26
    },
    {
     "cell_type": "markdown",
     "metadata": {},
     "source": [
      "Accessing index by name"
     ]
    },
    {
     "cell_type": "code",
     "collapsed": false,
     "input": [
      "df.ix['2014-02-16']"
     ],
     "language": "python",
     "metadata": {},
     "outputs": [
      {
       "html": [
        "<div style=\"max-height:1000px;max-width:1500px;overflow:auto;\">\n",
        "<table border=\"1\" class=\"dataframe\">\n",
        "  <thead>\n",
        "    <tr style=\"text-align: right;\">\n",
        "      <th></th>\n",
        "      <th>value</th>\n",
        "      <th>score</th>\n",
        "    </tr>\n",
        "    <tr>\n",
        "      <th>type</th>\n",
        "      <th></th>\n",
        "      <th></th>\n",
        "    </tr>\n",
        "  </thead>\n",
        "  <tbody>\n",
        "    <tr>\n",
        "      <th>Model-A</th>\n",
        "      <td> 8</td>\n",
        "      <td> 0.020874</td>\n",
        "    </tr>\n",
        "    <tr>\n",
        "      <th>Model-B</th>\n",
        "      <td> 7</td>\n",
        "      <td> 0.926256</td>\n",
        "    </tr>\n",
        "    <tr>\n",
        "      <th>Model-C</th>\n",
        "      <td> 2</td>\n",
        "      <td> 0.494278</td>\n",
        "    </tr>\n",
        "  </tbody>\n",
        "</table>\n",
        "<p>3 rows \u00d7 2 columns</p>\n",
        "</div>"
       ],
       "metadata": {},
       "output_type": "pyout",
       "prompt_number": 27,
       "text": [
        "         value     score\n",
        "type                    \n",
        "Model-A      8  0.020874\n",
        "Model-B      7  0.926256\n",
        "Model-C      2  0.494278\n",
        "\n",
        "[3 rows x 2 columns]"
       ]
      }
     ],
     "prompt_number": 27
    },
    {
     "cell_type": "code",
     "collapsed": false,
     "input": [
      "df.swaplevel(0,1, axis=0).ix['Model-A']"
     ],
     "language": "python",
     "metadata": {},
     "outputs": [
      {
       "html": [
        "<div style=\"max-height:1000px;max-width:1500px;overflow:auto;\">\n",
        "<table border=\"1\" class=\"dataframe\">\n",
        "  <thead>\n",
        "    <tr style=\"text-align: right;\">\n",
        "      <th></th>\n",
        "      <th>value</th>\n",
        "      <th>score</th>\n",
        "    </tr>\n",
        "    <tr>\n",
        "      <th>date</th>\n",
        "      <th></th>\n",
        "      <th></th>\n",
        "    </tr>\n",
        "  </thead>\n",
        "  <tbody>\n",
        "    <tr>\n",
        "      <th>2014-02-16</th>\n",
        "      <td> 8</td>\n",
        "      <td> 0.020874</td>\n",
        "    </tr>\n",
        "    <tr>\n",
        "      <th>2014-02-17</th>\n",
        "      <td> 4</td>\n",
        "      <td> 0.891048</td>\n",
        "    </tr>\n",
        "    <tr>\n",
        "      <th>2014-02-18</th>\n",
        "      <td> 7</td>\n",
        "      <td> 0.638869</td>\n",
        "    </tr>\n",
        "    <tr>\n",
        "      <th>2014-02-19</th>\n",
        "      <td> 1</td>\n",
        "      <td> 0.638298</td>\n",
        "    </tr>\n",
        "  </tbody>\n",
        "</table>\n",
        "<p>4 rows \u00d7 2 columns</p>\n",
        "</div>"
       ],
       "metadata": {},
       "output_type": "pyout",
       "prompt_number": 28,
       "text": [
        "            value     score\n",
        "date                       \n",
        "2014-02-16      8  0.020874\n",
        "2014-02-17      4  0.891048\n",
        "2014-02-18      7  0.638869\n",
        "2014-02-19      1  0.638298\n",
        "\n",
        "[4 rows x 2 columns]"
       ]
      }
     ],
     "prompt_number": 28
    },
    {
     "cell_type": "code",
     "collapsed": false,
     "input": [
      "df.unstack()"
     ],
     "language": "python",
     "metadata": {},
     "outputs": [
      {
       "html": [
        "<div style=\"max-height:1000px;max-width:1500px;overflow:auto;\">\n",
        "<table border=\"1\" class=\"dataframe\">\n",
        "  <thead>\n",
        "    <tr>\n",
        "      <th></th>\n",
        "      <th colspan=\"3\" halign=\"left\">value</th>\n",
        "      <th colspan=\"3\" halign=\"left\">score</th>\n",
        "    </tr>\n",
        "    <tr>\n",
        "      <th>type</th>\n",
        "      <th>Model-A</th>\n",
        "      <th>Model-B</th>\n",
        "      <th>Model-C</th>\n",
        "      <th>Model-A</th>\n",
        "      <th>Model-B</th>\n",
        "      <th>Model-C</th>\n",
        "    </tr>\n",
        "    <tr>\n",
        "      <th>date</th>\n",
        "      <th></th>\n",
        "      <th></th>\n",
        "      <th></th>\n",
        "      <th></th>\n",
        "      <th></th>\n",
        "      <th></th>\n",
        "    </tr>\n",
        "  </thead>\n",
        "  <tbody>\n",
        "    <tr>\n",
        "      <th>2014-02-16</th>\n",
        "      <td> 8</td>\n",
        "      <td> 7</td>\n",
        "      <td> 2</td>\n",
        "      <td> 0.020874</td>\n",
        "      <td> 0.926256</td>\n",
        "      <td> 0.494278</td>\n",
        "    </tr>\n",
        "    <tr>\n",
        "      <th>2014-02-17</th>\n",
        "      <td> 4</td>\n",
        "      <td> 4</td>\n",
        "      <td> 9</td>\n",
        "      <td> 0.891048</td>\n",
        "      <td> 0.760260</td>\n",
        "      <td> 0.115907</td>\n",
        "    </tr>\n",
        "    <tr>\n",
        "      <th>2014-02-18</th>\n",
        "      <td> 7</td>\n",
        "      <td> 4</td>\n",
        "      <td> 6</td>\n",
        "      <td> 0.638869</td>\n",
        "      <td> 0.026314</td>\n",
        "      <td> 0.749919</td>\n",
        "    </tr>\n",
        "    <tr>\n",
        "      <th>2014-02-19</th>\n",
        "      <td> 1</td>\n",
        "      <td> 8</td>\n",
        "      <td> 6</td>\n",
        "      <td> 0.638298</td>\n",
        "      <td> 0.026485</td>\n",
        "      <td> 0.743300</td>\n",
        "    </tr>\n",
        "  </tbody>\n",
        "</table>\n",
        "<p>4 rows \u00d7 6 columns</p>\n",
        "</div>"
       ],
       "metadata": {},
       "output_type": "pyout",
       "prompt_number": 29,
       "text": [
        "              value                       score                    \n",
        "type        Model-A  Model-B  Model-C   Model-A   Model-B   Model-C\n",
        "date                                                               \n",
        "2014-02-16        8        7        2  0.020874  0.926256  0.494278\n",
        "2014-02-17        4        4        9  0.891048  0.760260  0.115907\n",
        "2014-02-18        7        4        6  0.638869  0.026314  0.749919\n",
        "2014-02-19        1        8        6  0.638298  0.026485  0.743300\n",
        "\n",
        "[4 rows x 6 columns]"
       ]
      }
     ],
     "prompt_number": 29
    },
    {
     "cell_type": "code",
     "collapsed": false,
     "input": [],
     "language": "python",
     "metadata": {},
     "outputs": []
    }
   ],
   "metadata": {}
  }
 ]
}