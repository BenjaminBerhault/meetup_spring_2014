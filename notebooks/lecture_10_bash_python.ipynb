{
 "metadata": {
  "name": ""
 },
 "nbformat": 3,
 "nbformat_minor": 0,
 "worksheets": [
  {
   "cells": [
    {
     "cell_type": "markdown",
     "metadata": {},
     "source": [
      "# Bash and Python Throw Down"
     ]
    },
    {
     "cell_type": "markdown",
     "metadata": {},
     "source": [
      "http://bit.ly/1fWF1ms"
     ]
    },
    {
     "cell_type": "markdown",
     "metadata": {},
     "source": [
      "## Outline\n",
      "\n",
      "- Copy\n",
      "- Wrangling `csv` Files\n",
      "    - Column aggregation\n",
      "    - Selection\n",
      "    - Selection and aggregation\n",
      "    - Groupby\n",
      "    - Ordered selection\n",
      "- Unstructuredd Text Manipulation: Hamlet\n",
      "    - Parse words, remove punctuation, remove blank lines.\n",
      "    - Counting\n",
      "    - Frequency\n",
      "- Random\n",
      "    - The `map` operation\n",
      "    - Other Structured Text: e.g. `json`\n",
      "    - Numerical Computing and plotting\n",
      "- File maipulation\n",
      "    - Find and replace\n",
      "    - Remove blank lines\n",
      "    - Blank lines with tabs and spaces\n",
      "    - Remove HTML tags\n",
      "    - Multiple files\n",
      "    - Subdirectories\n",
      "\n"
     ]
    },
    {
     "cell_type": "markdown",
     "metadata": {},
     "source": [
      "##Copy"
     ]
    },
    {
     "cell_type": "code",
     "collapsed": false,
     "input": [
      "import shutil\n",
      "\n",
      "shutil.copy('back.csv','tmp')"
     ],
     "language": "python",
     "metadata": {},
     "outputs": [],
     "prompt_number": 50
    },
    {
     "cell_type": "code",
     "collapsed": false,
     "input": [
      "!ls tmp"
     ],
     "language": "python",
     "metadata": {},
     "outputs": [
      {
       "output_type": "stream",
       "stream": "stdout",
       "text": [
        "tmp\r\n"
       ]
      }
     ],
     "prompt_number": 51
    },
    {
     "cell_type": "markdown",
     "metadata": {},
     "source": [
      "## Wrangling `csv` Files"
     ]
    },
    {
     "cell_type": "code",
     "collapsed": false,
     "input": [
      "import pandas as pd\n",
      "import numpy as np"
     ],
     "language": "python",
     "metadata": {},
     "outputs": [],
     "prompt_number": 52
    },
    {
     "cell_type": "markdown",
     "metadata": {},
     "source": [
      "###Column aggregation"
     ]
    },
    {
     "cell_type": "code",
     "collapsed": false,
     "input": [
      "!head data/20140209.csv"
     ],
     "language": "python",
     "metadata": {},
     "outputs": [
      {
       "output_type": "stream",
       "stream": "stdout",
       "text": [
        "488112,lucy,UCB00000178,crc-gpu,1,1,14400,12963,547328kb,12987,1391793880,1391905890,1391914447,1391927435,0,singlejob,43.2900\r\n",
        "2490186,wyldstyle,UCB00000191,janus-normal,21,12,86400,21710392,113415320kb,86429,1391841024,1391841024,1391841033,1391927463,-11,default,6050.0300\r\n",
        "2468732,metalbeard,S00000232,janus-small,1,12,43200,159309,298188kb,13393,1391489055,1391914171,1391914191,1391927583,0,default,44.6433\r\n",
        "2468698,metalbeard,S00000232,janus-small,1,12,43200,344489,310540kb,28871,1391488981,1391898836,1391898863,1391927733,0,default,96.2366\r\n",
        "2488073,gandalf,UCB00000178,janus-small,1,12,86400,820612,124072kb,69136,1391791582,1391858648,1391858666,1391927801,0,singlejob,230.4533\r\n",
        "2492322,metalbeard,S00000232,janus-small,1,12,36000,109290,244536kb,9212,1391885555,1391918880,1391919012,1391928224,0,default,30.7066\r\n",
        "2492363,metalbeard,S00000232,janus-small,1,12,36000,108842,248840kb,9174,1391885568,1391919173,1391919205,1391928379,0,default,30.5800\r\n",
        "2492785,badcop,S00000272,janus-short,19,12,7200,2,10692kb,20,1391930340,1391930340,1391930360,1391930381,0,default,1.2666\r\n",
        "2492786,badcop,S00000272,janus-short,19,12,7200,2,10692kb,7,1391930715,1391930715,1391930746,1391930753,0,default,.4433\r\n",
        "2492787,badcop,S00000272,janus-short,19,12,7200,132,233508kb,137,1391930858,1391930858,1391930874,1391931011,0,default,8.6766\r\n"
       ]
      }
     ],
     "prompt_number": 53
    },
    {
     "cell_type": "code",
     "collapsed": false,
     "input": [
      "df = pd.read_csv('data/20140209.csv', header=None)\n",
      "df[16].sum()\n",
      "#df"
     ],
     "language": "python",
     "metadata": {},
     "outputs": [
      {
       "metadata": {},
       "output_type": "pyout",
       "prompt_number": 55,
       "text": [
        "38062.764099999971"
       ]
      }
     ],
     "prompt_number": 55
    },
    {
     "cell_type": "markdown",
     "metadata": {},
     "source": [
      "### Selection\n",
      "\n",
      "All the records for 'gail'"
     ]
    },
    {
     "cell_type": "code",
     "collapsed": false,
     "input": [
      "df[df[1]=='gail']"
     ],
     "language": "python",
     "metadata": {},
     "outputs": [
      {
       "html": [
        "<div style=\"max-height:1000px;max-width:1500px;overflow:auto;\">\n",
        "<table border=\"1\" class=\"dataframe\">\n",
        "  <thead>\n",
        "    <tr style=\"text-align: right;\">\n",
        "      <th></th>\n",
        "      <th>0</th>\n",
        "      <th>1</th>\n",
        "      <th>2</th>\n",
        "      <th>3</th>\n",
        "      <th>4</th>\n",
        "      <th>5</th>\n",
        "      <th>6</th>\n",
        "      <th>7</th>\n",
        "      <th>8</th>\n",
        "      <th>9</th>\n",
        "      <th>10</th>\n",
        "      <th>11</th>\n",
        "      <th>12</th>\n",
        "      <th>13</th>\n",
        "      <th>14</th>\n",
        "      <th>15</th>\n",
        "      <th>16</th>\n",
        "    </tr>\n",
        "  </thead>\n",
        "  <tbody>\n",
        "    <tr>\n",
        "      <th>418</th>\n",
        "      <td> 2493201</td>\n",
        "      <td> gail</td>\n",
        "      <td> UCB00000256</td>\n",
        "      <td> janus-small</td>\n",
        "      <td> 18</td>\n",
        "      <td> 12</td>\n",
        "      <td> 28800</td>\n",
        "      <td>      0</td>\n",
        "      <td>        0kb</td>\n",
        "      <td>    0</td>\n",
        "      <td> 1392007772</td>\n",
        "      <td> 1392007772</td>\n",
        "      <td> 1392008303</td>\n",
        "      <td> 1392008589</td>\n",
        "      <td> 0</td>\n",
        "      <td> default</td>\n",
        "      <td>   0.00</td>\n",
        "    </tr>\n",
        "    <tr>\n",
        "      <th>465</th>\n",
        "      <td> 2493202</td>\n",
        "      <td> gail</td>\n",
        "      <td> UCB00000256</td>\n",
        "      <td> janus-small</td>\n",
        "      <td> 18</td>\n",
        "      <td> 12</td>\n",
        "      <td> 28800</td>\n",
        "      <td> 400019</td>\n",
        "      <td> 86607652kb</td>\n",
        "      <td> 2660</td>\n",
        "      <td> 1392007841</td>\n",
        "      <td> 1392007841</td>\n",
        "      <td> 1392007886</td>\n",
        "      <td> 1392010552</td>\n",
        "      <td> 0</td>\n",
        "      <td> default</td>\n",
        "      <td> 159.60</td>\n",
        "    </tr>\n",
        "    <tr>\n",
        "      <th>485</th>\n",
        "      <td> 2493203</td>\n",
        "      <td> gail</td>\n",
        "      <td> UCB00000256</td>\n",
        "      <td> janus-small</td>\n",
        "      <td> 18</td>\n",
        "      <td> 12</td>\n",
        "      <td> 28800</td>\n",
        "      <td> 623527</td>\n",
        "      <td> 83139976kb</td>\n",
        "      <td> 3618</td>\n",
        "      <td> 1392007890</td>\n",
        "      <td> 1392007890</td>\n",
        "      <td> 1392007918</td>\n",
        "      <td> 1392011536</td>\n",
        "      <td> 0</td>\n",
        "      <td> default</td>\n",
        "      <td> 217.08</td>\n",
        "    </tr>\n",
        "  </tbody>\n",
        "</table>\n",
        "<p>3 rows \u00d7 17 columns</p>\n",
        "</div>"
       ],
       "metadata": {},
       "output_type": "pyout",
       "prompt_number": 14,
       "text": [
        "          0     1            2            3   4   5      6       7   \\\n",
        "418  2493201  gail  UCB00000256  janus-small  18  12  28800       0   \n",
        "465  2493202  gail  UCB00000256  janus-small  18  12  28800  400019   \n",
        "485  2493203  gail  UCB00000256  janus-small  18  12  28800  623527   \n",
        "\n",
        "             8     9           10          11          12          13  14  \\\n",
        "418         0kb     0  1392007772  1392007772  1392008303  1392008589   0   \n",
        "465  86607652kb  2660  1392007841  1392007841  1392007886  1392010552   0   \n",
        "485  83139976kb  3618  1392007890  1392007890  1392007918  1392011536   0   \n",
        "\n",
        "          15      16  \n",
        "418  default    0.00  \n",
        "465  default  159.60  \n",
        "485  default  217.08  \n",
        "\n",
        "[3 rows x 17 columns]"
       ]
      }
     ],
     "prompt_number": 14
    },
    {
     "cell_type": "markdown",
     "metadata": {},
     "source": [
      "### Selection aggregation\n",
      "\n",
      "Sum 'gails' column 17."
     ]
    },
    {
     "cell_type": "code",
     "collapsed": false,
     "input": [
      "df[df[1]=='gail'][16].sum()"
     ],
     "language": "python",
     "metadata": {},
     "outputs": [
      {
       "metadata": {},
       "output_type": "pyout",
       "prompt_number": 57,
       "text": [
        "376.68000000000001"
       ]
      }
     ],
     "prompt_number": 57
    },
    {
     "cell_type": "markdown",
     "metadata": {},
     "source": [
      "### Groupby operation\n",
      "Sum column 17 grouped on column 2"
     ]
    },
    {
     "cell_type": "code",
     "collapsed": false,
     "input": [
      "df.groupby(1)[16].sum()"
     ],
     "language": "python",
     "metadata": {},
     "outputs": [
      {
       "metadata": {},
       "output_type": "pyout",
       "prompt_number": 56,
       "text": [
        "1\n",
        "badcop          293.7703\n",
        "batman         6135.9999\n",
        "benny          6979.0531\n",
        "business       1390.0466\n",
        "emmet            83.3683\n",
        "gail            376.6800\n",
        "gandalf        3898.3148\n",
        "hansolo          34.8965\n",
        "lucy            476.3963\n",
        "metalbeard     2188.7720\n",
        "shaq            646.0533\n",
        "unikitty       1505.7116\n",
        "vitruvius       432.3353\n",
        "wyldstyle     13621.3661\n",
        "Name: 16, dtype: float64"
       ]
      }
     ],
     "prompt_number": 56
    },
    {
     "cell_type": "markdown",
     "metadata": {},
     "source": [
      "### Ordered selection\n",
      "Show the top 6 users."
     ]
    },
    {
     "cell_type": "code",
     "collapsed": false,
     "input": [
      "df.groupby(1)[16].sum().order(ascending=False).head(6)"
     ],
     "language": "python",
     "metadata": {},
     "outputs": [
      {
       "metadata": {},
       "output_type": "pyout",
       "prompt_number": 17,
       "text": [
        "1\n",
        "wyldstyle     13621.3661\n",
        "benny          6979.0531\n",
        "batman         6135.9999\n",
        "gandalf        3898.3148\n",
        "metalbeard     2188.7720\n",
        "unikitty       1505.7116\n",
        "Name: 16, dtype: float64"
       ]
      }
     ],
     "prompt_number": 17
    },
    {
     "cell_type": "markdown",
     "metadata": {},
     "source": [
      "##Unstructuredd Text Manipulation: Hamlet"
     ]
    },
    {
     "cell_type": "markdown",
     "metadata": {},
     "source": [
      "### Parse words, remove punctuation, remove blank lines."
     ]
    },
    {
     "cell_type": "code",
     "collapsed": false,
     "input": [
      "!head data/hamlet.txt"
     ],
     "language": "python",
     "metadata": {},
     "outputs": [
      {
       "output_type": "stream",
       "stream": "stdout",
       "text": [
        "\tHAMLET\r\n",
        "\r\n",
        "\r\n",
        "\tDRAMATIS PERSONAE\r\n",
        "\r\n",
        "\r\n",
        "CLAUDIUS\tking of Denmark. (KING CLAUDIUS:)\r\n",
        "\r\n",
        "HAMLET\tson to the late, and nephew to the present king.\r\n",
        "\r\n"
       ]
      }
     ],
     "prompt_number": 58
    },
    {
     "cell_type": "code",
     "collapsed": false,
     "input": [
      "import re\n",
      "import string\n",
      "\n",
      "data = open('data/hamlet.txt').read()\n",
      "data = data.lower() #conver to lower\n",
      "data = re.sub('\\s*[\\n]{2,}', '\\n', data) # remove empty lines\n",
      "data = re.sub('[%s]' % re.escape(string.punctuation), '', data) \n",
      "words = re.findall(r'\\w+', data)\n",
      "words[:10]"
     ],
     "language": "python",
     "metadata": {},
     "outputs": [
      {
       "metadata": {},
       "output_type": "pyout",
       "prompt_number": 63,
       "text": [
        "['hamlet',\n",
        " 'dramatis',\n",
        " 'personae',\n",
        " 'claudius',\n",
        " 'king',\n",
        " 'of',\n",
        " 'denmark',\n",
        " 'king',\n",
        " 'claudius',\n",
        " 'hamlet']"
       ]
      }
     ],
     "prompt_number": 63
    },
    {
     "cell_type": "code",
     "collapsed": false,
     "input": [
      "print 'total number of lines', len(data.split('\\n'))\n",
      "print 'total number of words', len(words)\n",
      "print 'total number of chars', len(''.join(words))"
     ],
     "language": "python",
     "metadata": {},
     "outputs": [
      {
       "output_type": "stream",
       "stream": "stdout",
       "text": [
        "total number of lines 3673\n",
        "total number of words 26892\n",
        "total number of chars 113918\n"
       ]
      }
     ],
     "prompt_number": 64
    },
    {
     "cell_type": "markdown",
     "metadata": {},
     "source": [
      "### Counting\n",
      "\n",
      "How many unique words did Shakespeare use?"
     ]
    },
    {
     "cell_type": "code",
     "collapsed": false,
     "input": [
      "print len(set(words))"
     ],
     "language": "python",
     "metadata": {},
     "outputs": [
      {
       "output_type": "stream",
       "stream": "stdout",
       "text": [
        "4263\n"
       ]
      }
     ],
     "prompt_number": 65
    },
    {
     "cell_type": "markdown",
     "metadata": {},
     "source": [
      "What is the average word length?"
     ]
    },
    {
     "cell_type": "code",
     "collapsed": false,
     "input": [
      "np.mean(map(len, set(words)))"
     ],
     "language": "python",
     "metadata": {},
     "outputs": [
      {
       "metadata": {},
       "output_type": "pyout",
       "prompt_number": 66,
       "text": [
        "6.3893971381656112"
       ]
      }
     ],
     "prompt_number": 66
    },
    {
     "cell_type": "markdown",
     "metadata": {},
     "source": [
      "### Frequency\n",
      "\n",
      "What are the 10 most common words?"
     ]
    },
    {
     "cell_type": "code",
     "collapsed": false,
     "input": [
      "data = {}\n",
      "for w in words:\n",
      "    data[w] = data.get(w,0)+1\n",
      "    \n",
      "for w in sorted(data.items(), key=lambda x: x[1], reverse=True)[:10]:\n",
      "  print w    \n",
      "    "
     ],
     "language": "python",
     "metadata": {},
     "outputs": [
      {
       "output_type": "stream",
       "stream": "stdout",
       "text": [
        "('the', 929)\n",
        "('and', 842)\n",
        "('to', 629)\n",
        "('of', 562)\n",
        "('you', 488)\n",
        "('i', 463)\n",
        "('my', 438)\n",
        "('a', 438)\n",
        "('in', 370)\n",
        "('hamlet', 363)\n"
       ]
      }
     ],
     "prompt_number": 22
    },
    {
     "cell_type": "markdown",
     "metadata": {},
     "source": [
      "What are the 10 most common words used in Hamlet that are longer than 3?"
     ]
    },
    {
     "cell_type": "code",
     "collapsed": false,
     "input": [
      "words = sorted(data.items(), key=lambda x: x[1], reverse=True)\n",
      "tmp = [ x for x in words if len(x[0]) > 3] \n",
      "for w in tmp[:10]:\n",
      "    print w"
     ],
     "language": "python",
     "metadata": {},
     "outputs": [
      {
       "output_type": "stream",
       "stream": "stdout",
       "text": [
        "('hamlet', 363)\n",
        "('that', 330)\n",
        "('lord', 277)\n",
        "('this', 237)\n",
        "('with', 231)\n",
        "('your', 211)\n",
        "('what', 174)\n",
        "('king', 167)\n",
        "('have', 147)\n",
        "('will', 134)\n"
       ]
      }
     ],
     "prompt_number": 23
    },
    {
     "cell_type": "markdown",
     "metadata": {},
     "source": [
      "## The `map` operation \n",
      "\n",
      "`qdel` all queued jobs"
     ]
    },
    {
     "cell_type": "code",
     "collapsed": false,
     "input": [
      "# option one\n",
      "df = pd.read_table('data/joblist.txt', delimiter=r\"\\s+\", header=None, skiprows=5) #<- fixed value\n",
      "job_ids = df[0].map(lambda x: re.findall(r'(^[0-9]+)', x)[0]).values\n",
      "job_ids\n"
     ],
     "language": "python",
     "metadata": {},
     "outputs": [
      {
       "metadata": {},
       "output_type": "pyout",
       "prompt_number": 69,
       "text": [
        "array(['2515176', '2447765', '2450992', '2497824', '2498067', '2498068',\n",
        "       '2498106', '2498107', '2498108', '2512144', '2512145', '2512168',\n",
        "       '2512169', '2512170', '2512181', '2512182', '2512183', '2512184',\n",
        "       '2512185', '2512211', '2514880', '2514881', '2514882', '2514883',\n",
        "       '2514884', '2514886', '2514887', '2514888', '2514889', '2517128',\n",
        "       '2517139', '2517140', '2517297', '2517298', '2517299', '2517300',\n",
        "       '2517301', '2517659', '2517673', '2517835', '2517836'], dtype=object)"
       ]
      }
     ],
     "prompt_number": 69
    },
    {
     "cell_type": "code",
     "collapsed": false,
     "input": [
      "import subprocess\n",
      "import functools\n",
      "\n",
      "def run_command(cmd, x):\n",
      "    pid = subprocess.Popen([cmd,str(x)], stdout=subprocess.PIPE)\n",
      "    pid.wait()\n",
      "    output, _ = pid.communicate()\n",
      "    return output\n",
      "    "
     ],
     "language": "python",
     "metadata": {},
     "outputs": [],
     "prompt_number": 70
    },
    {
     "cell_type": "code",
     "collapsed": false,
     "input": [
      "qdel = functools.partial(run_command, 'echo') #could be qdel\n",
      "results = map(qdel, job_ids)"
     ],
     "language": "python",
     "metadata": {},
     "outputs": [],
     "prompt_number": 71
    },
    {
     "cell_type": "code",
     "collapsed": false,
     "input": [
      "print results"
     ],
     "language": "python",
     "metadata": {},
     "outputs": [
      {
       "output_type": "stream",
       "stream": "stdout",
       "text": [
        "['2515176\\n', '2447765\\n', '2450992\\n', '2497824\\n', '2498067\\n', '2498068\\n', '2498106\\n', '2498107\\n', '2498108\\n', '2512144\\n', '2512145\\n', '2512168\\n', '2512169\\n', '2512170\\n', '2512181\\n', '2512182\\n', '2512183\\n', '2512184\\n', '2512185\\n', '2512211\\n', '2514880\\n', '2514881\\n', '2514882\\n', '2514883\\n', '2514884\\n', '2514886\\n', '2514887\\n', '2514888\\n', '2514889\\n', '2517128\\n', '2517139\\n', '2517140\\n', '2517297\\n', '2517298\\n', '2517299\\n', '2517300\\n', '2517301\\n', '2517659\\n', '2517673\\n', '2517835\\n', '2517836\\n']\n"
       ]
      }
     ],
     "prompt_number": 72
    },
    {
     "cell_type": "markdown",
     "metadata": {},
     "source": [
      "## Other Structured Text: `json`"
     ]
    },
    {
     "cell_type": "markdown",
     "metadata": {},
     "source": [
      "Top rated restaurants in Boulder?"
     ]
    },
    {
     "cell_type": "code",
     "collapsed": false,
     "input": [
      "import json\n",
      "\n",
      "data = json.loads(open('data/restaurants.json').read())\n",
      "\n",
      "names = []\n",
      "ratings = []\n",
      "counts = []\n",
      "\n",
      "for r in data['businesses']:\n",
      "    names.append(r['name'])\n",
      "    ratings.append(r['rating'])\n",
      "    counts.append(r['review_count'])\n"
     ],
     "language": "python",
     "metadata": {},
     "outputs": [],
     "prompt_number": 73
    },
    {
     "cell_type": "code",
     "collapsed": false,
     "input": [
      "df = pd.DataFrame({'name': names, 'ratings': ratings, 'counts': counts})\n",
      "df.head()"
     ],
     "language": "python",
     "metadata": {},
     "outputs": [
      {
       "html": [
        "<div style=\"max-height:1000px;max-width:1500px;overflow:auto;\">\n",
        "<table border=\"1\" class=\"dataframe\">\n",
        "  <thead>\n",
        "    <tr style=\"text-align: right;\">\n",
        "      <th></th>\n",
        "      <th>counts</th>\n",
        "      <th>name</th>\n",
        "      <th>ratings</th>\n",
        "    </tr>\n",
        "  </thead>\n",
        "  <tbody>\n",
        "    <tr>\n",
        "      <th>0</th>\n",
        "      <td> 229</td>\n",
        "      <td>       Frasca Food and Wine</td>\n",
        "      <td> 4.5</td>\n",
        "    </tr>\n",
        "    <tr>\n",
        "      <th>1</th>\n",
        "      <td> 179</td>\n",
        "      <td> Leaf Vegetarian Restaurant</td>\n",
        "      <td> 4.0</td>\n",
        "    </tr>\n",
        "    <tr>\n",
        "      <th>2</th>\n",
        "      <td> 117</td>\n",
        "      <td>            Flagstaff House</td>\n",
        "      <td> 4.5</td>\n",
        "    </tr>\n",
        "    <tr>\n",
        "      <th>3</th>\n",
        "      <td>  92</td>\n",
        "      <td>           Black Cat Bistro</td>\n",
        "      <td> 4.0</td>\n",
        "    </tr>\n",
        "    <tr>\n",
        "      <th>4</th>\n",
        "      <td> 336</td>\n",
        "      <td>                The Kitchen</td>\n",
        "      <td> 4.0</td>\n",
        "    </tr>\n",
        "  </tbody>\n",
        "</table>\n",
        "<p>5 rows \u00d7 3 columns</p>\n",
        "</div>"
       ],
       "metadata": {},
       "output_type": "pyout",
       "prompt_number": 74,
       "text": [
        "   counts                        name  ratings\n",
        "0     229        Frasca Food and Wine      4.5\n",
        "1     179  Leaf Vegetarian Restaurant      4.0\n",
        "2     117             Flagstaff House      4.5\n",
        "3      92            Black Cat Bistro      4.0\n",
        "4     336                 The Kitchen      4.0\n",
        "\n",
        "[5 rows x 3 columns]"
       ]
      }
     ],
     "prompt_number": 74
    },
    {
     "cell_type": "code",
     "collapsed": false,
     "input": [
      "df[['name','ratings','counts']].sort('ratings', ascending=False).head(10)"
     ],
     "language": "python",
     "metadata": {},
     "outputs": [
      {
       "html": [
        "<div style=\"max-height:1000px;max-width:1500px;overflow:auto;\">\n",
        "<table border=\"1\" class=\"dataframe\">\n",
        "  <thead>\n",
        "    <tr style=\"text-align: right;\">\n",
        "      <th></th>\n",
        "      <th>name</th>\n",
        "      <th>ratings</th>\n",
        "      <th>counts</th>\n",
        "    </tr>\n",
        "  </thead>\n",
        "  <tbody>\n",
        "    <tr>\n",
        "      <th>9 </th>\n",
        "      <td>                Nepal Cuisine</td>\n",
        "      <td> 4.5</td>\n",
        "      <td>  77</td>\n",
        "    </tr>\n",
        "    <tr>\n",
        "      <th>10</th>\n",
        "      <td>                   Il Pastaio</td>\n",
        "      <td> 4.5</td>\n",
        "      <td> 144</td>\n",
        "    </tr>\n",
        "    <tr>\n",
        "      <th>2 </th>\n",
        "      <td>              Flagstaff House</td>\n",
        "      <td> 4.5</td>\n",
        "      <td> 117</td>\n",
        "    </tr>\n",
        "    <tr>\n",
        "      <th>0 </th>\n",
        "      <td>         Frasca Food and Wine</td>\n",
        "      <td> 4.5</td>\n",
        "      <td> 229</td>\n",
        "    </tr>\n",
        "    <tr>\n",
        "      <th>15</th>\n",
        "      <td>     Arugula Bar E Ristorante</td>\n",
        "      <td> 4.0</td>\n",
        "      <td>  72</td>\n",
        "    </tr>\n",
        "    <tr>\n",
        "      <th>13</th>\n",
        "      <td>            Native Foods Cafe</td>\n",
        "      <td> 4.0</td>\n",
        "      <td>  77</td>\n",
        "    </tr>\n",
        "    <tr>\n",
        "      <th>12</th>\n",
        "      <td>                    L'Atelier</td>\n",
        "      <td> 4.0</td>\n",
        "      <td>  76</td>\n",
        "    </tr>\n",
        "    <tr>\n",
        "      <th>11</th>\n",
        "      <td>               Jax Fish House</td>\n",
        "      <td> 4.0</td>\n",
        "      <td> 148</td>\n",
        "    </tr>\n",
        "    <tr>\n",
        "      <th>18</th>\n",
        "      <td>               Tandoori Grill</td>\n",
        "      <td> 4.0</td>\n",
        "      <td>  77</td>\n",
        "    </tr>\n",
        "    <tr>\n",
        "      <th>8 </th>\n",
        "      <td> The Mediterranean Restaurant</td>\n",
        "      <td> 4.0</td>\n",
        "      <td> 375</td>\n",
        "    </tr>\n",
        "  </tbody>\n",
        "</table>\n",
        "<p>10 rows \u00d7 3 columns</p>\n",
        "</div>"
       ],
       "metadata": {},
       "output_type": "pyout",
       "prompt_number": 75,
       "text": [
        "                            name  ratings  counts\n",
        "9                  Nepal Cuisine      4.5      77\n",
        "10                    Il Pastaio      4.5     144\n",
        "2                Flagstaff House      4.5     117\n",
        "0           Frasca Food and Wine      4.5     229\n",
        "15      Arugula Bar E Ristorante      4.0      72\n",
        "13             Native Foods Cafe      4.0      77\n",
        "12                     L'Atelier      4.0      76\n",
        "11                Jax Fish House      4.0     148\n",
        "18                Tandoori Grill      4.0      77\n",
        "8   The Mediterranean Restaurant      4.0     375\n",
        "\n",
        "[10 rows x 3 columns]"
       ]
      }
     ],
     "prompt_number": 75
    },
    {
     "cell_type": "markdown",
     "metadata": {},
     "source": [
      "##Numerical Computing and plotting"
     ]
    },
    {
     "cell_type": "code",
     "collapsed": false,
     "input": [
      "deg = np.arange(0,45,5)\n",
      "\n",
      "fah = (9*deg/5.)+32\n",
      "\n",
      "for d, f in zip(deg, fah):\n",
      "    print d,f"
     ],
     "language": "python",
     "metadata": {},
     "outputs": [
      {
       "output_type": "stream",
       "stream": "stdout",
       "text": [
        "0 32.0\n",
        "5 41.0\n",
        "10 50.0\n",
        "15 59.0\n",
        "20 68.0\n",
        "25 77.0\n",
        "30 86.0\n",
        "35 95.0\n",
        "40 104.0\n"
       ]
      }
     ],
     "prompt_number": 78
    },
    {
     "cell_type": "code",
     "collapsed": false,
     "input": [
      "from mpld3 import enable_notebook\n",
      "enable_notebook()\n",
      "\n",
      "rad = np.arange(-100,100)\n",
      "plot(sin(rad/10.))\n",
      "show()"
     ],
     "language": "python",
     "metadata": {},
     "outputs": [
      {
       "html": [
        "\n",
        "<style>\n",
        "\n",
        "</style>\n",
        "\n",
        "<div id=\"fig826243965075363137907910\"></div>\n",
        "<script>\n",
        "function mpld3_load_lib(url, callback){\n",
        "  var s = document.createElement('script');\n",
        "  s.src = url;\n",
        "  s.async = true;\n",
        "  s.onreadystatechange = s.onload = callback;\n",
        "  s.onerror = function(){console.warn(\"failed to load library \" + url);};\n",
        "  document.getElementsByTagName(\"head\")[0].appendChild(s);\n",
        "}\n",
        "\n",
        "function create_fig826243965075363137907910(){\n",
        "  \n",
        "  mpld3.draw_figure(\"fig826243965075363137907910\", {\"width\": 800.0, \"axes\": [{\"xlim\": [0.0, 200.0], \"yscale\": \"linear\", \"axesbg\": \"#EEEEEE\", \"texts\": [], \"zoomable\": true, \"images\": [], \"xdomain\": [0.0, 200.0], \"ylim\": [-1.0, 1.0], \"paths\": [], \"sharey\": [], \"sharex\": [], \"axesbgalpha\": null, \"axes\": [{\"grid\": {\"color\": \"#000000\", \"alpha\": 1.0, \"dasharray\": \"2,2\", \"gridOn\": true}, \"position\": \"bottom\", \"nticks\": 5, \"tickvalues\": null, \"tickformat\": null}, {\"grid\": {\"color\": \"#000000\", \"alpha\": 1.0, \"dasharray\": \"2,2\", \"gridOn\": true}, \"position\": \"left\", \"nticks\": 5, \"tickvalues\": null, \"tickformat\": null}], \"lines\": [{\"color\": \"#348ABD\", \"yindex\": 1, \"coordinates\": \"data\", \"dasharray\": \"10,0\", \"zorder\": 2, \"alpha\": 1, \"xindex\": 0, \"linewidth\": 1.0, \"data\": \"data01\", \"id\": \"82624402428112\"}], \"markers\": [], \"id\": \"82624399478672\", \"ydomain\": [-1.0, 1.0], \"collections\": [], \"xscale\": \"linear\", \"bbox\": [0.125, 0.125, 0.77500000000000002, 0.77500000000000002]}], \"data\": {\"data01\": [[0.0, 0.5440211108893699], [1.0, 0.45753589377532133], [2.0, 0.3664791292519284], [3.0, 0.2717606264109424], [4.0, 0.17432678122297965], [5.0, 0.07515112046180931], [6.0, -0.024775425453357765], [7.0, -0.12445442350706169], [8.0, -0.22288991410024764], [9.0, -0.3190983623493521], [10.0, -0.4121184852417566], [11.0, -0.5010208564578846], [12.0, -0.5849171928917617], [13.0, -0.6629692300821833], [14.0, -0.7343970978741134], [15.0, -0.7984871126234903], [16.0, -0.8545989080882805], [17.0, -0.9021718337562934], [18.0, -0.9407305566797731], [19.0, -0.9698898108450863], [20.0, -0.9893582466233818], [21.0, -0.998941341839772], [22.0, -0.998543345374605], [23.0, -0.9881682338770004], [24.0, -0.9679196720314863], [25.0, -0.9379999767747389], [26.0, -0.8987080958116269], [27.0, -0.8504366206285644], [28.0, -0.7936678638491531], [29.0, -0.7289690401258759], [30.0, -0.6569865987187891], [31.0, -0.5784397643882002], [32.0, -0.4941133511386082], [33.0, -0.40484992061659836], [34.0, -0.31154136351337786], [35.0, -0.21511998808781552], [36.0, -0.11654920485049364], [37.0, -0.016813900484349713], [38.0, 0.08308940281749641], [39.0, 0.1821625042720959], [40.0, 0.27941549819892586], [41.0, 0.373876664830236], [42.0, 0.46460217941375737], [43.0, 0.5506855425976376], [44.0, 0.6312666378723216], [45.0, 0.7055403255703919], [46.0, 0.7727644875559871], [47.0, 0.8322674422239013], [48.0, 0.8834546557201531], [49.0, 0.9258146823277325], [50.0, 0.9589242746631385], [51.0, 0.9824526126243325], [52.0, 0.9961646088358407], [53.0, 0.9999232575641008], [54.0, 0.9936910036334644], [55.0, 0.977530117665097], [56.0, 0.9516020738895161], [57.0, 0.9161659367494549], [58.0, 0.8715757724135881], [59.0, 0.8182771110644103], [60.0, 0.7568024953079282], [61.0, 0.6877661591839738], [62.0, 0.6118578909427189], [63.0, 0.5298361409084934], [64.0, 0.44252044329485246], [65.0, 0.35078322768961984], [66.0, 0.2555411020268312], [67.0, 0.1577456941432482], [68.0, 0.058374143427580086], [69.0, -0.04158066243329049], [70.0, -0.1411200080598672], [71.0, -0.2392493292139824], [72.0, -0.33498815015590505], [73.0, -0.4273798802338298], [74.0, -0.5155013718214642], [75.0, -0.5984721441039564], [76.0, -0.675463180551151], [77.0, -0.7457052121767203], [78.0, -0.8084964038195901], [79.0, -0.8632093666488738], [80.0, -0.9092974268256817], [81.0, -0.9463000876874145], [82.0, -0.9738476308781951], [83.0, -0.9916648104524686], [84.0, -0.9995736030415051], [85.0, -0.9974949866040544], [86.0, -0.9854497299884601], [87.0, -0.963558185417193], [88.0, -0.9320390859672263], [89.0, -0.8912073600614354], [90.0, -0.8414709848078965], [91.0, -0.7833269096274833], [92.0, -0.7173560908995228], [93.0, -0.644217687237691], [94.0, -0.5646424733950354], [95.0, -0.479425538604203], [96.0, -0.3894183423086505], [97.0, -0.29552020666133955], [98.0, -0.19866933079506122], [99.0, -0.09983341664682815], [100.0, 0.0], [101.0, 0.09983341664682815], [102.0, 0.19866933079506122], [103.0, 0.29552020666133955], [104.0, 0.3894183423086505], [105.0, 0.479425538604203], [106.0, 0.5646424733950354], [107.0, 0.644217687237691], [108.0, 0.7173560908995228], [109.0, 0.7833269096274833], [110.0, 0.8414709848078965], [111.0, 0.8912073600614354], [112.0, 0.9320390859672263], [113.0, 0.963558185417193], [114.0, 0.9854497299884601], [115.0, 0.9974949866040544], [116.0, 0.9995736030415051], [117.0, 0.9916648104524686], [118.0, 0.9738476308781951], [119.0, 0.9463000876874145], [120.0, 0.9092974268256817], [121.0, 0.8632093666488738], [122.0, 0.8084964038195901], [123.0, 0.7457052121767203], [124.0, 0.675463180551151], [125.0, 0.5984721441039564], [126.0, 0.5155013718214642], [127.0, 0.4273798802338298], [128.0, 0.33498815015590505], [129.0, 0.2392493292139824], [130.0, 0.1411200080598672], [131.0, 0.04158066243329049], [132.0, -0.058374143427580086], [133.0, -0.1577456941432482], [134.0, -0.2555411020268312], [135.0, -0.35078322768961984], [136.0, -0.44252044329485246], [137.0, -0.5298361409084934], [138.0, -0.6118578909427189], [139.0, -0.6877661591839738], [140.0, -0.7568024953079282], [141.0, -0.8182771110644103], [142.0, -0.8715757724135881], [143.0, -0.9161659367494549], [144.0, -0.9516020738895161], [145.0, -0.977530117665097], [146.0, -0.9936910036334644], [147.0, -0.9999232575641008], [148.0, -0.9961646088358407], [149.0, -0.9824526126243325], [150.0, -0.9589242746631385], [151.0, -0.9258146823277325], [152.0, -0.8834546557201531], [153.0, -0.8322674422239013], [154.0, -0.7727644875559871], [155.0, -0.7055403255703919], [156.0, -0.6312666378723216], [157.0, -0.5506855425976376], [158.0, -0.46460217941375737], [159.0, -0.373876664830236], [160.0, -0.27941549819892586], [161.0, -0.1821625042720959], [162.0, -0.08308940281749641], [163.0, 0.016813900484349713], [164.0, 0.11654920485049364], [165.0, 0.21511998808781552], [166.0, 0.31154136351337786], [167.0, 0.40484992061659836], [168.0, 0.4941133511386082], [169.0, 0.5784397643882002], [170.0, 0.6569865987187891], [171.0, 0.7289690401258759], [172.0, 0.7936678638491531], [173.0, 0.8504366206285644], [174.0, 0.8987080958116269], [175.0, 0.9379999767747389], [176.0, 0.9679196720314863], [177.0, 0.9881682338770004], [178.0, 0.998543345374605], [179.0, 0.998941341839772], [180.0, 0.9893582466233818], [181.0, 0.9698898108450863], [182.0, 0.9407305566797731], [183.0, 0.9021718337562934], [184.0, 0.8545989080882805], [185.0, 0.7984871126234903], [186.0, 0.7343970978741134], [187.0, 0.6629692300821833], [188.0, 0.5849171928917617], [189.0, 0.5010208564578846], [190.0, 0.4121184852417566], [191.0, 0.3190983623493521], [192.0, 0.22288991410024764], [193.0, 0.12445442350706169], [194.0, 0.024775425453357765], [195.0, -0.07515112046180931], [196.0, -0.17432678122297965], [197.0, -0.2717606264109424], [198.0, -0.3664791292519284], [199.0, -0.45753589377532133]]}, \"id\": \"82624396507536\", \"toolbar\": [\"reset\", \"move\"], \"height\": 480.0});\n",
        "}\n",
        "\n",
        "if(typeof(mpld3) !== \"undefined\"){\n",
        "   // already loaded: just create the figure\n",
        "   create_fig826243965075363137907910();\n",
        "}else if(typeof define === \"function\" && define.amd){\n",
        "   // require.js is available: use it to load d3/mpld3\n",
        "   require.config({paths: {d3: \"http://d3js.org/d3.v3.min\"}});\n",
        "   require([\"d3\"], function(d3){\n",
        "      window.d3 = d3;\n",
        "      mpld3_load_lib(\"http://mpld3.github.io/js/mpld3.v0.1.js\", create_fig826243965075363137907910);\n",
        "    });\n",
        "}else{\n",
        "    // require.js not available: dynamically load d3 & mpld3\n",
        "    mpld3_load_lib(\"http://d3js.org/d3.v3.min.js\", function(){\n",
        "        mpld3_load_lib(\"http://mpld3.github.io/js/mpld3.v0.1.js\", create_fig826243965075363137907910);})\n",
        "}\n",
        "</script>"
       ],
       "metadata": {},
       "output_type": "display_data",
       "png": "[encoded data removed]",
       "text": [
        "<matplotlib.figure.Figure at 0x1060d6190>"
       ]
      }
     ],
     "prompt_number": 4
    },
    {
     "cell_type": "markdown",
     "metadata": {},
     "source": [
      "## Text manipulation"
     ]
    },
    {
     "cell_type": "markdown",
     "metadata": {},
     "source": [
      "### Edit replace"
     ]
    },
    {
     "cell_type": "code",
     "collapsed": false,
     "input": [
      "tmp = 'This is a sample for text manipulation.\\nHere is another line'\n",
      "print tmp"
     ],
     "language": "python",
     "metadata": {},
     "outputs": [
      {
       "output_type": "stream",
       "stream": "stdout",
       "text": [
        "This is a sample for text manipulation.\n",
        "Here is another line\n"
       ]
      }
     ],
     "prompt_number": 35
    },
    {
     "cell_type": "code",
     "collapsed": false,
     "input": [
      "tmp.replace(' is ', ' was ') #notice non-mutable"
     ],
     "language": "python",
     "metadata": {},
     "outputs": [
      {
       "metadata": {},
       "output_type": "pyout",
       "prompt_number": 37,
       "text": [
        "'This was a sample for text manipulation.\\nHere was another line'"
       ]
      }
     ],
     "prompt_number": 37
    },
    {
     "cell_type": "markdown",
     "metadata": {},
     "source": [
      "### Remove blank lines"
     ]
    },
    {
     "cell_type": "code",
     "collapsed": false,
     "input": [
      "data = open('data/blank_lines.txt').read()\n",
      "print data"
     ],
     "language": "python",
     "metadata": {},
     "outputs": [
      {
       "output_type": "stream",
       "stream": "stdout",
       "text": [
        "line 1\n",
        "\n",
        "line 3\n",
        " \n",
        "\n",
        "line 6\n",
        "\n",
        "\t\n",
        "\n",
        "line 10\n",
        "\n"
       ]
      }
     ],
     "prompt_number": 38
    },
    {
     "cell_type": "code",
     "collapsed": false,
     "input": [
      "print data.replace('\\n\\n','\\n')\n",
      "data.replace('\\n\\n','\\n')"
     ],
     "language": "python",
     "metadata": {},
     "outputs": [
      {
       "output_type": "stream",
       "stream": "stdout",
       "text": [
        "line 1\n",
        "line 3\n",
        " \n",
        "line 6\n",
        "\t\n",
        "line 10\n",
        "\n"
       ]
      },
      {
       "metadata": {},
       "output_type": "pyout",
       "prompt_number": 39,
       "text": [
        "'line 1\\nline 3\\n \\nline 6\\n\\t\\nline 10\\n'"
       ]
      }
     ],
     "prompt_number": 39
    },
    {
     "cell_type": "code",
     "collapsed": false,
     "input": [
      "print re.sub('\\s*[\\n]{2,}', '\\n', data)"
     ],
     "language": "python",
     "metadata": {},
     "outputs": [
      {
       "output_type": "stream",
       "stream": "stdout",
       "text": [
        "line 1\n",
        "line 3\n",
        "line 6\n",
        "line 10\n",
        "\n"
       ]
      }
     ],
     "prompt_number": 40
    },
    {
     "cell_type": "markdown",
     "metadata": {},
     "source": [
      "I still  need to write this to a file."
     ]
    },
    {
     "cell_type": "markdown",
     "metadata": {},
     "source": [
      "### Remove `HTML` tags"
     ]
    },
    {
     "cell_type": "code",
     "collapsed": false,
     "input": [
      "from IPython.core.display import HTML\n",
      "\n",
      "data = open('data/sample.html','r').read()\n",
      "\n",
      "HTML(data)"
     ],
     "language": "python",
     "metadata": {},
     "outputs": [
      {
       "html": [
        "\n",
        "<!DOCTYPE HTML PUBLIC \"-//W3C//DTD HTML 3.2 Final//EN\">\n",
        "<html>\n",
        "<head>\n",
        "<title>Slideshow</title>\n",
        "</head>\n",
        "<body>\n",
        "<div><a href=\"https://www.rc.colorado.edu/\">Research Computing</a></div>\t \n",
        "<p> This is a paragraph</p>\n",
        "<br>\n",
        "<p> There is a line break above me</p>\n",
        "\n",
        "</body>\n",
        "</html>"
       ],
       "metadata": {},
       "output_type": "pyout",
       "prompt_number": 44,
       "text": [
        "<IPython.core.display.HTML at 0x105af5250>"
       ]
      }
     ],
     "prompt_number": 44
    },
    {
     "cell_type": "code",
     "collapsed": false,
     "input": [
      "tmp = re.sub(r'<[^<>]+>', ' ', data)\n",
      "print re.sub('[\\s*\\n\\s*]{2,}', '\\n', tmp)"
     ],
     "language": "python",
     "metadata": {},
     "outputs": [
      {
       "output_type": "stream",
       "stream": "stdout",
       "text": [
        "\n",
        "Slideshow\n",
        "Research Computing\n",
        "This is a paragraph\n",
        "There is a line break above me\n",
        "\n"
       ]
      }
     ],
     "prompt_number": 45
    },
    {
     "cell_type": "markdown",
     "metadata": {},
     "source": [
      "Also check out NLTK"
     ]
    },
    {
     "cell_type": "markdown",
     "metadata": {},
     "source": [
      "### What about acting on multiple files at once?"
     ]
    },
    {
     "cell_type": "code",
     "collapsed": false,
     "input": [
      "import glob\n",
      "\n",
      "files = glob.glob('data/*.txt')\n",
      "for f in files:\n",
      "    data = open(f,'r').read()\n",
      "    data = data.replace('original','replacement')\n",
      "    # Write data back to f"
     ],
     "language": "python",
     "metadata": {},
     "outputs": [],
     "prompt_number": 46
    },
    {
     "cell_type": "markdown",
     "metadata": {},
     "source": [
      "###What if the files are in several subdirectories?"
     ]
    },
    {
     "cell_type": "code",
     "collapsed": false,
     "input": [
      "import os\n",
      "\n",
      "for dirpath, dirnames, files in os.walk('data'):\n",
      "    for f in files:\n",
      "        if os.path.splitext(f)[1] == '.txt':\n",
      "            print os.path.join(dirpath, f)\n",
      "            # do work on file"
     ],
     "language": "python",
     "metadata": {},
     "outputs": [
      {
       "output_type": "stream",
       "stream": "stdout",
       "text": [
        "data/blank_lines.txt\n",
        "data/hamlet.txt\n",
        "data/joblist.txt\n",
        "data/sub/joblist.txt"
       ]
      },
      {
       "output_type": "stream",
       "stream": "stdout",
       "text": [
        "\n"
       ]
      }
     ],
     "prompt_number": 47
    },
    {
     "cell_type": "code",
     "collapsed": false,
     "input": [],
     "language": "python",
     "metadata": {},
     "outputs": []
    }
   ],
   "metadata": {}
  }
 ]
}