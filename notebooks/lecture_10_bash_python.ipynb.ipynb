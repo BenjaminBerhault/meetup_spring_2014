{
 "metadata": {
  "name": ""
 },
 "nbformat": 3,
 "nbformat_minor": 0,
 "worksheets": [
  {
   "cells": [
    {
     "cell_type": "markdown",
     "metadata": {},
     "source": [
      "# Bash and Python Throw Down"
     ]
    },
    {
     "cell_type": "markdown",
     "metadata": {},
     "source": [
      "Overview slide..."
     ]
    },
    {
     "cell_type": "markdown",
     "metadata": {},
     "source": [
      "Pete:\n",
      "\n",
      "- Numerical\n",
      "- Visualization: gnuplot   \n",
      "- text:\n",
      "    - global find replace\n",
      "    - Remove comments, blank lines, HTML\n",
      "    - process on group of files\n",
      "    - files in multiple directories\n",
      "\n",
      "Monte:\n",
      "\n",
      "- Frequency: Hamlet count\n",
      "- Text operations on JSON, XML..\n",
      "- `qdel` all queued jobs\n",
      "- pivot table (missing values)\n",
      "- `sum` col in *.csv\n",
      "    - list of jobs that run in a month\n",
      "    - add up su by user\n",
      "    - `groupby` operation\n",
      "    - top 10 sort\n",
      "    \n"
     ]
    },
    {
     "cell_type": "markdown",
     "metadata": {},
     "source": [
      "## Wrangling csv's"
     ]
    },
    {
     "cell_type": "code",
     "collapsed": false,
     "input": [
      "import pandas as pd\n",
      "import numpy as np"
     ],
     "language": "python",
     "metadata": {},
     "outputs": [],
     "prompt_number": 31
    },
    {
     "cell_type": "markdown",
     "metadata": {},
     "source": [
      "Sum column number 17"
     ]
    },
    {
     "cell_type": "code",
     "collapsed": false,
     "input": [
      "df = pd.read_csv('data/20140209.csv', header=None)\n",
      "df[16].sum()\n"
     ],
     "language": "python",
     "metadata": {},
     "outputs": [
      {
       "metadata": {},
       "output_type": "pyout",
       "prompt_number": 63,
       "text": [
        "38062.764099999971"
       ]
      }
     ],
     "prompt_number": 63
    },
    {
     "cell_type": "markdown",
     "metadata": {},
     "source": [
      "Sum column 17 grouped on column 2"
     ]
    },
    {
     "cell_type": "code",
     "collapsed": false,
     "input": [
      "df.groupby(1)[16].sum()"
     ],
     "language": "python",
     "metadata": {},
     "outputs": [
      {
       "metadata": {},
       "output_type": "pyout",
       "prompt_number": 70,
       "text": [
        "1\n",
        "ande1141        646.0533\n",
        "badcop          293.7703\n",
        "batman         6135.9999\n",
        "benny          6979.0531\n",
        "business       1390.0466\n",
        "emmet            83.3683\n",
        "gail            376.6800\n",
        "gandalf        3898.3148\n",
        "hansolo          34.8965\n",
        "lucy            476.3963\n",
        "metalbeard     2188.7720\n",
        "unikitty       1505.7116\n",
        "vitruvius       432.3353\n",
        "wyldstyle     13621.3661\n",
        "Name: 16, dtype: float64"
       ]
      }
     ],
     "prompt_number": 70
    },
    {
     "cell_type": "markdown",
     "metadata": {},
     "source": [
      "Show the top 6 users."
     ]
    },
    {
     "cell_type": "code",
     "collapsed": false,
     "input": [
      "df.groupby(1)[16].sum().order(ascending=False).head(6)"
     ],
     "language": "python",
     "metadata": {},
     "outputs": [
      {
       "metadata": {},
       "output_type": "pyout",
       "prompt_number": 69,
       "text": [
        "1\n",
        "wyldstyle     13621.3661\n",
        "benny          6979.0531\n",
        "batman         6135.9999\n",
        "gandalf        3898.3148\n",
        "metalbeard     2188.7720\n",
        "unikitty       1505.7116\n",
        "Name: 16, dtype: float64"
       ]
      }
     ],
     "prompt_number": 69
    },
    {
     "cell_type": "markdown",
     "metadata": {},
     "source": [
      "Sum column 17 grouped by col 2 and 4"
     ]
    },
    {
     "cell_type": "code",
     "collapsed": false,
     "input": [
      "df = pd.read_csv('data/20140209.csv', header=None)\n",
      "df.groupby([1,3])[16].sum()"
     ],
     "language": "python",
     "metadata": {},
     "outputs": [
      {
       "metadata": {},
       "output_type": "pyout",
       "prompt_number": 65,
       "text": [
        "1           3           \n",
        "ande1141    janus-long        646.0533\n",
        "badcop      himem             171.7464\n",
        "            janus-long         33.6895\n",
        "            janus-short        30.3415\n",
        "            janus-small        57.9929\n",
        "batman      janus-short      6135.9999\n",
        "benny       crc-serial       6979.0531\n",
        "business    janus-debug      1390.0466\n",
        "emmet       janus-short        72.6088\n",
        "            janus-small        10.7595\n",
        "gail        janus-small       376.6800\n",
        "gandalf     crc-gpu           128.6232\n",
        "            janus-long        362.2288\n",
        "            janus-small      3407.4628\n",
        "hansolo     janus-debug        34.8965\n",
        "lucy        crc-gpu           476.3963\n",
        "metalbeard  crc-serial        568.3733\n",
        "            janus-small      1620.3987\n",
        "unikitty    janus-normal      125.0666\n",
        "            janus-small      1380.6450\n",
        "vitruvius   janus-small       432.3353\n",
        "wyldstyle   janus-long        462.7833\n",
        "            janus-normal    12100.7600\n",
        "            janus-short      1057.8228\n",
        "Name: 16, dtype: float64"
       ]
      }
     ],
     "prompt_number": 65
    },
    {
     "cell_type": "markdown",
     "metadata": {},
     "source": [
      "Make the users the rows and the queues the cols."
     ]
    },
    {
     "cell_type": "code",
     "collapsed": false,
     "input": [
      "df.groupby([1,3])[16].sum().unstack().fillna(0)"
     ],
     "language": "python",
     "metadata": {},
     "outputs": [
      {
       "html": [
        "<div style=\"max-height:1000px;max-width:1500px;overflow:auto;\">\n",
        "<table border=\"1\" class=\"dataframe\">\n",
        "  <thead>\n",
        "    <tr style=\"text-align: right;\">\n",
        "      <th>3</th>\n",
        "      <th>crc-gpu</th>\n",
        "      <th>crc-serial</th>\n",
        "      <th>himem</th>\n",
        "      <th>janus-debug</th>\n",
        "      <th>janus-long</th>\n",
        "      <th>janus-normal</th>\n",
        "      <th>janus-short</th>\n",
        "      <th>janus-small</th>\n",
        "    </tr>\n",
        "    <tr>\n",
        "      <th>1</th>\n",
        "      <th></th>\n",
        "      <th></th>\n",
        "      <th></th>\n",
        "      <th></th>\n",
        "      <th></th>\n",
        "      <th></th>\n",
        "      <th></th>\n",
        "      <th></th>\n",
        "    </tr>\n",
        "  </thead>\n",
        "  <tbody>\n",
        "    <tr>\n",
        "      <th>ande1141</th>\n",
        "      <td>   0.0000</td>\n",
        "      <td>    0.0000</td>\n",
        "      <td>   0.0000</td>\n",
        "      <td>    0.0000</td>\n",
        "      <td> 646.0533</td>\n",
        "      <td>     0.0000</td>\n",
        "      <td>    0.0000</td>\n",
        "      <td>    0.0000</td>\n",
        "    </tr>\n",
        "    <tr>\n",
        "      <th>badcop</th>\n",
        "      <td>   0.0000</td>\n",
        "      <td>    0.0000</td>\n",
        "      <td> 171.7464</td>\n",
        "      <td>    0.0000</td>\n",
        "      <td>  33.6895</td>\n",
        "      <td>     0.0000</td>\n",
        "      <td>   30.3415</td>\n",
        "      <td>   57.9929</td>\n",
        "    </tr>\n",
        "    <tr>\n",
        "      <th>batman</th>\n",
        "      <td>   0.0000</td>\n",
        "      <td>    0.0000</td>\n",
        "      <td>   0.0000</td>\n",
        "      <td>    0.0000</td>\n",
        "      <td>   0.0000</td>\n",
        "      <td>     0.0000</td>\n",
        "      <td> 6135.9999</td>\n",
        "      <td>    0.0000</td>\n",
        "    </tr>\n",
        "    <tr>\n",
        "      <th>benny</th>\n",
        "      <td>   0.0000</td>\n",
        "      <td> 6979.0531</td>\n",
        "      <td>   0.0000</td>\n",
        "      <td>    0.0000</td>\n",
        "      <td>   0.0000</td>\n",
        "      <td>     0.0000</td>\n",
        "      <td>    0.0000</td>\n",
        "      <td>    0.0000</td>\n",
        "    </tr>\n",
        "    <tr>\n",
        "      <th>business</th>\n",
        "      <td>   0.0000</td>\n",
        "      <td>    0.0000</td>\n",
        "      <td>   0.0000</td>\n",
        "      <td> 1390.0466</td>\n",
        "      <td>   0.0000</td>\n",
        "      <td>     0.0000</td>\n",
        "      <td>    0.0000</td>\n",
        "      <td>    0.0000</td>\n",
        "    </tr>\n",
        "    <tr>\n",
        "      <th>emmet</th>\n",
        "      <td>   0.0000</td>\n",
        "      <td>    0.0000</td>\n",
        "      <td>   0.0000</td>\n",
        "      <td>    0.0000</td>\n",
        "      <td>   0.0000</td>\n",
        "      <td>     0.0000</td>\n",
        "      <td>   72.6088</td>\n",
        "      <td>   10.7595</td>\n",
        "    </tr>\n",
        "    <tr>\n",
        "      <th>gail</th>\n",
        "      <td>   0.0000</td>\n",
        "      <td>    0.0000</td>\n",
        "      <td>   0.0000</td>\n",
        "      <td>    0.0000</td>\n",
        "      <td>   0.0000</td>\n",
        "      <td>     0.0000</td>\n",
        "      <td>    0.0000</td>\n",
        "      <td>  376.6800</td>\n",
        "    </tr>\n",
        "    <tr>\n",
        "      <th>gandalf</th>\n",
        "      <td> 128.6232</td>\n",
        "      <td>    0.0000</td>\n",
        "      <td>   0.0000</td>\n",
        "      <td>    0.0000</td>\n",
        "      <td> 362.2288</td>\n",
        "      <td>     0.0000</td>\n",
        "      <td>    0.0000</td>\n",
        "      <td> 3407.4628</td>\n",
        "    </tr>\n",
        "    <tr>\n",
        "      <th>hansolo</th>\n",
        "      <td>   0.0000</td>\n",
        "      <td>    0.0000</td>\n",
        "      <td>   0.0000</td>\n",
        "      <td>   34.8965</td>\n",
        "      <td>   0.0000</td>\n",
        "      <td>     0.0000</td>\n",
        "      <td>    0.0000</td>\n",
        "      <td>    0.0000</td>\n",
        "    </tr>\n",
        "    <tr>\n",
        "      <th>lucy</th>\n",
        "      <td> 476.3963</td>\n",
        "      <td>    0.0000</td>\n",
        "      <td>   0.0000</td>\n",
        "      <td>    0.0000</td>\n",
        "      <td>   0.0000</td>\n",
        "      <td>     0.0000</td>\n",
        "      <td>    0.0000</td>\n",
        "      <td>    0.0000</td>\n",
        "    </tr>\n",
        "    <tr>\n",
        "      <th>metalbeard</th>\n",
        "      <td>   0.0000</td>\n",
        "      <td>  568.3733</td>\n",
        "      <td>   0.0000</td>\n",
        "      <td>    0.0000</td>\n",
        "      <td>   0.0000</td>\n",
        "      <td>     0.0000</td>\n",
        "      <td>    0.0000</td>\n",
        "      <td> 1620.3987</td>\n",
        "    </tr>\n",
        "    <tr>\n",
        "      <th>unikitty</th>\n",
        "      <td>   0.0000</td>\n",
        "      <td>    0.0000</td>\n",
        "      <td>   0.0000</td>\n",
        "      <td>    0.0000</td>\n",
        "      <td>   0.0000</td>\n",
        "      <td>   125.0666</td>\n",
        "      <td>    0.0000</td>\n",
        "      <td> 1380.6450</td>\n",
        "    </tr>\n",
        "    <tr>\n",
        "      <th>vitruvius</th>\n",
        "      <td>   0.0000</td>\n",
        "      <td>    0.0000</td>\n",
        "      <td>   0.0000</td>\n",
        "      <td>    0.0000</td>\n",
        "      <td>   0.0000</td>\n",
        "      <td>     0.0000</td>\n",
        "      <td>    0.0000</td>\n",
        "      <td>  432.3353</td>\n",
        "    </tr>\n",
        "    <tr>\n",
        "      <th>wyldstyle</th>\n",
        "      <td>   0.0000</td>\n",
        "      <td>    0.0000</td>\n",
        "      <td>   0.0000</td>\n",
        "      <td>    0.0000</td>\n",
        "      <td> 462.7833</td>\n",
        "      <td> 12100.7600</td>\n",
        "      <td> 1057.8228</td>\n",
        "      <td>    0.0000</td>\n",
        "    </tr>\n",
        "  </tbody>\n",
        "</table>\n",
        "<p>14 rows \u00d7 8 columns</p>\n",
        "</div>"
       ],
       "metadata": {},
       "output_type": "pyout",
       "prompt_number": 72,
       "text": [
        "3            crc-gpu  crc-serial     himem  janus-debug  janus-long  \\\n",
        "1                                                                     \n",
        "ande1141      0.0000      0.0000    0.0000       0.0000    646.0533   \n",
        "badcop        0.0000      0.0000  171.7464       0.0000     33.6895   \n",
        "batman        0.0000      0.0000    0.0000       0.0000      0.0000   \n",
        "benny         0.0000   6979.0531    0.0000       0.0000      0.0000   \n",
        "business      0.0000      0.0000    0.0000    1390.0466      0.0000   \n",
        "emmet         0.0000      0.0000    0.0000       0.0000      0.0000   \n",
        "gail          0.0000      0.0000    0.0000       0.0000      0.0000   \n",
        "gandalf     128.6232      0.0000    0.0000       0.0000    362.2288   \n",
        "hansolo       0.0000      0.0000    0.0000      34.8965      0.0000   \n",
        "lucy        476.3963      0.0000    0.0000       0.0000      0.0000   \n",
        "metalbeard    0.0000    568.3733    0.0000       0.0000      0.0000   \n",
        "unikitty      0.0000      0.0000    0.0000       0.0000      0.0000   \n",
        "vitruvius     0.0000      0.0000    0.0000       0.0000      0.0000   \n",
        "wyldstyle     0.0000      0.0000    0.0000       0.0000    462.7833   \n",
        "\n",
        "3           janus-normal  janus-short  janus-small  \n",
        "1                                                   \n",
        "ande1141          0.0000       0.0000       0.0000  \n",
        "badcop            0.0000      30.3415      57.9929  \n",
        "batman            0.0000    6135.9999       0.0000  \n",
        "benny             0.0000       0.0000       0.0000  \n",
        "business          0.0000       0.0000       0.0000  \n",
        "emmet             0.0000      72.6088      10.7595  \n",
        "gail              0.0000       0.0000     376.6800  \n",
        "gandalf           0.0000       0.0000    3407.4628  \n",
        "hansolo           0.0000       0.0000       0.0000  \n",
        "lucy              0.0000       0.0000       0.0000  \n",
        "metalbeard        0.0000       0.0000    1620.3987  \n",
        "unikitty        125.0666       0.0000    1380.6450  \n",
        "vitruvius         0.0000       0.0000     432.3353  \n",
        "wyldstyle     12100.7600    1057.8228       0.0000  \n",
        "\n",
        "[14 rows x 8 columns]"
       ]
      }
     ],
     "prompt_number": 72
    },
    {
     "cell_type": "code",
     "collapsed": false,
     "input": [
      "import matplotlib.pyplot as plt\n",
      "X = df.groupby([1,3])[16].sum().unstack().fillna(0).as_matrix()\n",
      "plt.imshow(X, cmap=plt.cm.gray_r, interpolation='nearest')"
     ],
     "language": "python",
     "metadata": {},
     "outputs": [
      {
       "metadata": {},
       "output_type": "pyout",
       "prompt_number": 98,
       "text": [
        "<matplotlib.image.AxesImage at 0x10a510a50>"
       ]
      },
      {
       "metadata": {},
       "output_type": "display_data",
       "png": "[encoded data removed]",
       "text": [
        "<matplotlib.figure.Figure at 0x109bc6890>"
       ]
      }
     ],
     "prompt_number": 98
    },
    {
     "cell_type": "markdown",
     "metadata": {},
     "source": [
      "Show each users top 3 jobs"
     ]
    },
    {
     "cell_type": "code",
     "collapsed": false,
     "input": [
      "def top_jobs(group):\n",
      "    return group.sort(16, ascending=False).head(3)\n",
      "\n",
      "top = df.groupby(1).apply(top_jobs)\n",
      "top[[0,16]]"
     ],
     "language": "python",
     "metadata": {},
     "outputs": [
      {
       "html": [
        "<div style=\"max-height:1000px;max-width:1500px;overflow:auto;\">\n",
        "<table border=\"1\" class=\"dataframe\">\n",
        "  <thead>\n",
        "    <tr style=\"text-align: right;\">\n",
        "      <th></th>\n",
        "      <th></th>\n",
        "      <th>0</th>\n",
        "      <th>16</th>\n",
        "    </tr>\n",
        "    <tr>\n",
        "      <th>1</th>\n",
        "      <th></th>\n",
        "      <th></th>\n",
        "      <th></th>\n",
        "    </tr>\n",
        "  </thead>\n",
        "  <tbody>\n",
        "    <tr>\n",
        "      <th>ande1141</th>\n",
        "      <th>62 </th>\n",
        "      <td> 2489103</td>\n",
        "      <td>  646.0533</td>\n",
        "    </tr>\n",
        "    <tr>\n",
        "      <th rowspan=\"3\" valign=\"top\">badcop</th>\n",
        "      <th>406</th>\n",
        "      <td> 2493058</td>\n",
        "      <td>   48.1300</td>\n",
        "    </tr>\n",
        "    <tr>\n",
        "      <th>404</th>\n",
        "      <td> 2493056</td>\n",
        "      <td>   48.0666</td>\n",
        "    </tr>\n",
        "    <tr>\n",
        "      <th>405</th>\n",
        "      <td> 2493057</td>\n",
        "      <td>   48.0433</td>\n",
        "    </tr>\n",
        "    <tr>\n",
        "      <th rowspan=\"3\" valign=\"top\">batman</th>\n",
        "      <th>420</th>\n",
        "      <td> 2493127</td>\n",
        "      <td> 4810.6666</td>\n",
        "    </tr>\n",
        "    <tr>\n",
        "      <th>293</th>\n",
        "      <td> 2493059</td>\n",
        "      <td> 1325.3333</td>\n",
        "    </tr>\n",
        "    <tr>\n",
        "      <th>520</th>\n",
        "      <td> 2493305</td>\n",
        "      <td>    0.0000</td>\n",
        "    </tr>\n",
        "    <tr>\n",
        "      <th rowspan=\"3\" valign=\"top\">benny</th>\n",
        "      <th>278</th>\n",
        "      <td> 2488947</td>\n",
        "      <td> 1177.3466</td>\n",
        "    </tr>\n",
        "    <tr>\n",
        "      <th>263</th>\n",
        "      <td> 2488950</td>\n",
        "      <td> 1168.0133</td>\n",
        "    </tr>\n",
        "    <tr>\n",
        "      <th>294</th>\n",
        "      <td> 2488954</td>\n",
        "      <td> 1164.4200</td>\n",
        "    </tr>\n",
        "    <tr>\n",
        "      <th rowspan=\"3\" valign=\"top\">business</th>\n",
        "      <th>516</th>\n",
        "      <td> 2493294</td>\n",
        "      <td> 1036.3000</td>\n",
        "    </tr>\n",
        "    <tr>\n",
        "      <th>462</th>\n",
        "      <td> 2493293</td>\n",
        "      <td>  276.9200</td>\n",
        "    </tr>\n",
        "    <tr>\n",
        "      <th>486</th>\n",
        "      <td> 2493297</td>\n",
        "      <td>   76.8266</td>\n",
        "    </tr>\n",
        "    <tr>\n",
        "      <th rowspan=\"3\" valign=\"top\">emmet</th>\n",
        "      <th>58 </th>\n",
        "      <td> 2492829</td>\n",
        "      <td>    2.2633</td>\n",
        "    </tr>\n",
        "    <tr>\n",
        "      <th>402</th>\n",
        "      <td> 2493155</td>\n",
        "      <td>    1.2211</td>\n",
        "    </tr>\n",
        "    <tr>\n",
        "      <th>508</th>\n",
        "      <td> 2493218</td>\n",
        "      <td>    1.2016</td>\n",
        "    </tr>\n",
        "    <tr>\n",
        "      <th rowspan=\"3\" valign=\"top\">gail</th>\n",
        "      <th>485</th>\n",
        "      <td> 2493203</td>\n",
        "      <td>  217.0800</td>\n",
        "    </tr>\n",
        "    <tr>\n",
        "      <th>465</th>\n",
        "      <td> 2493202</td>\n",
        "      <td>  159.6000</td>\n",
        "    </tr>\n",
        "    <tr>\n",
        "      <th>418</th>\n",
        "      <td> 2493201</td>\n",
        "      <td>    0.0000</td>\n",
        "    </tr>\n",
        "    <tr>\n",
        "      <th rowspan=\"3\" valign=\"top\">gandalf</th>\n",
        "      <th>214</th>\n",
        "      <td> 2492546</td>\n",
        "      <td>  288.3933</td>\n",
        "    </tr>\n",
        "    <tr>\n",
        "      <th>211</th>\n",
        "      <td> 2492544</td>\n",
        "      <td>  288.3566</td>\n",
        "    </tr>\n",
        "    <tr>\n",
        "      <th>212</th>\n",
        "      <td> 2492543</td>\n",
        "      <td>  288.3533</td>\n",
        "    </tr>\n",
        "    <tr>\n",
        "      <th rowspan=\"3\" valign=\"top\">hansolo</th>\n",
        "      <th>379</th>\n",
        "      <td> 2493180</td>\n",
        "      <td>   19.0900</td>\n",
        "    </tr>\n",
        "    <tr>\n",
        "      <th>492</th>\n",
        "      <td> 2493295</td>\n",
        "      <td>   14.3300</td>\n",
        "    </tr>\n",
        "    <tr>\n",
        "      <th>266</th>\n",
        "      <td> 2493035</td>\n",
        "      <td>    1.2400</td>\n",
        "    </tr>\n",
        "    <tr>\n",
        "      <th rowspan=\"3\" valign=\"top\">lucy</th>\n",
        "      <th>54 </th>\n",
        "      <td> 2488114</td>\n",
        "      <td>   43.3666</td>\n",
        "    </tr>\n",
        "    <tr>\n",
        "      <th>48 </th>\n",
        "      <td> 2488086</td>\n",
        "      <td>   43.3433</td>\n",
        "    </tr>\n",
        "    <tr>\n",
        "      <th>329</th>\n",
        "      <td> 2488089</td>\n",
        "      <td>   43.3366</td>\n",
        "    </tr>\n",
        "    <tr>\n",
        "      <th rowspan=\"3\" valign=\"top\">metalbeard</th>\n",
        "      <th>64 </th>\n",
        "      <td> 2488291</td>\n",
        "      <td>  568.3733</td>\n",
        "    </tr>\n",
        "    <tr>\n",
        "      <th>259</th>\n",
        "      <td> 2468700</td>\n",
        "      <td>   96.7600</td>\n",
        "    </tr>\n",
        "    <tr>\n",
        "      <th>3  </th>\n",
        "      <td> 2468698</td>\n",
        "      <td>   96.2366</td>\n",
        "    </tr>\n",
        "    <tr>\n",
        "      <th rowspan=\"3\" valign=\"top\">unikitty</th>\n",
        "      <th>283</th>\n",
        "      <td> 2493049</td>\n",
        "      <td>  125.0666</td>\n",
        "    </tr>\n",
        "    <tr>\n",
        "      <th>341</th>\n",
        "      <td> 2493082</td>\n",
        "      <td>   78.0666</td>\n",
        "    </tr>\n",
        "    <tr>\n",
        "      <th>342</th>\n",
        "      <td> 2493089</td>\n",
        "      <td>   77.9066</td>\n",
        "    </tr>\n",
        "    <tr>\n",
        "      <th rowspan=\"3\" valign=\"top\">vitruvius</th>\n",
        "      <th>488</th>\n",
        "      <td> 2492929</td>\n",
        "      <td>  128.6033</td>\n",
        "    </tr>\n",
        "    <tr>\n",
        "      <th>143</th>\n",
        "      <td> 2492971</td>\n",
        "      <td>    8.4666</td>\n",
        "    </tr>\n",
        "    <tr>\n",
        "      <th>97 </th>\n",
        "      <td> 2492934</td>\n",
        "      <td>    7.0333</td>\n",
        "    </tr>\n",
        "    <tr>\n",
        "      <th rowspan=\"3\" valign=\"top\">wyldstyle</th>\n",
        "      <th>41 </th>\n",
        "      <td> 2490224</td>\n",
        "      <td> 6050.7300</td>\n",
        "    </tr>\n",
        "    <tr>\n",
        "      <th>1  </th>\n",
        "      <td> 2490186</td>\n",
        "      <td> 6050.0300</td>\n",
        "    </tr>\n",
        "    <tr>\n",
        "      <th>421</th>\n",
        "      <td> 2488377</td>\n",
        "      <td>  462.7833</td>\n",
        "    </tr>\n",
        "  </tbody>\n",
        "</table>\n",
        "<p>40 rows \u00d7 2 columns</p>\n",
        "</div>"
       ],
       "metadata": {},
       "output_type": "pyout",
       "prompt_number": 79,
       "text": [
        "                     0          16\n",
        "1                                 \n",
        "ande1141   62   2489103   646.0533\n",
        "badcop     406  2493058    48.1300\n",
        "           404  2493056    48.0666\n",
        "           405  2493057    48.0433\n",
        "batman     420  2493127  4810.6666\n",
        "           293  2493059  1325.3333\n",
        "           520  2493305     0.0000\n",
        "benny      278  2488947  1177.3466\n",
        "           263  2488950  1168.0133\n",
        "           294  2488954  1164.4200\n",
        "business   516  2493294  1036.3000\n",
        "           462  2493293   276.9200\n",
        "           486  2493297    76.8266\n",
        "emmet      58   2492829     2.2633\n",
        "           402  2493155     1.2211\n",
        "           508  2493218     1.2016\n",
        "gail       485  2493203   217.0800\n",
        "           465  2493202   159.6000\n",
        "           418  2493201     0.0000\n",
        "gandalf    214  2492546   288.3933\n",
        "           211  2492544   288.3566\n",
        "           212  2492543   288.3533\n",
        "hansolo    379  2493180    19.0900\n",
        "           492  2493295    14.3300\n",
        "           266  2493035     1.2400\n",
        "lucy       54   2488114    43.3666\n",
        "           48   2488086    43.3433\n",
        "           329  2488089    43.3366\n",
        "metalbeard 64   2488291   568.3733\n",
        "           259  2468700    96.7600\n",
        "           3    2468698    96.2366\n",
        "unikitty   283  2493049   125.0666\n",
        "           341  2493082    78.0666\n",
        "           342  2493089    77.9066\n",
        "vitruvius  488  2492929   128.6033\n",
        "           143  2492971     8.4666\n",
        "           97   2492934     7.0333\n",
        "wyldstyle  41   2490224  6050.7300\n",
        "           1    2490186  6050.0300\n",
        "           421  2488377   462.7833\n",
        "\n",
        "[40 rows x 2 columns]"
       ]
      }
     ],
     "prompt_number": 79
    },
    {
     "cell_type": "markdown",
     "metadata": {},
     "source": [
      "What is the average, max, min, and std of su for each job per user?"
     ]
    },
    {
     "cell_type": "code",
     "collapsed": false,
     "input": [
      "tmp = df.groupby(1)[16].agg(['mean','max','min','count'])"
     ],
     "language": "python",
     "metadata": {},
     "outputs": [],
     "prompt_number": 100
    },
    {
     "cell_type": "markdown",
     "metadata": {},
     "source": [
      "What does it look like?"
     ]
    },
    {
     "cell_type": "code",
     "collapsed": false,
     "input": [
      "tmp['mean'].plot(kind='bar')"
     ],
     "language": "python",
     "metadata": {},
     "outputs": [
      {
       "metadata": {},
       "output_type": "pyout",
       "prompt_number": 103,
       "text": [
        "<matplotlib.axes.AxesSubplot at 0x10ad6bc90>"
       ]
      },
      {
       "metadata": {},
       "output_type": "display_data",
       "png": "[encoded data removed]",
       "text": [
        "<matplotlib.figure.Figure at 0x10a8c2150>"
       ]
      }
     ],
     "prompt_number": 103
    },
    {
     "cell_type": "markdown",
     "metadata": {},
     "source": [
      "Something nicer for a script."
     ]
    },
    {
     "cell_type": "code",
     "collapsed": false,
     "input": [
      "df = pd.read_csv('data/20140209.csv', header=None)\n",
      "names = ['x{0}'.format(i) for i in range(len(df.columns))]\n",
      "names[0] = 'jobid'\n",
      "names[1] = 'user'\n",
      "names[2] = 'allocation'\n",
      "names[3] = 'queue'\n",
      "names[16] = 'sus'\n",
      "df.columns = names\n",
      "df.head()"
     ],
     "language": "python",
     "metadata": {},
     "outputs": [
      {
       "html": [
        "<div style=\"max-height:1000px;max-width:1500px;overflow:auto;\">\n",
        "<table border=\"1\" class=\"dataframe\">\n",
        "  <thead>\n",
        "    <tr style=\"text-align: right;\">\n",
        "      <th></th>\n",
        "      <th>jobid</th>\n",
        "      <th>user</th>\n",
        "      <th>allocation</th>\n",
        "      <th>queue</th>\n",
        "      <th>x4</th>\n",
        "      <th>x5</th>\n",
        "      <th>x6</th>\n",
        "      <th>x7</th>\n",
        "      <th>x8</th>\n",
        "      <th>x9</th>\n",
        "      <th>x10</th>\n",
        "      <th>x11</th>\n",
        "      <th>x12</th>\n",
        "      <th>x13</th>\n",
        "      <th>x14</th>\n",
        "      <th>x15</th>\n",
        "      <th>sus</th>\n",
        "    </tr>\n",
        "  </thead>\n",
        "  <tbody>\n",
        "    <tr>\n",
        "      <th>0</th>\n",
        "      <td> 2488112</td>\n",
        "      <td>       lucy</td>\n",
        "      <td> UCB00000178</td>\n",
        "      <td>      crc-gpu</td>\n",
        "      <td>  1</td>\n",
        "      <td>  1</td>\n",
        "      <td> 14400</td>\n",
        "      <td>    12963</td>\n",
        "      <td>    547328kb</td>\n",
        "      <td> 12987</td>\n",
        "      <td> 1391793880</td>\n",
        "      <td> 1391905890</td>\n",
        "      <td> 1391914447</td>\n",
        "      <td> 1391927435</td>\n",
        "      <td>  0</td>\n",
        "      <td> singlejob</td>\n",
        "      <td>   43.2900</td>\n",
        "    </tr>\n",
        "    <tr>\n",
        "      <th>1</th>\n",
        "      <td> 2490186</td>\n",
        "      <td>  wyldstyle</td>\n",
        "      <td> UCB00000191</td>\n",
        "      <td> janus-normal</td>\n",
        "      <td> 21</td>\n",
        "      <td> 12</td>\n",
        "      <td> 86400</td>\n",
        "      <td> 21710392</td>\n",
        "      <td> 113415320kb</td>\n",
        "      <td> 86429</td>\n",
        "      <td> 1391841024</td>\n",
        "      <td> 1391841024</td>\n",
        "      <td> 1391841033</td>\n",
        "      <td> 1391927463</td>\n",
        "      <td>-11</td>\n",
        "      <td>   default</td>\n",
        "      <td> 6050.0300</td>\n",
        "    </tr>\n",
        "    <tr>\n",
        "      <th>2</th>\n",
        "      <td> 2468732</td>\n",
        "      <td> metalbeard</td>\n",
        "      <td>   S00000232</td>\n",
        "      <td>  janus-small</td>\n",
        "      <td>  1</td>\n",
        "      <td> 12</td>\n",
        "      <td> 43200</td>\n",
        "      <td>   159309</td>\n",
        "      <td>    298188kb</td>\n",
        "      <td> 13393</td>\n",
        "      <td> 1391489055</td>\n",
        "      <td> 1391914171</td>\n",
        "      <td> 1391914191</td>\n",
        "      <td> 1391927583</td>\n",
        "      <td>  0</td>\n",
        "      <td>   default</td>\n",
        "      <td>   44.6433</td>\n",
        "    </tr>\n",
        "    <tr>\n",
        "      <th>3</th>\n",
        "      <td> 2468698</td>\n",
        "      <td> metalbeard</td>\n",
        "      <td>   S00000232</td>\n",
        "      <td>  janus-small</td>\n",
        "      <td>  1</td>\n",
        "      <td> 12</td>\n",
        "      <td> 43200</td>\n",
        "      <td>   344489</td>\n",
        "      <td>    310540kb</td>\n",
        "      <td> 28871</td>\n",
        "      <td> 1391488981</td>\n",
        "      <td> 1391898836</td>\n",
        "      <td> 1391898863</td>\n",
        "      <td> 1391927733</td>\n",
        "      <td>  0</td>\n",
        "      <td>   default</td>\n",
        "      <td>   96.2366</td>\n",
        "    </tr>\n",
        "    <tr>\n",
        "      <th>4</th>\n",
        "      <td> 2488073</td>\n",
        "      <td>    gandalf</td>\n",
        "      <td> UCB00000178</td>\n",
        "      <td>  janus-small</td>\n",
        "      <td>  1</td>\n",
        "      <td> 12</td>\n",
        "      <td> 86400</td>\n",
        "      <td>   820612</td>\n",
        "      <td>    124072kb</td>\n",
        "      <td> 69136</td>\n",
        "      <td> 1391791582</td>\n",
        "      <td> 1391858648</td>\n",
        "      <td> 1391858666</td>\n",
        "      <td> 1391927801</td>\n",
        "      <td>  0</td>\n",
        "      <td> singlejob</td>\n",
        "      <td>  230.4533</td>\n",
        "    </tr>\n",
        "  </tbody>\n",
        "</table>\n",
        "<p>5 rows \u00d7 17 columns</p>\n",
        "</div>"
       ],
       "metadata": {},
       "output_type": "pyout",
       "prompt_number": 106,
       "text": [
        "     jobid        user   allocation         queue  x4  x5     x6        x7  \\\n",
        "0  2488112        lucy  UCB00000178       crc-gpu   1   1  14400     12963   \n",
        "1  2490186   wyldstyle  UCB00000191  janus-normal  21  12  86400  21710392   \n",
        "2  2468732  metalbeard    S00000232   janus-small   1  12  43200    159309   \n",
        "3  2468698  metalbeard    S00000232   janus-small   1  12  43200    344489   \n",
        "4  2488073     gandalf  UCB00000178   janus-small   1  12  86400    820612   \n",
        "\n",
        "            x8     x9         x10         x11         x12         x13  x14  \\\n",
        "0     547328kb  12987  1391793880  1391905890  1391914447  1391927435    0   \n",
        "1  113415320kb  86429  1391841024  1391841024  1391841033  1391927463  -11   \n",
        "2     298188kb  13393  1391489055  1391914171  1391914191  1391927583    0   \n",
        "3     310540kb  28871  1391488981  1391898836  1391898863  1391927733    0   \n",
        "4     124072kb  69136  1391791582  1391858648  1391858666  1391927801    0   \n",
        "\n",
        "         x15        sus  \n",
        "0  singlejob    43.2900  \n",
        "1    default  6050.0300  \n",
        "2    default    44.6433  \n",
        "3    default    96.2366  \n",
        "4  singlejob   230.4533  \n",
        "\n",
        "[5 rows x 17 columns]"
       ]
      }
     ],
     "prompt_number": 106
    },
    {
     "cell_type": "markdown",
     "metadata": {},
     "source": [
      "## Hamlet"
     ]
    },
    {
     "cell_type": "code",
     "collapsed": false,
     "input": [
      "import re\n",
      "words = re.findall(r'\\w+', open('data/hamlet.txt').read().lower())"
     ],
     "language": "python",
     "metadata": {},
     "outputs": [],
     "prompt_number": 108
    },
    {
     "cell_type": "code",
     "collapsed": false,
     "input": [
      "print 'total number of words', len(words)"
     ],
     "language": "python",
     "metadata": {},
     "outputs": [
      {
       "output_type": "stream",
       "stream": "stdout",
       "text": [
        "total number of words 27577\n"
       ]
      }
     ],
     "prompt_number": 113
    },
    {
     "cell_type": "markdown",
     "metadata": {},
     "source": [
      "How many unique words did Shakespeare use?"
     ]
    },
    {
     "cell_type": "code",
     "collapsed": false,
     "input": [
      "data = {}\n",
      "for w in words:\n",
      "    data[w] = data.get(w,0)+1\n",
      "    \n",
      "print 'unique words', len(data)"
     ],
     "language": "python",
     "metadata": {},
     "outputs": [
      {
       "output_type": "stream",
       "stream": "stdout",
       "text": [
        "unique words 4086\n"
       ]
      }
     ],
     "prompt_number": 114
    },
    {
     "cell_type": "markdown",
     "metadata": {},
     "source": [
      "What is the average word length?"
     ]
    },
    {
     "cell_type": "code",
     "collapsed": false,
     "input": [
      "mean(map(len, data.keys()))"
     ],
     "language": "python",
     "metadata": {},
     "outputs": [
      {
       "metadata": {},
       "output_type": "pyout",
       "prompt_number": 126,
       "text": [
        "6.2584434654919239"
       ]
      }
     ],
     "prompt_number": 126
    },
    {
     "cell_type": "markdown",
     "metadata": {},
     "source": [
      "What are the 10 most common words used in Hamlet?"
     ]
    },
    {
     "cell_type": "code",
     "collapsed": false,
     "input": [
      "for w in sorted(data.items(), key=lambda x: x[1], reverse=True)[:10]:\n",
      "  print w"
     ],
     "language": "python",
     "metadata": {},
     "outputs": [
      {
       "output_type": "stream",
       "stream": "stdout",
       "text": [
        "('the', 930)\n",
        "('and', 843)\n",
        "('to', 652)\n",
        "('of', 562)\n",
        "('i', 517)\n",
        "('you', 496)\n",
        "('a', 450)\n",
        "('my', 439)\n",
        "('in', 378)\n",
        "('hamlet', 368)\n"
       ]
      }
     ],
     "prompt_number": 132
    },
    {
     "cell_type": "markdown",
     "metadata": {},
     "source": [
      "What are the 10 most common words used in Hamlet that are longer than 3?"
     ]
    },
    {
     "cell_type": "code",
     "collapsed": false,
     "input": [
      "words = sorted(data.items(), key=lambda x: x[1], reverse=True)\n",
      "tmp = [ x for x in words if len(x[0]) > 3] "
     ],
     "language": "python",
     "metadata": {},
     "outputs": [],
     "prompt_number": 136
    },
    {
     "cell_type": "code",
     "collapsed": false,
     "input": [
      "for w in tmp[:10]:\n",
      "    print w"
     ],
     "language": "python",
     "metadata": {},
     "outputs": [
      {
       "output_type": "stream",
       "stream": "stdout",
       "text": [
        "('hamlet', 368)\n",
        "('that', 346)\n",
        "('lord', 278)\n",
        "('this', 238)\n",
        "('with', 232)\n",
        "('your', 211)\n",
        "('what', 186)\n",
        "('king', 171)\n",
        "('have', 149)\n",
        "('will', 134)\n"
       ]
      }
     ],
     "prompt_number": 137
    },
    {
     "cell_type": "markdown",
     "metadata": {},
     "source": [
      "## Templates"
     ]
    },
    {
     "cell_type": "markdown",
     "metadata": {},
     "source": [
      "Bash"
     ]
    },
    {
     "cell_type": "code",
     "collapsed": false,
     "input": [
      "%%bash\n",
      "#!/bin/bash\n",
      "\n",
      "create_page()\n",
      "{\n",
      "\t\t\n",
      "\tfor i in $@\n",
      "\tdo\n",
      "\t\tbasename=${i%.*}\n",
      "\t\tbase=\"${basename%?}\"\n",
      "\t\tindex=${basename#${basename%?}}\n",
      "\t\tlet index_next=index+=1\n",
      "\t\techo $basename.html\n",
      "\n",
      "cat >> $basename.html << EOF\n",
      "<!DOCTYPE HTML PUBLIC \"-//W3C//DTD HTML 3.2 Final//EN\">\n",
      "<html>\n",
      "<head>\n",
      "<title>Slideshow</title>\n",
      "</head>\n",
      "<body>\n",
      "<div><a href=\"$base$index_next.html\">next</a></div>\t \n",
      "<div><img src=\"$basename.jpg\"/></div>\n",
      "</body>\n",
      "</html>\n",
      "EOF\n",
      "\n",
      "\tdone\n",
      "}\n",
      "\t\n",
      "files=$(ls -1 data/photos/*.jpg) \n",
      "create_page $files"
     ],
     "language": "python",
     "metadata": {},
     "outputs": [
      {
       "output_type": "stream",
       "stream": "stdout",
       "text": [
        "data/photos/bash1.html\n",
        "data/photos/bash2.html\n",
        "data/photos/bash3.html\n",
        "data/photos/bash4.html\n",
        "data/photos/bash5.html\n"
       ]
      }
     ],
     "prompt_number": 143
    },
    {
     "cell_type": "markdown",
     "metadata": {},
     "source": [
      "Python"
     ]
    },
    {
     "cell_type": "code",
     "collapsed": false,
     "input": [
      "import jinja2 as jin\n",
      "\n",
      "temp = jin.Template('''\n",
      "<!DOCTYPE HTML PUBLIC \"-//W3C//DTD HTML 3.2 Final//EN\">\n",
      "<html>\n",
      "<head>\n",
      "<title>Slideshow</title>\n",
      "</head>\n",
      "<body>\n",
      "<div><a href=\"{{next}}\">next</a></div>\t \n",
      "<div><img src=\"{{image}}\"/></div>\n",
      "</body>\n",
      "</html>\n",
      "''')\n"
     ],
     "language": "python",
     "metadata": {},
     "outputs": [],
     "prompt_number": 147
    },
    {
     "cell_type": "code",
     "collapsed": false,
     "input": [
      "import glob\n",
      "\n",
      "files = glob.glob('data/photos/*.jpg')\n",
      "\n",
      "data = []\n",
      "for i,f in enumerate(files):\n",
      "    html_name = 'bash{0}.htm'.format(i)\n",
      "    with open(html_name, 'w') as outfile:\n",
      "        tmp = temp.render({'next': html_name, 'image': f})\n",
      "        outfile.write(tmp)\n",
      "    "
     ],
     "language": "python",
     "metadata": {},
     "outputs": [],
     "prompt_number": 152
    },
    {
     "cell_type": "markdown",
     "metadata": {},
     "source": [
      "## map: `qdel` all queued jobs"
     ]
    },
    {
     "cell_type": "code",
     "collapsed": false,
     "input": [
      "df = pd.read_table('data/jobs.csv', delimiter=r\"\\s+\", header=None)\n",
      "job_ids = df[0].values\n",
      "print job_ids"
     ],
     "language": "python",
     "metadata": {},
     "outputs": [
      {
       "output_type": "stream",
       "stream": "stdout",
       "text": [
        "[2516013 2515973 2515966 2515086 2515126 2512208 2515535 2515134 2515135\n",
        " 2515139 2515147 2515149 2515275 2515284 2515292 2515309 2515290]\n"
       ]
      }
     ],
     "prompt_number": 213
    },
    {
     "cell_type": "code",
     "collapsed": false,
     "input": [
      "import subprocess\n",
      "import functools\n",
      "\n",
      "def run_command(cmd, x):\n",
      "    pid = subprocess.Popen([cmd,str(x)], stdout=subprocess.PIPE)\n",
      "    pid.wait()\n",
      "    output, _ = pid.communicate()\n",
      "    return output\n",
      "    "
     ],
     "language": "python",
     "metadata": {},
     "outputs": [],
     "prompt_number": 215
    },
    {
     "cell_type": "code",
     "collapsed": false,
     "input": [
      "qdel = functools.partial(run_command, 'echo') #could be qdel\n",
      "results = map(qdel, job_ids)"
     ],
     "language": "python",
     "metadata": {},
     "outputs": [],
     "prompt_number": 217
    },
    {
     "cell_type": "code",
     "collapsed": false,
     "input": [
      "print results"
     ],
     "language": "python",
     "metadata": {},
     "outputs": [
      {
       "output_type": "stream",
       "stream": "stdout",
       "text": [
        "['2516013\\n', '2515973\\n', '2515966\\n', '2515086\\n', '2515126\\n', '2512208\\n', '2515535\\n', '2515134\\n', '2515135\\n', '2515139\\n', '2515147\\n', '2515149\\n', '2515275\\n', '2515284\\n', '2515292\\n', '2515309\\n', '2515290\\n']\n"
       ]
      }
     ],
     "prompt_number": 220
    },
    {
     "cell_type": "markdown",
     "metadata": {},
     "source": [
      "## Text operations: `json`"
     ]
    },
    {
     "cell_type": "markdown",
     "metadata": {},
     "source": [
      "Top rated restaurants in Boulder?"
     ]
    },
    {
     "cell_type": "code",
     "collapsed": false,
     "input": [
      "import json\n",
      "\n",
      "data = json.loads(open('data/restaurants.json').read())\n",
      "\n",
      "names = []\n",
      "ratings = []\n",
      "counts = []\n",
      "\n",
      "for r in data['businesses']:\n",
      "    names.append(r['name'])\n",
      "    ratings.append(r['rating'])\n",
      "    counts.append(r['review_count'])\n"
     ],
     "language": "python",
     "metadata": {},
     "outputs": [],
     "prompt_number": 245
    },
    {
     "cell_type": "code",
     "collapsed": false,
     "input": [
      "df = pd.DataFrame({'name': names, 'ratings': ratings, 'counts': counts})\n",
      "df.head()"
     ],
     "language": "python",
     "metadata": {},
     "outputs": [
      {
       "html": [
        "<div style=\"max-height:1000px;max-width:1500px;overflow:auto;\">\n",
        "<table border=\"1\" class=\"dataframe\">\n",
        "  <thead>\n",
        "    <tr style=\"text-align: right;\">\n",
        "      <th></th>\n",
        "      <th>counts</th>\n",
        "      <th>name</th>\n",
        "      <th>ratings</th>\n",
        "    </tr>\n",
        "  </thead>\n",
        "  <tbody>\n",
        "    <tr>\n",
        "      <th>0</th>\n",
        "      <td> 229</td>\n",
        "      <td>       Frasca Food and Wine</td>\n",
        "      <td> 4.5</td>\n",
        "    </tr>\n",
        "    <tr>\n",
        "      <th>1</th>\n",
        "      <td> 179</td>\n",
        "      <td> Leaf Vegetarian Restaurant</td>\n",
        "      <td> 4.0</td>\n",
        "    </tr>\n",
        "    <tr>\n",
        "      <th>2</th>\n",
        "      <td> 117</td>\n",
        "      <td>            Flagstaff House</td>\n",
        "      <td> 4.5</td>\n",
        "    </tr>\n",
        "    <tr>\n",
        "      <th>3</th>\n",
        "      <td>  92</td>\n",
        "      <td>           Black Cat Bistro</td>\n",
        "      <td> 4.0</td>\n",
        "    </tr>\n",
        "    <tr>\n",
        "      <th>4</th>\n",
        "      <td> 336</td>\n",
        "      <td>                The Kitchen</td>\n",
        "      <td> 4.0</td>\n",
        "    </tr>\n",
        "  </tbody>\n",
        "</table>\n",
        "<p>5 rows \u00d7 3 columns</p>\n",
        "</div>"
       ],
       "metadata": {},
       "output_type": "pyout",
       "prompt_number": 246,
       "text": [
        "   counts                        name  ratings\n",
        "0     229        Frasca Food and Wine      4.5\n",
        "1     179  Leaf Vegetarian Restaurant      4.0\n",
        "2     117             Flagstaff House      4.5\n",
        "3      92            Black Cat Bistro      4.0\n",
        "4     336                 The Kitchen      4.0\n",
        "\n",
        "[5 rows x 3 columns]"
       ]
      }
     ],
     "prompt_number": 246
    },
    {
     "cell_type": "code",
     "collapsed": false,
     "input": [
      "df[['name','ratings','counts']].sort('ratings', ascending=False).head(10)"
     ],
     "language": "python",
     "metadata": {},
     "outputs": [
      {
       "html": [
        "<div style=\"max-height:1000px;max-width:1500px;overflow:auto;\">\n",
        "<table border=\"1\" class=\"dataframe\">\n",
        "  <thead>\n",
        "    <tr style=\"text-align: right;\">\n",
        "      <th></th>\n",
        "      <th>name</th>\n",
        "      <th>ratings</th>\n",
        "      <th>counts</th>\n",
        "    </tr>\n",
        "  </thead>\n",
        "  <tbody>\n",
        "    <tr>\n",
        "      <th>9 </th>\n",
        "      <td>                Nepal Cuisine</td>\n",
        "      <td> 4.5</td>\n",
        "      <td>  77</td>\n",
        "    </tr>\n",
        "    <tr>\n",
        "      <th>10</th>\n",
        "      <td>                   Il Pastaio</td>\n",
        "      <td> 4.5</td>\n",
        "      <td> 144</td>\n",
        "    </tr>\n",
        "    <tr>\n",
        "      <th>2 </th>\n",
        "      <td>              Flagstaff House</td>\n",
        "      <td> 4.5</td>\n",
        "      <td> 117</td>\n",
        "    </tr>\n",
        "    <tr>\n",
        "      <th>0 </th>\n",
        "      <td>         Frasca Food and Wine</td>\n",
        "      <td> 4.5</td>\n",
        "      <td> 229</td>\n",
        "    </tr>\n",
        "    <tr>\n",
        "      <th>15</th>\n",
        "      <td>     Arugula Bar E Ristorante</td>\n",
        "      <td> 4.0</td>\n",
        "      <td>  72</td>\n",
        "    </tr>\n",
        "    <tr>\n",
        "      <th>13</th>\n",
        "      <td>            Native Foods Cafe</td>\n",
        "      <td> 4.0</td>\n",
        "      <td>  77</td>\n",
        "    </tr>\n",
        "    <tr>\n",
        "      <th>12</th>\n",
        "      <td>                    L'Atelier</td>\n",
        "      <td> 4.0</td>\n",
        "      <td>  76</td>\n",
        "    </tr>\n",
        "    <tr>\n",
        "      <th>11</th>\n",
        "      <td>               Jax Fish House</td>\n",
        "      <td> 4.0</td>\n",
        "      <td> 148</td>\n",
        "    </tr>\n",
        "    <tr>\n",
        "      <th>18</th>\n",
        "      <td>               Tandoori Grill</td>\n",
        "      <td> 4.0</td>\n",
        "      <td>  77</td>\n",
        "    </tr>\n",
        "    <tr>\n",
        "      <th>8 </th>\n",
        "      <td> The Mediterranean Restaurant</td>\n",
        "      <td> 4.0</td>\n",
        "      <td> 375</td>\n",
        "    </tr>\n",
        "  </tbody>\n",
        "</table>\n",
        "<p>10 rows \u00d7 3 columns</p>\n",
        "</div>"
       ],
       "metadata": {},
       "output_type": "pyout",
       "prompt_number": 248,
       "text": [
        "                            name  ratings  counts\n",
        "9                  Nepal Cuisine      4.5      77\n",
        "10                    Il Pastaio      4.5     144\n",
        "2                Flagstaff House      4.5     117\n",
        "0           Frasca Food and Wine      4.5     229\n",
        "15      Arugula Bar E Ristorante      4.0      72\n",
        "13             Native Foods Cafe      4.0      77\n",
        "12                     L'Atelier      4.0      76\n",
        "11                Jax Fish House      4.0     148\n",
        "18                Tandoori Grill      4.0      77\n",
        "8   The Mediterranean Restaurant      4.0     375\n",
        "\n",
        "[10 rows x 3 columns]"
       ]
      }
     ],
     "prompt_number": 248
    },
    {
     "cell_type": "code",
     "collapsed": false,
     "input": [],
     "language": "python",
     "metadata": {},
     "outputs": []
    }
   ],
   "metadata": {}
  }
 ]
}