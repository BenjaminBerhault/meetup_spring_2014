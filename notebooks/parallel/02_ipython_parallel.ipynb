{
 "metadata": {
  "name": "",
  "signature": "sha256:bdc899a72404ce936680262d53473ccc92786c901c26984dd11bb5ea6e79c0b9"
 },
 "nbformat": 3,
 "nbformat_minor": 0,
 "worksheets": [
  {
   "cells": [
    {
     "cell_type": "heading",
     "level": 1,
     "metadata": {},
     "source": [
      "Ipython Parallel"
     ]
    },
    {
     "cell_type": "code",
     "collapsed": false,
     "input": [
      "from IPython.parallel import Client"
     ],
     "language": "python",
     "metadata": {},
     "outputs": [],
     "prompt_number": 1
    },
    {
     "cell_type": "markdown",
     "metadata": {},
     "source": [
      "http://scikit-learn.org/stable/auto_examples/document_classification_20newsgroups.html"
     ]
    },
    {
     "cell_type": "code",
     "collapsed": false,
     "input": [
      "from sklearn.datasets import fetch_20newsgroups\n",
      "remove = ('headers', 'footers', 'quotes')\n",
      "categories = ['comp.graphics',\n",
      " 'comp.os.ms-windows.misc',\n",
      " 'comp.sys.ibm.pc.hardware',\n",
      " 'comp.sys.mac.hardware',\n",
      " 'comp.windows.x',\n",
      " 'misc.forsale',\n",
      " 'rec.autos',\n",
      " 'rec.motorcycles',\n",
      " 'rec.sport.baseball',\n",
      " 'rec.sport.hockey',\n",
      " 'sci.crypt',\n",
      " 'sci.electronics',\n",
      " 'sci.med',\n",
      " 'sci.space',\n",
      " 'soc.religion.christian',\n",
      " 'talk.politics.guns',\n",
      " 'talk.politics.mideast',\n",
      " 'talk.politics.misc',\n",
      " 'talk.religion.misc']\n",
      "\n",
      "data_train = fetch_20newsgroups(subset='train', categories=categories,\n",
      "                                shuffle=True, random_state=42,\n",
      "                                remove=remove)\n",
      "\n",
      "data_test = fetch_20newsgroups(subset='test', categories=categories,\n",
      "                               shuffle=True, random_state=42,\n",
      "                               remove=remove)\n"
     ],
     "language": "python",
     "metadata": {},
     "outputs": [],
     "prompt_number": 3
    },
    {
     "cell_type": "code",
     "collapsed": false,
     "input": [
      "print data_train.data[1]\n",
      "print data_train.target_names[data_train.target[1]]"
     ],
     "language": "python",
     "metadata": {},
     "outputs": [
      {
       "output_type": "stream",
       "stream": "stdout",
       "text": [
        "I have finally decided to update my SE :-)).\n",
        "I am planning on buying a Centris 610-8/230 CD.\n",
        "Now, what monitor should I get? Here are a few\n",
        "guidelines:\n",
        "\tMy wife uses PageMaker occasionally, I use Excel sometimes\n",
        "\tand I do alot of Telecommuting from home to work. We both\n",
        "\tdo Word processing. Greater than 14 inches.\n",
        "\n",
        "I have looked at the Radius Color Pivot. This can be bought for\n",
        "under $1000. I have heard good things about the E-Machines T-16,\n",
        "the older model not the new T-16 II. How about the Super Mac 17T?\n",
        "These both can be had for a little over $1000. Any others??\n",
        "comp.sys.mac.hardware\n"
       ]
      }
     ],
     "prompt_number": 4
    },
    {
     "cell_type": "code",
     "collapsed": false,
     "input": [
      "y_train, y_test = data_train.target, data_test.target"
     ],
     "language": "python",
     "metadata": {},
     "outputs": [],
     "prompt_number": 5
    },
    {
     "cell_type": "code",
     "collapsed": false,
     "input": [
      "from sklearn.feature_extraction.text import TfidfVectorizer\n",
      "vectorizer = TfidfVectorizer(sublinear_tf=True, max_df=0.5, stop_words='english')"
     ],
     "language": "python",
     "metadata": {},
     "outputs": [],
     "prompt_number": 6
    },
    {
     "cell_type": "code",
     "collapsed": false,
     "input": [
      "X_train = vectorizer.fit_transform(data_train.data)\n",
      "print X_train.shape"
     ],
     "language": "python",
     "metadata": {},
     "outputs": [
      {
       "output_type": "stream",
       "stream": "stdout",
       "text": [
        "(10834, 99970)\n"
       ]
      }
     ],
     "prompt_number": 7
    },
    {
     "cell_type": "code",
     "collapsed": false,
     "input": [
      "X_test = vectorizer.transform(data_test.data)\n",
      "print X_test.shape"
     ],
     "language": "python",
     "metadata": {},
     "outputs": [
      {
       "output_type": "stream",
       "stream": "stdout",
       "text": [
        "(7213, 99970)\n"
       ]
      }
     ],
     "prompt_number": 8
    },
    {
     "cell_type": "code",
     "collapsed": false,
     "input": [
      "\n",
      "\n",
      "#def benchmark(clf, X_train=X_train, X_test=X_test, y_train=y_train, y_test=y_test):\n",
      "def benchmark(clf):\n",
      "    from sklearn import metrics\n",
      "    \n",
      "    clf.fit(X_train, y_train)\n",
      "    pred = clf.predict(X_test)\n",
      "    score = metrics.f1_score(y_test, pred)\n",
      "    clf_descr = str(clf).split('(')[0]\n",
      "    return clf_descr, score"
     ],
     "language": "python",
     "metadata": {},
     "outputs": [],
     "prompt_number": 9
    },
    {
     "cell_type": "code",
     "collapsed": false,
     "input": [
      "from sklearn.linear_model import RidgeClassifier\n",
      "\n",
      "clf = RidgeClassifier(tol=1e-2, solver=\"lsqr\")\n",
      "print benchmark(clf)"
     ],
     "language": "python",
     "metadata": {},
     "outputs": [
      {
       "output_type": "stream",
       "stream": "stdout",
       "text": [
        "('RidgeClassifier', 0.71328212862035567)\n"
       ]
      }
     ],
     "prompt_number": 10
    },
    {
     "cell_type": "code",
     "collapsed": false,
     "input": [
      "from sklearn.svm import LinearSVC\n",
      "from sklearn.linear_model import RidgeClassifier\n",
      "from sklearn.linear_model import SGDClassifier\n",
      "from sklearn.linear_model import Perceptron\n",
      "from sklearn.linear_model import PassiveAggressiveClassifier\n",
      "from sklearn.naive_bayes import BernoulliNB, MultinomialNB\n",
      "from sklearn.neighbors import KNeighborsClassifier\n",
      "from sklearn.neighbors import NearestCentroid\n",
      "\n",
      "clfs = []\n",
      "clfs.append(RidgeClassifier(tol=1e-2, solver=\"lsqr\"))\n",
      "clfs.append(KNeighborsClassifier(n_neighbors=10))\n",
      "clfs.append(PassiveAggressiveClassifier(n_iter=50))\n",
      "clfs.append(Perceptron(n_iter=50))\n",
      "for penalty in [\"l2\", \"l1\"]:\n",
      "    clfs.append(LinearSVC(loss='l2', penalty=penalty, dual=False, tol=1e-3))\n",
      "    clfs.append(SGDClassifier(alpha=.0001, n_iter=50, penalty=penalty))\n",
      "#clfs.append(SGDClassifier(alpha=.0001, n_iter=50, penalty=\"elasticnet\"))\n",
      "\n",
      "%time results = map(benchmark, clfs)"
     ],
     "language": "python",
     "metadata": {},
     "outputs": [
      {
       "output_type": "stream",
       "stream": "stdout",
       "text": [
        "CPU times: user 33.7 s, sys: 257 ms, total: 33.9 s\n",
        "Wall time: 34 s\n"
       ]
      }
     ],
     "prompt_number": 11
    },
    {
     "cell_type": "code",
     "collapsed": false,
     "input": [
      "for res in results:\n",
      "    print res"
     ],
     "language": "python",
     "metadata": {},
     "outputs": [
      {
       "output_type": "stream",
       "stream": "stdout",
       "text": [
        "('RidgeClassifier', 0.71328212862035567)\n",
        "('KNeighborsClassifier', 0.063503741240767103)\n",
        "('PassiveAggressiveClassifier', 0.69957166109026914)\n",
        "('Perceptron', 0.66469337193714717)\n",
        "('LinearSVC', 0.71214698546325539)\n",
        "('SGDClassifier', 0.7161591062412791)\n",
        "('LinearSVC', 0.6848579093817504)\n",
        "('SGDClassifier', 0.64600633900286231)\n"
       ]
      }
     ],
     "prompt_number": 12
    },
    {
     "cell_type": "code",
     "collapsed": false,
     "input": [
      "c = Client()\n",
      "print c.ids\n",
      "\n",
      "all_engines = c[:]\n",
      "lview = c.load_balanced_view()"
     ],
     "language": "python",
     "metadata": {},
     "outputs": [
      {
       "output_type": "stream",
       "stream": "stdout",
       "text": [
        "[0, 1, 2, 3, 4, 5, 6, 7, 8, 9, 10, 11]\n"
       ]
      }
     ],
     "prompt_number": 14
    },
    {
     "cell_type": "code",
     "collapsed": false,
     "input": [
      "all_engines['X_train'] = X_train\n",
      "all_engines['X_test'] = X_test\n",
      "all_engines['y_train'] = y_train\n",
      "all_engines['y_test'] = y_test"
     ],
     "language": "python",
     "metadata": {},
     "outputs": [],
     "prompt_number": 15
    },
    {
     "cell_type": "code",
     "collapsed": false,
     "input": [
      "results = lview.map(benchmark, clfs)"
     ],
     "language": "python",
     "metadata": {},
     "outputs": [],
     "prompt_number": 16
    },
    {
     "cell_type": "code",
     "collapsed": false,
     "input": [
      "%time print results.get()"
     ],
     "language": "python",
     "metadata": {},
     "outputs": [
      {
       "output_type": "stream",
       "stream": "stdout",
       "text": [
        "[('RidgeClassifier', 0.71328212862035567), ('KNeighborsClassifier', 0.063503741240767103), ('PassiveAggressiveClassifier', 0.69957166109026914), ('Perceptron', 0.66469337193714717), ('LinearSVC', 0.71214698546325539), ('SGDClassifier', 0.7161591062412791), ('LinearSVC', 0.68470233924679413), ('SGDClassifier', 0.64600633900286231)]\n",
        "CPU times: user 498 ms, sys: 45 ms, total: 543 ms\n",
        "Wall time: 6.97 s\n"
       ]
      }
     ],
     "prompt_number": 17
    },
    {
     "cell_type": "code",
     "collapsed": false,
     "input": [
      "a = np.array([1,2,3,4])\n",
      "all_engines['a'] = a"
     ],
     "language": "python",
     "metadata": {},
     "outputs": [],
     "prompt_number": 30
    },
    {
     "cell_type": "code",
     "collapsed": false,
     "input": [
      "c[0]['a'][0] = 10"
     ],
     "language": "python",
     "metadata": {},
     "outputs": [
      {
       "ename": "ValueError",
       "evalue": "assignment destination is read-only",
       "output_type": "pyerr",
       "traceback": [
        "\u001b[1;31m---------------------------------------------------------------------------\u001b[0m\n\u001b[1;31mValueError\u001b[0m                                Traceback (most recent call last)",
        "\u001b[1;32m<ipython-input-32-a84b4690ef67>\u001b[0m in \u001b[0;36m<module>\u001b[1;34m()\u001b[0m\n\u001b[1;32m----> 1\u001b[1;33m \u001b[0mc\u001b[0m\u001b[1;33m[\u001b[0m\u001b[1;36m0\u001b[0m\u001b[1;33m]\u001b[0m\u001b[1;33m[\u001b[0m\u001b[1;34m'a'\u001b[0m\u001b[1;33m]\u001b[0m\u001b[1;33m[\u001b[0m\u001b[1;36m0\u001b[0m\u001b[1;33m]\u001b[0m \u001b[1;33m=\u001b[0m \u001b[1;36m10\u001b[0m\u001b[1;33m\u001b[0m\u001b[0m\n\u001b[0m",
        "\u001b[1;31mValueError\u001b[0m: assignment destination is read-only"
       ]
      }
     ],
     "prompt_number": 32
    },
    {
     "cell_type": "code",
     "collapsed": false,
     "input": [],
     "language": "python",
     "metadata": {},
     "outputs": []
    }
   ],
   "metadata": {}
  }
 ]
}