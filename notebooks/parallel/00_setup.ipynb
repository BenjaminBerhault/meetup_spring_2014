{
 "metadata": {
  "name": "",
  "signature": "sha256:1a8a70f1a5986ba1a509aced3a7baa0fcbb228a4c17bcbf3da95202ed747f795"
 },
 "nbformat": 3,
 "nbformat_minor": 0,
 "worksheets": [
  {
   "cells": [
    {
     "cell_type": "heading",
     "level": 1,
     "metadata": {},
     "source": [
      "Plot util"
     ]
    },
    {
     "cell_type": "code",
     "collapsed": false,
     "input": [
      "%%writefile smash.py\n",
      "\n",
      "\n",
      "try:\n",
      "\tfrom IPython.core.getipython import get_ipython\n",
      "\tfrom matplotlib.figure import Figure\n",
      "except ImportError:\n",
      "\traise ImportError('This feature requires IPython 1.0+ and Matplotlib')\n",
      "    \n",
      "def print_fig(fig):\n",
      "\tfor ax in fig.axes:\n",
      "\t\tfor s in ['bottom', 'left', 'top', 'right']:\n",
      "\t\t\tax.spines[s].set_linewidth(0.7)\n",
      "\t\t\tax.spines[s].set_color('grey')  \n",
      "\n",
      "\t\tfor s in ['top','right']:\n",
      "\t\t\tax.spines[s].set_visible(False)\n",
      "\t        \n",
      "\t\tax.patch.set_facecolor('1.0')\n",
      "\t\tax.grid(False)\n",
      "\n",
      "\t\tax.tick_params(direction='out', \n",
      "\t\t               length=10, \n",
      "\t\t               width=1., \n",
      "\t\t               colors='grey',\n",
      "\t\t               bottom='on',\n",
      "\t\t               top='off', \n",
      "\t\t               left='on', \n",
      "\t\t               right='off',\n",
      "\t\t               pad=12\n",
      "\t\t               )\n",
      "\t\t\n",
      "\t\tif ax.legend_ is not None:\n",
      "\t\t\tax.legend_.get_frame().set_linewidth(0)\n",
      "\t\t\tax.legend_.get_frame().set_alpha(0.5)\n",
      "\n",
      "ip = get_ipython()\n",
      "formatter = ip.display_formatter.formatters['text/html']\n",
      "formatter.for_type(Figure, print_fig)"
     ],
     "language": "python",
     "metadata": {},
     "outputs": [
      {
       "output_type": "stream",
       "stream": "stdout",
       "text": [
        "Overwriting smash.py\n"
       ]
      }
     ],
     "prompt_number": 1
    },
    {
     "cell_type": "code",
     "collapsed": false,
     "input": [
      "import os\n",
      "\n",
      "directory = os.path.join(os.environ['HOME'],'.matplotlib')\n",
      "\n",
      "if not os.path.exists(directory):\n",
      "    os.makedirs(directory)\n",
      "    print 'creating', directory\n",
      "else:\n",
      "    print directory, 'exists'"
     ],
     "language": "python",
     "metadata": {},
     "outputs": [
      {
       "output_type": "stream",
       "stream": "stdout",
       "text": [
        "/home/molu8455/.matplotlib exists\n"
       ]
      }
     ],
     "prompt_number": 2
    },
    {
     "cell_type": "code",
     "collapsed": false,
     "input": [
      "filename = os.path.join(directory,'matplotlibrc')\n",
      "print filename"
     ],
     "language": "python",
     "metadata": {},
     "outputs": [
      {
       "output_type": "stream",
       "stream": "stdout",
       "text": [
        "/home/molu8455/.matplotlib/matplotlibrc\n"
       ]
      }
     ],
     "prompt_number": 3
    },
    {
     "cell_type": "code",
     "collapsed": false,
     "input": [
      "with open(filename,'w') as outfile:\n",
      "    outfile.write('''\n",
      "patch.linewidth: 0.5\n",
      "patch.facecolor: 348ABD\n",
      "patch.facecolor: white\n",
      "\n",
      "patch.edgecolor: EEEEEE\n",
      "patch.antialiased: True\n",
      "\n",
      "font.size: 10.0\n",
      "\n",
      "axes.facecolor: white\n",
      "axes.edgecolor: white\n",
      "axes.linewidth: 1\n",
      "axes.grid: True\n",
      "axes.titlesize: x-large\n",
      "axes.labelsize: large\n",
      "axes.labelcolor: 555555\n",
      "axes.axisbelow: True       # grid/ticks are below elements (eg lines, text)\n",
      "\n",
      "axes.color_cycle: E24A33, 348ABD, 988ED5, 777777, FBC15E, 8EBA42, FFB5B8\n",
      "                   # E24A33 : red\n",
      "                   # 348ABD : blue\n",
      "                   # 988ED5 : purple\n",
      "                   # 777777 : gray\n",
      "                   # FBC15E : yellow\n",
      "                   # 8EBA42 : green\n",
      "                   # FFB5B8 : pink\n",
      "\n",
      "xtick.color: 555555\n",
      "xtick.direction: out\n",
      "\n",
      "ytick.color: 555555\n",
      "ytick.direction: out\n",
      "\n",
      "grid.color: white\n",
      "grid.linestyle: -    # solid line\n",
      "\n",
      "figure.facecolor: white\n",
      "figure.edgecolor: 0.50\n",
      "\n",
      "legend.scatterpoints: 1\n",
      "legend.frameon: True''')"
     ],
     "language": "python",
     "metadata": {},
     "outputs": [],
     "prompt_number": 4
    },
    {
     "cell_type": "code",
     "collapsed": false,
     "input": [],
     "language": "python",
     "metadata": {},
     "outputs": []
    }
   ],
   "metadata": {}
  }
 ]
}