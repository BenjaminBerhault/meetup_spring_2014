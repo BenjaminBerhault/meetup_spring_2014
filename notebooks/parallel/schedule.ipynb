{
 "metadata": {
  "name": "",
  "signature": "sha256:1e355c9550a86c9aca7fc9a51dbfbc3290aaf26d1d2467132f2e0c2ec7f7b563"
 },
 "nbformat": 3,
 "nbformat_minor": 0,
 "worksheets": [
  {
   "cells": [
    {
     "cell_type": "heading",
     "level": 1,
     "metadata": {},
     "source": [
      "Multiprocessing"
     ]
    },
    {
     "cell_type": "heading",
     "level": 2,
     "metadata": {},
     "source": [
      "Serial execution"
     ]
    },
    {
     "cell_type": "markdown",
     "metadata": {},
     "source": [
      "Define a work function"
     ]
    },
    {
     "cell_type": "code",
     "collapsed": false,
     "input": [
      "import time\n",
      "import os\n",
      "\n",
      "def work(x):\n",
      "    start_time = time.time()\n",
      "    time.sleep(x)\n",
      "    end_time =  time.time()\n",
      "    return {'id': os.getpid(), 'start': start_time, 'end_time': end_time}"
     ],
     "language": "python",
     "metadata": {},
     "outputs": [],
     "prompt_number": 1
    },
    {
     "cell_type": "markdown",
     "metadata": {},
     "source": [
      "I want to call this several times."
     ]
    },
    {
     "cell_type": "code",
     "collapsed": false,
     "input": [
      "import numpy as np\n",
      "np.random.seed(1045)\n",
      "job_times = np.random.uniform(0.4, 0.6, 20)"
     ],
     "language": "python",
     "metadata": {},
     "outputs": [],
     "prompt_number": 2
    },
    {
     "cell_type": "code",
     "collapsed": false,
     "input": [
      "job_times"
     ],
     "language": "python",
     "metadata": {},
     "outputs": [
      {
       "metadata": {},
       "output_type": "pyout",
       "prompt_number": 3,
       "text": [
        "array([ 0.55091126,  0.50701849,  0.49443428,  0.55196204,  0.58193838,\n",
        "        0.4638717 ,  0.40086182,  0.52797053,  0.48278769,  0.4659747 ,\n",
        "        0.40345878,  0.57094102,  0.4590406 ,  0.43056043,  0.52890515,\n",
        "        0.48332236,  0.58787676,  0.54279618,  0.46732475,  0.41611437])"
       ]
      }
     ],
     "prompt_number": 3
    },
    {
     "cell_type": "code",
     "collapsed": false,
     "input": [
      "%time results = map(work, job_times)"
     ],
     "language": "python",
     "metadata": {},
     "outputs": [
      {
       "output_type": "stream",
       "stream": "stdout",
       "text": [
        "CPU times: user 0 ns, sys: 4 ms, total: 4 ms\n",
        "Wall time: 9.93 s\n"
       ]
      }
     ],
     "prompt_number": 4
    },
    {
     "cell_type": "code",
     "collapsed": false,
     "input": [
      "%matplotlib inline\n",
      "import matplotlib.pyplot as plt\n",
      "import pandas as pd"
     ],
     "language": "python",
     "metadata": {},
     "outputs": [],
     "prompt_number": 36
    },
    {
     "cell_type": "code",
     "collapsed": false,
     "input": [
      "df = pd.DataFrame(results)\n",
      "df['st'] = df['start'] - df['start'].min()\n",
      "df['dur'] = (df['end_time'] - df['start'])\n",
      "\n",
      "fig, ax = plt.subplots(figsize=(8, 6))\n",
      "for i, ( s, e ) in enumerate(zip(df['st'],df['dur'])):\n",
      "    ax.add_patch(Rectangle((s, i), e, 0.8, alpha=0.5, color='grey'))\n",
      "\n",
      "ax.set_xlim(0,df['end_time'].max() - df['start'].min())\n",
      "ax.set_ylim(0,len(df))\n",
      "\n",
      "ax.set_ylabel(\"job number\")\n",
      "ax.set_xlabel(\"seconds\")    \n",
      "plt.show()"
     ],
     "language": "python",
     "metadata": {},
     "outputs": [
      {
       "metadata": {},
       "output_type": "display_data",
       "png": "[encoded data removed]",
       "text": [
        "<matplotlib.figure.Figure at 0x428a610>"
       ]
      }
     ],
     "prompt_number": 35
    },
    {
     "cell_type": "markdown",
     "metadata": {},
     "source": [
      "Let's speed things up!"
     ]
    },
    {
     "cell_type": "heading",
     "level": 2,
     "metadata": {},
     "source": [
      "Parallel Execution"
     ]
    },
    {
     "cell_type": "code",
     "collapsed": false,
     "input": [
      "import multiprocessing"
     ],
     "language": "python",
     "metadata": {},
     "outputs": [],
     "prompt_number": 31
    },
    {
     "cell_type": "markdown",
     "metadata": {},
     "source": [
      "Create a group of workers (Pool)"
     ]
    },
    {
     "cell_type": "code",
     "collapsed": false,
     "input": [
      "num_cores = multiprocessing.cpu_count()\n",
      "pool = multiprocessing.Pool(num_cores)\n",
      "print num_cores"
     ],
     "language": "python",
     "metadata": {},
     "outputs": [
      {
       "output_type": "stream",
       "stream": "stdout",
       "text": [
        "8\n"
       ]
      }
     ],
     "prompt_number": 32
    },
    {
     "cell_type": "code",
     "collapsed": false,
     "input": [
      "%time results = pool.map(work,job_times)"
     ],
     "language": "python",
     "metadata": {},
     "outputs": [
      {
       "output_type": "stream",
       "stream": "stdout",
       "text": [
        "CPU times: user 0 ns, sys: 4 ms, total: 4 ms\n",
        "Wall time: 1.48 s\n"
       ]
      }
     ],
     "prompt_number": 33
    },
    {
     "cell_type": "heading",
     "level": 2,
     "metadata": {},
     "source": [
      "What does this look like?"
     ]
    },
    {
     "cell_type": "code",
     "collapsed": false,
     "input": [
      "# df = pd.DataFrame(results)\n",
      "# df['st'] = df['start'] - df['start'].min()\n",
      "\n",
      "# plt.plot(df['st'].values, '-o')\n",
      "# plt.show()\n",
      "\n",
      "df = pd.DataFrame(results)\n",
      "df['st'] = df['start'] - df['start'].min()\n",
      "df['dur'] = (df['end_time'] - df['start'])\n",
      "\n",
      "fig, ax = plt.subplots(figsize=(8, 6))\n",
      "for i, ( s, e ) in enumerate(zip(df['st'],df['dur'])):\n",
      "    ax.add_patch(Rectangle((s, i), e, 0.8, alpha=0.5, color='grey'))\n",
      "\n",
      "ax.set_xlim(0,df['end_time'].max() - df['start'].min())\n",
      "ax.set_ylim(0,len(df))\n",
      "\n",
      "ax.set_ylabel(\"job number\")\n",
      "ax.set_xlabel(\"seconds\")    \n",
      "plt.show()\n"
     ],
     "language": "python",
     "metadata": {},
     "outputs": [
      {
       "metadata": {},
       "output_type": "display_data",
       "png": "[encoded data removed]",
       "text": [
        "<matplotlib.figure.Figure at 0x3d9e9d0>"
       ]
      }
     ],
     "prompt_number": 34
    },
    {
     "cell_type": "code",
     "collapsed": false,
     "input": [
      "def plot_workflow(results):\n",
      "    res = pd.DataFrame(results)\n",
      "    ids = list(set(res['id']))\n",
      "    id_dic = dict( [k,v+0.65] for k,v in zip(ids, range(len(ids))))\n",
      "    fig, ax = plt.subplots(figsize=(8, 6))\n",
      "\n",
      "    tmin = res['start'].min()    \n",
      "    for i in res.index:\n",
      "        x_start = res.ix[i]['start'] - tmin\n",
      "        x_end = res.ix[i]['end_time'] - tmin - x_start\n",
      "        x_id = id_dic[res.ix[i]['id']]\n",
      "        ax.add_patch(Rectangle((x_start, x_id), x_end, 0.8, alpha=0.5, color='grey'))\n",
      "    \n",
      "    ax.set_ylim(0.5, len(ids)+0.5)\n",
      "    ax.set_xlim(0, res['end_time'].max() - tmin)\n",
      "    ax.set_ylabel(\"Worker\")\n",
      "    ax.set_xlabel(\"seconds\")\n"
     ],
     "language": "python",
     "metadata": {},
     "outputs": [],
     "prompt_number": 118
    },
    {
     "cell_type": "code",
     "collapsed": false,
     "input": [
      "plot_workflow(results)"
     ],
     "language": "python",
     "metadata": {},
     "outputs": [
      {
       "metadata": {},
       "output_type": "display_data",
       "png": "[encoded data removed]",
       "text": [
        "<matplotlib.figure.Figure at 0x352f550>"
       ]
      }
     ],
     "prompt_number": 119
    },
    {
     "cell_type": "markdown",
     "metadata": {},
     "source": [
      "http://bl.ocks.org/mlunacek/6590169"
     ]
    }
   ],
   "metadata": {}
  }
 ]
}