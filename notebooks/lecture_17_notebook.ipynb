{
 "metadata": {
  "celltoolbar": "Slideshow",
  "name": "",
  "signature": "sha256:727cf9d88a0ca68c340016cb1d644a6bf2187728d9cb0d8473ae8b5d0a60d739"
 },
 "nbformat": 3,
 "nbformat_minor": 0,
 "worksheets": [
  {
   "cells": [
    {
     "cell_type": "heading",
     "level": 1,
     "metadata": {
      "slideshow": {
       "slide_type": "slide"
      }
     },
     "source": [
      "IPython Notebook"
     ]
    },
    {
     "cell_type": "markdown",
     "metadata": {},
     "source": [
      "Monte Lunacek<br>\n",
      "Research Computing"
     ]
    },
    {
     "cell_type": "heading",
     "level": 2,
     "metadata": {
      "slideshow": {
       "slide_type": "slide"
      }
     },
     "source": [
      "Outline"
     ]
    },
    {
     "cell_type": "markdown",
     "metadata": {},
     "source": [
      "- What is the `IPython` Notebook?\n",
      "- Quick example\n",
      "- Top 10 features"
     ]
    },
    {
     "cell_type": "heading",
     "level": 2,
     "metadata": {
      "slideshow": {
       "slide_type": "slide"
      }
     },
     "source": [
      "What is the `IPython Notebook`?"
     ]
    },
    {
     "cell_type": "markdown",
     "metadata": {},
     "source": [
      "Web-based interactive `Python` programming environment.\n",
      "\n",
      "- One document for code and output\n",
      "- Run locally and remote\n",
      "- Document process\n",
      "- Share results"
     ]
    },
    {
     "cell_type": "heading",
     "level": 2,
     "metadata": {
      "slideshow": {
       "slide_type": "slide"
      }
     },
     "source": [
      "Does not separate code and output"
     ]
    },
    {
     "cell_type": "markdown",
     "metadata": {},
     "source": [
      "- Data structure ouput\n",
      "- Inline plots\n",
      "- [Literate programming](http://en.wikipedia.org/wiki/Literate_programming)\n",
      "    - Conversation\n",
      "    - Telling a data story\n",
      "\n",
      "\n",
      "- Great for *iterative* programming.\n",
      "    - Data analysis\n",
      "    - Quick scripts\n",
      "    - Prototyping"
     ]
    },
    {
     "cell_type": "heading",
     "level": 2,
     "metadata": {
      "slideshow": {
       "slide_type": "slide"
      }
     },
     "source": [
      " Local and Remote"
     ]
    },
    {
     "cell_type": "markdown",
     "metadata": {},
     "source": [
      "- Run locally\n",
      "- Connect to the cloud (e.g [AWS](http://aws.amazon.com/))\n",
      "- Connect to supercomputer (e.g. [JANUS](https://www.rc.colorado.edu/services/compute/janus))\n",
      "- Add compute power:\n",
      "    - [mpi4py](http://mpi4py.scipy.org/)\n",
      "    - [IPython Parallel](http://ipython.org/ipython-doc/dev/parallel/)\n",
      "    - [spark](http://spark.incubator.apache.org/) MapReduce\n",
      "    - [Numbapro](http://docs.continuum.io/numbapro/) GPU\n",
      "    - ...\n",
      "    "
     ]
    },
    {
     "cell_type": "heading",
     "level": 2,
     "metadata": {
      "slideshow": {
       "slide_type": "slide"
      }
     },
     "source": [
      "Documentation and Sharing"
     ]
    },
    {
     "cell_type": "markdown",
     "metadata": {},
     "source": [
      "- Plain text, `markdown`, `HTML`\n",
      "- Equations with Latex\n",
      "- Embeded graphics\n",
      "    - `matplotlib`\n",
      "    - HTML5 technologies (e.g. images, movies, D3.js)"
     ]
    },
    {
     "cell_type": "heading",
     "level": 2,
     "metadata": {
      "slideshow": {
       "slide_type": "slide"
      }
     },
     "source": [
      "It's just a `json` file."
     ]
    },
    {
     "cell_type": "code",
     "collapsed": false,
     "input": [
      "with open('lecture_17_notebook.ipynb','r') as infile:\n",
      "    tmp = infile.read()\n",
      "    inx = tmp.find(\"It's just a `json` file\")\n",
      "    print tmp[inx-50:inx+300]"
     ],
     "language": "python",
     "metadata": {},
     "outputs": [
      {
       "output_type": "stream",
       "stream": "stdout",
       "text": [
        ": \"slide\"\n",
        "      }\n",
        "     },\n",
        "     \"source\": [\n",
        "      \"It's just a `json` file.\"\n",
        "     ]\n",
        "    },\n",
        "    {\n",
        "     \"cell_type\": \"code\",\n",
        "     \"collapsed\": false,\n",
        "     \"input\": [\n",
        "      \"with open('lecture_17_notebook.ipynb','r') as infile:\\n\",\n",
        "      \"    tmp = infile.read()\\n\",\n",
        "      \"    inx = tmp.find(\\\"It's just a `json` file\\\")\\n\",\n",
        "      \"    print tmp[inx:inx\n"
       ]
      }
     ],
     "prompt_number": 7
    },
    {
     "cell_type": "heading",
     "level": 2,
     "metadata": {
      "slideshow": {
       "slide_type": "slide"
      }
     },
     "source": [
      "Perspective"
     ]
    },
    {
     "cell_type": "markdown",
     "metadata": {},
     "source": [
      "- Fernando Perez: [The IPython notebook: a historical retrospective](http://blog.fperez.org/2012/01/ipython-notebook-historical.html)\n",
      "    - 2001: `IPython` begins.\n",
      "    - 2005: Started working on an early prototype.\n",
      "    - 2011: First official release.\n",
      "    \n",
      "    \n",
      "- Similar to \n",
      "    - [Mathematica notebooks](http://www.wolfram.com/mathematica/)\n",
      "    - [Maple worksheets](http://www.maplesoft.com/products/Maple/)\n",
      "    - [Sage notebook](http://www.sagenb.org/)"
     ]
    },
    {
     "cell_type": "code",
     "collapsed": false,
     "input": [],
     "language": "python",
     "metadata": {},
     "outputs": []
    }
   ],
   "metadata": {}
  }
 ]
}