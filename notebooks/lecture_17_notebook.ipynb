{
 "metadata": {
  "name": "",
  "signature": "sha256:571fed0d616146ecec033c9062363c1f8b43d231afbcbed1be5851bd40905542"
 },
 "nbformat": 3,
 "nbformat_minor": 0,
 "worksheets": [
  {
   "cells": [
    {
     "cell_type": "markdown",
     "metadata": {},
     "source": [
      "<img src='https://www.rc.colorado.edu/sites/all/themes/research/logo.png' height=\"50px\">"
     ]
    },
    {
     "cell_type": "heading",
     "level": 1,
     "metadata": {
      "slideshow": {
       "slide_type": "slide"
      }
     },
     "source": [
      "IPython Notebook"
     ]
    },
    {
     "cell_type": "markdown",
     "metadata": {},
     "source": [
      "Interactive web-based computing, data analysis, and documentation."
     ]
    },
    {
     "cell_type": "heading",
     "level": 2,
     "metadata": {
      "slideshow": {
       "slide_type": "-"
      }
     },
     "source": [
      "Outline"
     ]
    },
    {
     "cell_type": "markdown",
     "metadata": {},
     "source": [
      "- What is the IPython Notebook?\n",
      "- Top features.\n",
      "- Running bash, R, and other languages.\n",
      "- Remote execution on your favorite cluster"
     ]
    },
    {
     "cell_type": "markdown",
     "metadata": {
      "slideshow": {
       "slide_type": "slide"
      }
     },
     "source": [
      "<img src='https://s3.amazonaws.com/research_computing_tutorials/traditional.png'>"
     ]
    },
    {
     "cell_type": "markdown",
     "metadata": {
      "slideshow": {
       "slide_type": "slide"
      }
     },
     "source": [
      "<img src=\"https://s3.amazonaws.com/research_computing_tutorials/notebook.png\">"
     ]
    },
    {
     "cell_type": "heading",
     "level": 2,
     "metadata": {
      "slideshow": {
       "slide_type": "slide"
      }
     },
     "source": [
      "What is the IPython Notebook?"
     ]
    },
    {
     "cell_type": "markdown",
     "metadata": {},
     "source": [
      "Web-based interactive `Python` programming environment.\n",
      "\n",
      "- One document for code and output\n",
      "- Run locally and remote\n",
      "- Document process\n",
      "- Share results"
     ]
    },
    {
     "cell_type": "heading",
     "level": 3,
     "metadata": {
      "slideshow": {
       "slide_type": "slide"
      }
     },
     "source": [
      "Does not separate code and text"
     ]
    },
    {
     "cell_type": "markdown",
     "metadata": {},
     "source": [
      "- Data structure ouput\n",
      "- Inline plots\n",
      "- [Literate programming](http://en.wikipedia.org/wiki/Literate_programming)\n",
      "    - Conversation, telling a data story\n",
      "\n",
      "\n",
      "- Great for *iterative* programming.\n",
      "    - Data analysis\n",
      "    - Quick scripts\n",
      "    - Prototyping"
     ]
    },
    {
     "cell_type": "heading",
     "level": 3,
     "metadata": {
      "slideshow": {
       "slide_type": "slide"
      }
     },
     "source": [
      "Locally and Remote"
     ]
    },
    {
     "cell_type": "markdown",
     "metadata": {},
     "source": [
      "- Run locally\n",
      "- Connect to the cloud (e.g [AWS](http://aws.amazon.com/))\n",
      "- Connect to supercomputer (e.g. [JANUS](https://www.rc.colorado.edu/services/compute/janus))\n",
      "- Add compute power:\n",
      "    - [mpi4py](http://mpi4py.scipy.org/)\n",
      "    - [IPython Parallel](http://ipython.org/ipython-doc/dev/parallel/)\n",
      "    - [spark](http://spark.incubator.apache.org/) MapReduce\n",
      "    - [Numbapro](http://docs.continuum.io/numbapro/) GPU\n",
      "    - ...\n",
      "    "
     ]
    },
    {
     "cell_type": "heading",
     "level": 3,
     "metadata": {
      "slideshow": {
       "slide_type": "slide"
      }
     },
     "source": [
      "Documentation and Sharing"
     ]
    },
    {
     "cell_type": "markdown",
     "metadata": {},
     "source": [
      "<img src='https://s3.amazonaws.com/research_computing_tutorials/share.png'>"
     ]
    },
    {
     "cell_type": "heading",
     "level": 3,
     "metadata": {},
     "source": [
      "It's just a `json` file"
     ]
    },
    {
     "cell_type": "code",
     "collapsed": false,
     "input": [
      "with open('02_notebooks.ipynb','r') as infile:\n",
      "    tmp = infile.read()\n",
      "    inx = tmp.find(\"It's just a `json` file\")\n",
      "    \n",
      "print tmp[inx-200:inx+200]"
     ],
     "language": "python",
     "metadata": {
      "slideshow": {
       "slide_type": "slide"
      }
     },
     "outputs": []
    },
    {
     "cell_type": "heading",
     "level": 3,
     "metadata": {},
     "source": [
      "Perspective"
     ]
    },
    {
     "cell_type": "markdown",
     "metadata": {
      "slideshow": {
       "slide_type": "slide"
      }
     },
     "source": [
      "- Fernando Perez: [The IPython notebook: a historical retrospective](http://blog.fperez.org/2012/01/ipython-notebook-historical.html)\n",
      "    - 2001: `IPython` begins.\n",
      "    - 2005: Started working on an early prototype.\n",
      "    - 2011: First official release.\n",
      "- Similar to \n",
      "    - [Mathematica notebooks](http://www.wolfram.com/mathematica/)\n",
      "    - [Maple worksheets](http://www.maplesoft.com/products/Maple/)\n",
      "    - [Sage notebook](http://www.sagenb.org/)"
     ]
    },
    {
     "cell_type": "heading",
     "level": 3,
     "metadata": {
      "slideshow": {
       "slide_type": "slide"
      }
     },
     "source": [
      "Keyboard Shortcuts"
     ]
    },
    {
     "cell_type": "markdown",
     "metadata": {},
     "source": [
      "<img src='https://s3.amazonaws.com/research_computing_tutorials/help.png'>"
     ]
    },
    {
     "cell_type": "heading",
     "level": 3,
     "metadata": {
      "slideshow": {
       "slide_type": "slide"
      }
     },
     "source": [
      "`Markdown` and `Latex`"
     ]
    },
    {
     "cell_type": "markdown",
     "metadata": {},
     "source": [
      "- `Markdown`\n",
      "- Latex $y = \\sqrt{a + b}$"
     ]
    },
    {
     "cell_type": "heading",
     "level": 3,
     "metadata": {},
     "source": [
      "Images"
     ]
    },
    {
     "cell_type": "markdown",
     "metadata": {},
     "source": [
      "    <img src='images/monty-python.png' width=\"400\">"
     ]
    },
    {
     "cell_type": "markdown",
     "metadata": {},
     "source": [
      "This is an image:\n",
      "<img src='https://s3.amazonaws.com/research_computing_tutorials/monty-python.png' width=\"400\">"
     ]
    },
    {
     "cell_type": "heading",
     "level": 3,
     "metadata": {
      "slideshow": {
       "slide_type": "slide"
      }
     },
     "source": [
      "Video"
     ]
    },
    {
     "cell_type": "code",
     "collapsed": false,
     "input": [
      "from IPython.display import YouTubeVideo\n",
      "YouTubeVideo('F4rFuIb1Ie4', start=2400, width=600, height=400)"
     ],
     "language": "python",
     "metadata": {},
     "outputs": []
    },
    {
     "cell_type": "heading",
     "level": 3,
     "metadata": {
      "slideshow": {
       "slide_type": "slide"
      }
     },
     "source": [
      "Embeded plots"
     ]
    },
    {
     "cell_type": "code",
     "collapsed": false,
     "input": [
      "import numpy as np\n",
      "x = np.random.randn(10000)"
     ],
     "language": "python",
     "metadata": {},
     "outputs": [],
     "prompt_number": 3
    },
    {
     "cell_type": "markdown",
     "metadata": {},
     "source": [
      "What does $x$ look like?"
     ]
    },
    {
     "cell_type": "code",
     "collapsed": false,
     "input": [
      "x"
     ],
     "language": "python",
     "metadata": {},
     "outputs": [
      {
       "metadata": {},
       "output_type": "pyout",
       "prompt_number": 4,
       "text": [
        "array([-0.19509931,  1.06224835,  0.31786405, ..., -0.11654655,\n",
        "        0.07016358, -0.20161112])"
       ]
      }
     ],
     "prompt_number": 4
    },
    {
     "cell_type": "code",
     "collapsed": false,
     "input": [
      "%matplotlib inline\n",
      "import matplotlib.pyplot as plt\n",
      "plt.hist(x, bins=50)\n",
      "plt.show()"
     ],
     "language": "python",
     "metadata": {},
     "outputs": [
      {
       "metadata": {},
       "output_type": "display_data",
       "png": "[encoded data removed]",
       "text": [
        "<matplotlib.figure.Figure at 0x10500d6d0>"
       ]
      }
     ],
     "prompt_number": 5
    },
    {
     "cell_type": "heading",
     "level": 3,
     "metadata": {
      "slideshow": {
       "slide_type": "slide"
      }
     },
     "source": [
      "Customizable"
     ]
    },
    {
     "cell_type": "markdown",
     "metadata": {},
     "source": [
      "- Custom `CSS`\n",
      "- Custom `javascript` libraries\n",
      "- Create your own output format.\n",
      "- Tools and workflow"
     ]
    },
    {
     "cell_type": "code",
     "collapsed": false,
     "input": [],
     "language": "python",
     "metadata": {},
     "outputs": [],
     "prompt_number": 5
    },
    {
     "cell_type": "heading",
     "level": 3,
     "metadata": {
      "slideshow": {
       "slide_type": "slide"
      }
     },
     "source": [
      "Magic Commands"
     ]
    },
    {
     "cell_type": "markdown",
     "metadata": {},
     "source": [
      "- Built-in useful functions\n",
      "- `%` line commands\n",
      "- `%%` cell commands"
     ]
    },
    {
     "cell_type": "heading",
     "level": 3,
     "metadata": {
      "slideshow": {
       "slide_type": "slide"
      }
     },
     "source": [
      "Write to a file."
     ]
    },
    {
     "cell_type": "code",
     "collapsed": false,
     "input": [
      "%%writefile example.py\n",
      "\n",
      "def hello():\n",
      "    print 'hello'"
     ],
     "language": "python",
     "metadata": {},
     "outputs": [
      {
       "output_type": "stream",
       "stream": "stdout",
       "text": [
        "Writing example.py\n"
       ]
      }
     ],
     "prompt_number": 6
    },
    {
     "cell_type": "heading",
     "level": 3,
     "metadata": {
      "slideshow": {
       "slide_type": "slide"
      }
     },
     "source": [
      "Load a file into a Notebook."
     ]
    },
    {
     "cell_type": "code",
     "collapsed": false,
     "input": [
      "%load example.py"
     ],
     "language": "python",
     "metadata": {},
     "outputs": [],
     "prompt_number": 7
    },
    {
     "cell_type": "code",
     "collapsed": false,
     "input": [
      "\n",
      "def hello():\n",
      "    print 'hello'"
     ],
     "language": "python",
     "metadata": {},
     "outputs": [],
     "prompt_number": 8
    },
    {
     "cell_type": "code",
     "collapsed": false,
     "input": [
      "hello()"
     ],
     "language": "python",
     "metadata": {},
     "outputs": [
      {
       "output_type": "stream",
       "stream": "stdout",
       "text": [
        "hello\n"
       ]
      }
     ],
     "prompt_number": 9
    },
    {
     "cell_type": "heading",
     "level": 3,
     "metadata": {
      "slideshow": {
       "slide_type": "slide"
      }
     },
     "source": [
      "Execute a file"
     ]
    },
    {
     "cell_type": "markdown",
     "metadata": {},
     "source": [
      "Great for working with your own files."
     ]
    },
    {
     "cell_type": "code",
     "collapsed": false,
     "input": [
      "%%writefile example.py\n",
      "\n",
      "def get():\n",
      "    return 10\n",
      "    \n",
      "A = get()"
     ],
     "language": "python",
     "metadata": {},
     "outputs": [
      {
       "output_type": "stream",
       "stream": "stdout",
       "text": [
        "Overwriting example.py\n"
       ]
      }
     ],
     "prompt_number": 10
    },
    {
     "cell_type": "code",
     "collapsed": false,
     "input": [
      "%run example.py\n",
      "\n",
      "print A"
     ],
     "language": "python",
     "metadata": {},
     "outputs": [
      {
       "output_type": "stream",
       "stream": "stdout",
       "text": [
        "10\n"
       ]
      }
     ],
     "prompt_number": 11
    },
    {
     "cell_type": "markdown",
     "metadata": {},
     "source": [
      "**Notice** that `A` is now available."
     ]
    },
    {
     "cell_type": "heading",
     "level": 3,
     "metadata": {
      "slideshow": {
       "slide_type": "slide"
      }
     },
     "source": [
      "`import` and `reload`"
     ]
    },
    {
     "cell_type": "markdown",
     "metadata": {},
     "source": [
      "Great for working with your own `modules`."
     ]
    },
    {
     "cell_type": "code",
     "collapsed": false,
     "input": [
      "import example as ex\n",
      "reload(ex)\n",
      "\n",
      "print ex.get()"
     ],
     "language": "python",
     "metadata": {},
     "outputs": [
      {
       "output_type": "stream",
       "stream": "stdout",
       "text": [
        "10\n"
       ]
      }
     ],
     "prompt_number": 12
    },
    {
     "cell_type": "heading",
     "level": 3,
     "metadata": {
      "slideshow": {
       "slide_type": "slide"
      }
     },
     "source": [
      "Other Languages: Bash"
     ]
    },
    {
     "cell_type": "code",
     "collapsed": false,
     "input": [
      "%%bash\n",
      "ls -l"
     ],
     "language": "python",
     "metadata": {},
     "outputs": [
      {
       "output_type": "stream",
       "stream": "stdout",
       "text": [
        "total 10640\n",
        "-rw-r--r--   1 mlunacek  staff    22688 Apr 11 08:21 00_overview.ipynb\n",
        "-rw-r--r--   1 mlunacek  staff     2677 Apr 11 08:21 00_overview.py\n",
        "-rw-r--r--   1 mlunacek  staff    66938 Apr 11 05:08 01_introduction.ipynb\n",
        "-rw-r--r--   1 mlunacek  staff    16321 Apr 11 05:08 01_introduction.py\n",
        "-rw-r--r--   1 mlunacek  staff    29132 Apr 11 09:15 02_notebooks.ipynb\n",
        "-rw-r--r--   1 mlunacek  staff     6296 Apr 11 09:02 02_notebooks.py\n",
        "-rw-r--r--   1 mlunacek  staff    87735 Apr 11 04:27 03_numpy.ipynb\n",
        "-rw-r--r--   1 mlunacek  staff     7467 Apr 11 04:27 03_numpy.py\n",
        "-rw-r--r--   1 mlunacek  staff   985587 Apr 11 04:28 04_matplotlib.ipynb\n",
        "-rw-r--r--   1 mlunacek  staff    16536 Apr 11 04:28 04_matplotlib.py\n",
        "-rw-r--r--   1 mlunacek  staff    65314 Apr 11 04:27 05_pandas.ipynb\n",
        "-rw-r--r--   1 mlunacek  staff     7194 Apr 11 04:27 05_pandas.py\n",
        "-rw-r--r--   1 mlunacek  staff  4040701 Apr 11 04:27 06_sklearn.ipynb\n",
        "-rw-r--r--   1 mlunacek  staff    24970 Apr 11 04:27 06_sklearn.py\n",
        "-rw-r--r--   1 mlunacek  staff    26192 Apr 11 05:01 07_parallel.ipynb\n",
        "-rw-r--r--   1 mlunacek  staff     2417 Apr 11 05:01 07_parallel.py\n",
        "drwxr-xr-x  19 mlunacek  staff      646 Apr 10 19:24 data\n",
        "-rw-r--r--   1 mlunacek  staff       40 Apr 11 09:15 example.py\n",
        "-rw-r--r--   1 mlunacek  staff      219 Apr 11 09:16 example.pyc\n",
        "drwxr-xr-x  21 mlunacek  staff      714 Apr 11 05:51 img\n"
       ]
      }
     ],
     "prompt_number": 13
    },
    {
     "cell_type": "code",
     "collapsed": false,
     "input": [
      "files = !ls -l # But glob is a better way\n",
      "print files"
     ],
     "language": "python",
     "metadata": {},
     "outputs": [
      {
       "output_type": "stream",
       "stream": "stdout",
       "text": [
        "['total 10640', '-rw-r--r--   1 mlunacek  staff    22688 Apr 11 08:21 00_overview.ipynb', '-rw-r--r--   1 mlunacek  staff     2677 Apr 11 08:21 00_overview.py', '-rw-r--r--   1 mlunacek  staff    66938 Apr 11 05:08 01_introduction.ipynb', '-rw-r--r--   1 mlunacek  staff    16321 Apr 11 05:08 01_introduction.py', '-rw-r--r--   1 mlunacek  staff    29132 Apr 11 09:15 02_notebooks.ipynb', '-rw-r--r--   1 mlunacek  staff     6296 Apr 11 09:02 02_notebooks.py', '-rw-r--r--   1 mlunacek  staff    87735 Apr 11 04:27 03_numpy.ipynb', '-rw-r--r--   1 mlunacek  staff     7467 Apr 11 04:27 03_numpy.py', '-rw-r--r--   1 mlunacek  staff   985587 Apr 11 04:28 04_matplotlib.ipynb', '-rw-r--r--   1 mlunacek  staff    16536 Apr 11 04:28 04_matplotlib.py', '-rw-r--r--   1 mlunacek  staff    65314 Apr 11 04:27 05_pandas.ipynb', '-rw-r--r--   1 mlunacek  staff     7194 Apr 11 04:27 05_pandas.py', '-rw-r--r--   1 mlunacek  staff  4040701 Apr 11 04:27 06_sklearn.ipynb', '-rw-r--r--   1 mlunacek  staff    24970 Apr 11 04:27 06_sklearn.py', '-rw-r--r--   1 mlunacek  staff    26192 Apr 11 05:01 07_parallel.ipynb', '-rw-r--r--   1 mlunacek  staff     2417 Apr 11 05:01 07_parallel.py', 'drwxr-xr-x  19 mlunacek  staff      646 Apr 10 19:24 data', '-rw-r--r--   1 mlunacek  staff       40 Apr 11 09:15 example.py', '-rw-r--r--   1 mlunacek  staff      219 Apr 11 09:16 example.pyc', 'drwxr-xr-x  21 mlunacek  staff      714 Apr 11 05:51 img']\n"
       ]
      }
     ],
     "prompt_number": 14
    },
    {
     "cell_type": "heading",
     "level": 3,
     "metadata": {
      "slideshow": {
       "slide_type": "slide"
      }
     },
     "source": [
      "Other Languages: R"
     ]
    },
    {
     "cell_type": "markdown",
     "metadata": {},
     "source": [
      "- Requires [rpy2](http://rpy.sourceforge.net/)\n",
      "- More [examples](http://nbviewer.ipython.org/github/ipython/ipython/blob/3607712653c66d63e0d7f13f073bde8c0f209ba8/docs/examples/notebooks/rmagic_extension.ipynb)"
     ]
    },
    {
     "cell_type": "code",
     "collapsed": false,
     "input": [
      "%load_ext rmagic\n",
      "%reload_ext rmagic"
     ],
     "language": "python",
     "metadata": {},
     "outputs": [],
     "prompt_number": 15
    },
    {
     "cell_type": "code",
     "collapsed": false,
     "input": [
      "X = np.array([0,1,2,3,4])\n",
      "Y = np.array([3,5,4,6,7])\n",
      "\n",
      "print X, Y"
     ],
     "language": "python",
     "metadata": {},
     "outputs": [
      {
       "output_type": "stream",
       "stream": "stdout",
       "text": [
        "[0 1 2 3 4] [3 5 4 6 7]\n"
       ]
      }
     ],
     "prompt_number": 16
    },
    {
     "cell_type": "code",
     "collapsed": false,
     "input": [
      "%Rpush X Y\n",
      "res = %R lm(Y~X)$coef\n",
      "print res"
     ],
     "language": "python",
     "metadata": {},
     "outputs": [
      {
       "output_type": "stream",
       "stream": "stdout",
       "text": [
        "[ 3.2  0.9]\n"
       ]
      }
     ],
     "prompt_number": 17
    },
    {
     "cell_type": "code",
     "collapsed": false,
     "input": [
      "%%R\n",
      "a = lm(Y~X)\n",
      "a$coef"
     ],
     "language": "python",
     "metadata": {},
     "outputs": [
      {
       "metadata": {},
       "output_type": "display_data",
       "text": [
        "(Intercept)           X \n",
        "        3.2         0.9 \n"
       ]
      }
     ],
     "prompt_number": 18
    },
    {
     "cell_type": "code",
     "collapsed": false,
     "input": [
      "%%R\n",
      "library(ggplot2)\n",
      "p <- ggplot( mtcars, aes( x = wt, y = mpg, color = cyl)) + geom_point()\n",
      "print(p)"
     ],
     "language": "python",
     "metadata": {
      "slideshow": {
       "slide_type": "slide"
      }
     },
     "outputs": [
      {
       "metadata": {},
       "output_type": "display_data",
       "png": "[encoded data removed]"
      }
     ],
     "prompt_number": 19
    },
    {
     "cell_type": "heading",
     "level": 3,
     "metadata": {
      "slideshow": {
       "slide_type": "slide"
      }
     },
     "source": [
      "Keep it all together"
     ]
    },
    {
     "cell_type": "code",
     "collapsed": false,
     "input": [
      "%%writefile example.cpp\n",
      "#include <iostream>\n",
      "\n",
      "int main(){\n",
      "    std::cout << \"hello from c++\" << std::endl;\n",
      "}"
     ],
     "language": "python",
     "metadata": {},
     "outputs": [
      {
       "output_type": "stream",
       "stream": "stdout",
       "text": [
        "Writing example.cpp\n"
       ]
      }
     ],
     "prompt_number": 20
    },
    {
     "cell_type": "code",
     "collapsed": false,
     "input": [
      "%%bash\n",
      "g++ example.cpp -o example\n",
      "./example"
     ],
     "language": "python",
     "metadata": {},
     "outputs": [
      {
       "output_type": "stream",
       "stream": "stdout",
       "text": [
        "hello from c++\n"
       ]
      }
     ],
     "prompt_number": 21
    },
    {
     "cell_type": "heading",
     "level": 2,
     "metadata": {
      "slideshow": {
       "slide_type": "slide"
      }
     },
     "source": [
      "Running on a Remote Cluster"
     ]
    },
    {
     "cell_type": "markdown",
     "metadata": {},
     "source": [
      "Steps:\n",
      "\n",
      "- Login\n",
      "\n",
      "        username@hostname\n",
      "\n",
      "- Start an iteractive job (optional)\n",
      "- Start the notebook:\n",
      "\n",
      "        `ipython notebook --no-browser`\n",
      "\n",
      "- Create an `ssh` tunnel to the node\n",
      "    \n",
      "        ssh -L localport:hostname:remoteport -f -N username@hostname"
     ]
    },
    {
     "cell_type": "markdown",
     "metadata": {
      "slideshow": {
       "slide_type": "slide"
      }
     },
     "source": [
      "Automate:\n",
      "\n",
      "- [starcluster](http://star.mit.edu/cluster/) for AWS\n",
      "- [saga-project](http://saga-project.github.io/)\n",
      "- Roll your own with [paramiko](http://www.lag.net/paramiko/) (example [remotenb](https://github.com/ResearchComputing/remotenb))"
     ]
    },
    {
     "cell_type": "code",
     "collapsed": false,
     "input": [
      "%%bash\n",
      "\n",
      "which notebook.py\n",
      "notebook.py --help"
     ],
     "language": "python",
     "metadata": {},
     "outputs": []
    },
    {
     "cell_type": "heading",
     "level": 2,
     "metadata": {},
     "source": [
      "NBconvert examples"
     ]
    },
    {
     "cell_type": "markdown",
     "metadata": {},
     "source": [
      "- HTML\n",
      "- PDF (print)\n",
      "- Slides\n",
      "- Dynamic Slides\n",
      "- ReStructured Text ([sphinx](http://sphinx-doc.org/))"
     ]
    },
    {
     "cell_type": "code",
     "collapsed": false,
     "input": [],
     "language": "python",
     "metadata": {},
     "outputs": []
    }
   ],
   "metadata": {}
  }
 ]
}